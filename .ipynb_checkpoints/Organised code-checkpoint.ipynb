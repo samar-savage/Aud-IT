{
 "cells": [
  {
   "cell_type": "markdown",
   "id": "55702437",
   "metadata": {},
   "source": [
    "# installation kit"
   ]
  },
  {
   "cell_type": "code",
   "execution_count": 6,
   "id": "16c84b23",
   "metadata": {},
   "outputs": [
    {
     "name": "stdout",
     "output_type": "stream",
     "text": [
      "Requirement already satisfied: openpyxl in c:\\users\\xjs09914403\\anaconda3\\lib\\site-packages (3.0.9)\n",
      "Requirement already satisfied: et-xmlfile in c:\\users\\xjs09914403\\anaconda3\\lib\\site-packages (from openpyxl) (1.1.0)\n",
      "Note: you may need to restart the kernel to use updated packages.\n"
     ]
    }
   ],
   "source": [
    "pip install openpyxl"
   ]
  },
  {
   "cell_type": "markdown",
   "id": "e83e68ba",
   "metadata": {},
   "source": [
    "# working with pdfs"
   ]
  },
  {
   "cell_type": "markdown",
   "id": "58e0dcce",
   "metadata": {},
   "source": [
    "### imports\n"
   ]
  },
  {
   "cell_type": "code",
   "execution_count": 8,
   "id": "7b040398",
   "metadata": {},
   "outputs": [],
   "source": [
    "import PyPDF2 \n",
    "import re\n",
    "import fitz\n",
    "import subprocess\n",
    "import pandas as pd\n",
    "import os\n",
    "\n"
   ]
  },
  {
   "cell_type": "code",
   "execution_count": 2,
   "id": "68024c3d",
   "metadata": {},
   "outputs": [
    {
     "name": "stdout",
     "output_type": "stream",
     "text": [
      "Enter_the_text_to_Search_hereISO 26262-3:2018, Road vehicles — Functional safety — Part 3: Concept phase\n",
      "Found the Text on page 41 from the file : ISO_26262-1.pdf\n",
      "Found the Text on page 89 from the file : ISO_26262-10_Dez.-2018.pdf\n",
      "Found the Text on page 186 from the file : ISO_26262-11_Dez.-2018.pdf\n",
      "Found the Text on page 10 from the file : ISO_26262-12_Dez.-2018.pdf\n",
      "Found the Text on page 10 from the file : ISO_26262-4.pdf\n",
      "Found the Text on page 10 from the file : ISO_26262-6.pdf\n",
      "Found the Text on page 9 from the file : ISO_26262-7.pdf\n",
      "Found the Text on page 12 from the file : ISO_26262-8.pdf\n",
      "Found the Text on page 10 from the file : ISO_26262-9.pdf\n"
     ]
    }
   ],
   "source": [
    "# import required module\n",
    "import os\n",
    "import re\n",
    "import PyPDF2 \n",
    "# assign directory\n",
    "directory = 'C:/Users/XJS09914403/OneDrive - DRAEXLMAIER/Test'\n",
    "# iterate over files in\n",
    "# that directory\n",
    "pattern = re.compile(input(\"Enter_the_text_to_Search_here\"))\n",
    "for filename in os.listdir(directory):\n",
    "    if not filename.startswith('~$') and filename.endswith('.pdf'):\n",
    "        f = os.path.join(directory, filename)\n",
    "        doc = fitz.open(f)\n",
    "        page_count = len(doc)\n",
    "        #print(page_count)\n",
    "        for i in range(0, page_count):\n",
    "            page = doc[i]\n",
    "            text = page.get_text(\"text\")\n",
    "            #print(type(text))\n",
    "            #print(text)\n",
    "            if pattern.search(text):\n",
    "                \n",
    "                print(\"Found the Text on page\",i+1, \"from the file :\", filename)   "
   ]
  },
  {
   "cell_type": "markdown",
   "id": "a15b4b5e",
   "metadata": {},
   "source": [
    "### open specific page of a pdf"
   ]
  },
  {
   "cell_type": "code",
   "execution_count": 5,
   "id": "99765ac1",
   "metadata": {},
   "outputs": [
    {
     "data": {
      "text/plain": [
       "1"
      ]
     },
     "execution_count": 5,
     "metadata": {},
     "output_type": "execute_result"
    }
   ],
   "source": [
    "def open_pdf(filename, page=1):\n",
    "    return subprocess.Popen([\"C:/Program Files (x86)/Adobe/Acrobat Reader DC/Reader/AcroRd32.exe\", '/A', 'page={:d}'.format(page), filename], stdout=subprocess.PIPE)\n",
    " \n",
    "process = open_pdf(\"C:/Users/XJS09914403/OneDrive - DRAEXLMAIER/Test/ISO_26262-7.pdf\", page=15)\n",
    "process.wait()"
   ]
  },
  {
   "cell_type": "markdown",
   "id": "b62808b2",
   "metadata": {},
   "source": [
    "# Working yith Excel files"
   ]
  },
  {
   "cell_type": "code",
   "execution_count": null,
   "id": "a73ccb4b",
   "metadata": {},
   "outputs": [],
   "source": [
    "xl = pd.ExcelFile('C:/Users/Samar/Desktop/5BI4/Stage PFE/essay/Database.xlsx')\n",
    "\n",
    "\n",
    "XX = input(\"Enter_the_text_to_Search_here\")\n",
    "sheet_names = xl.sheet_names  # see all sheet names\n",
    "#print(sheet_names)\n",
    "for tab in sheet_names:\n",
    "    #print(tab)\n",
    "    df = pd.read_excel(xl, tab)\n",
    "    dfk = df.keys()\n",
    "\n",
    "    vals = df.values\n",
    "    #print(vals)\n",
    "    #print(type(vals))\n",
    "    if [s for s in vals if XX in s]:\n",
    "        x =[s for s in vals if XX in s]\n",
    "        print(\"result was found at\",tab)\n",
    "    elif [s for s in dfk if XX in s]:\n",
    "         print(\"result was found at\",tab)\n",
    "    else: \n",
    "        print(\"not found\")\n",
    "    break\n",
    "    "
   ]
  },
  {
   "cell_type": "markdown",
   "id": "adc3afd4",
   "metadata": {},
   "source": [
    "# working with word files"
   ]
  },
  {
   "cell_type": "code",
   "execution_count": null,
   "id": "62780878",
   "metadata": {},
   "outputs": [],
   "source": [
    "# import required module\n",
    "import os\n",
    "import re\n",
    "# assign directory\n",
    "directory = 'C:/Users/XJS09914403/OneDrive - DRAEXLMAIER/Test'\n",
    " \n",
    "# iterate over files in\n",
    "# that directory\n",
    "pattern = re.compile(input(\"Enter_the_text_to_Search_here\"))\n",
    "for filename in os.listdir(directory):\n",
    "    if filename.endswith(\".docx\"):\n",
    "        f = os.path.join(directory, filename)\n",
    "        print(f)\n",
    "        #checking if it is a file\n",
    "        if os.path.isfile(f):\n",
    "            document = Document(f)\n",
    "            for para in document.paragraphs: \n",
    "                if pattern.search(para.text):\n",
    "                    print(\"Found the paragraph in this file\" ,filename)\n",
    "                    print(para.text)\n",
    "            \n",
    "    "
   ]
  }
 ],
 "metadata": {
  "kernelspec": {
   "display_name": "Python 3 (ipykernel)",
   "language": "python",
   "name": "python3"
  },
  "language_info": {
   "codemirror_mode": {
    "name": "ipython",
    "version": 3
   },
   "file_extension": ".py",
   "mimetype": "text/x-python",
   "name": "python",
   "nbconvert_exporter": "python",
   "pygments_lexer": "ipython3",
   "version": "3.9.12"
  }
 },
 "nbformat": 4,
 "nbformat_minor": 5
}
