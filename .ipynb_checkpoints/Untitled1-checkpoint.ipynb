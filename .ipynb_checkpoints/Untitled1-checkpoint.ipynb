{
 "cells": [
  {
   "cell_type": "code",
   "execution_count": 6,
   "id": "e450ff93",
   "metadata": {},
   "outputs": [
    {
     "ename": "RuntimeError",
     "evalue": "Directory 'static/' does not exist",
     "output_type": "error",
     "traceback": [
      "\u001b[1;31m---------------------------------------------------------------------------\u001b[0m",
      "\u001b[1;31mRuntimeError\u001b[0m                              Traceback (most recent call last)",
      "Input \u001b[1;32mIn [6]\u001b[0m, in \u001b[0;36m<cell line: 4>\u001b[1;34m()\u001b[0m\n\u001b[0;32m      2\u001b[0m \u001b[38;5;28;01mimport\u001b[39;00m \u001b[38;5;21;01mglob\u001b[39;00m\n\u001b[0;32m      3\u001b[0m \u001b[38;5;28;01mimport\u001b[39;00m \u001b[38;5;21;01mstring\u001b[39;00m\n\u001b[1;32m----> 4\u001b[0m \u001b[38;5;28;01mimport\u001b[39;00m \u001b[38;5;21;01mfitz\u001b[39;00m\n\u001b[0;32m      5\u001b[0m \u001b[38;5;28;01mimport\u001b[39;00m \u001b[38;5;21;01mglob\u001b[39;00m\n\u001b[0;32m      6\u001b[0m \u001b[38;5;28;01mimport\u001b[39;00m \u001b[38;5;21;01mos\u001b[39;00m\n",
      "File \u001b[1;32m~\\Anaconda3\\lib\\site-packages\\fitz\\__init__.py:1\u001b[0m, in \u001b[0;36m<module>\u001b[1;34m\u001b[0m\n\u001b[1;32m----> 1\u001b[0m \u001b[38;5;28;01mfrom\u001b[39;00m \u001b[38;5;21;01mfrontend\u001b[39;00m \u001b[38;5;28;01mimport\u001b[39;00m \u001b[38;5;241m*\u001b[39m\n\u001b[0;32m      2\u001b[0m \u001b[38;5;28;01mimport\u001b[39;00m \u001b[38;5;21;01mtools\u001b[39;00m\n\u001b[0;32m      3\u001b[0m \u001b[38;5;28;01mimport\u001b[39;00m \u001b[38;5;21;01mos\u001b[39;00m\u001b[38;5;21;01m.\u001b[39;00m\u001b[38;5;21;01mpath\u001b[39;00m \u001b[38;5;28;01mas\u001b[39;00m \u001b[38;5;21;01mop\u001b[39;00m\n",
      "File \u001b[1;32m~\\Anaconda3\\lib\\site-packages\\frontend\\__init__.py:1\u001b[0m, in \u001b[0;36m<module>\u001b[1;34m\u001b[0m\n\u001b[1;32m----> 1\u001b[0m \u001b[38;5;28;01mfrom\u001b[39;00m \u001b[38;5;21;01m.\u001b[39;00m\u001b[38;5;21;01mevents\u001b[39;00m \u001b[38;5;28;01mimport\u001b[39;00m \u001b[38;5;241m*\u001b[39m\n\u001b[0;32m      2\u001b[0m \u001b[38;5;28;01mfrom\u001b[39;00m \u001b[38;5;21;01m.\u001b[39;00m \u001b[38;5;28;01mimport\u001b[39;00m config\n\u001b[0;32m      3\u001b[0m \u001b[38;5;28;01mfrom\u001b[39;00m \u001b[38;5;21;01m.\u001b[39;00m\u001b[38;5;21;01mcomponents\u001b[39;00m \u001b[38;5;28;01mimport\u001b[39;00m \u001b[38;5;241m*\u001b[39m\n",
      "File \u001b[1;32m~\\Anaconda3\\lib\\site-packages\\frontend\\events\\__init__.py:1\u001b[0m, in \u001b[0;36m<module>\u001b[1;34m\u001b[0m\n\u001b[1;32m----> 1\u001b[0m \u001b[38;5;28;01mfrom\u001b[39;00m \u001b[38;5;21;01m.\u001b[39;00m\u001b[38;5;21;01mclipboard\u001b[39;00m \u001b[38;5;28;01mimport\u001b[39;00m \u001b[38;5;241m*\u001b[39m\n\u001b[0;32m      2\u001b[0m \u001b[38;5;28;01mfrom\u001b[39;00m \u001b[38;5;21;01m.\u001b[39;00m\u001b[38;5;21;01mevent_mixins\u001b[39;00m \u001b[38;5;28;01mimport\u001b[39;00m \u001b[38;5;241m*\u001b[39m\n\u001b[0;32m      3\u001b[0m \u001b[38;5;28;01mfrom\u001b[39;00m \u001b[38;5;21;01m.\u001b[39;00m\u001b[38;5;21;01mhash_change\u001b[39;00m \u001b[38;5;28;01mimport\u001b[39;00m \u001b[38;5;241m*\u001b[39m\n",
      "File \u001b[1;32m~\\Anaconda3\\lib\\site-packages\\frontend\\events\\clipboard.py:2\u001b[0m, in \u001b[0;36m<module>\u001b[1;34m\u001b[0m\n\u001b[0;32m      1\u001b[0m \u001b[38;5;28;01mfrom\u001b[39;00m \u001b[38;5;21;01m.\u001b[39;00m\u001b[38;5;21;01mevent_mixins\u001b[39;00m \u001b[38;5;28;01mimport\u001b[39;00m ClipboardDataMixin\n\u001b[1;32m----> 2\u001b[0m \u001b[38;5;28;01mfrom\u001b[39;00m \u001b[38;5;21;01m.\u001b[39;00m\u001b[38;5;21;01m.\u001b[39;00m\u001b[38;5;21;01mdom\u001b[39;00m \u001b[38;5;28;01mimport\u001b[39;00m Event\n\u001b[0;32m      4\u001b[0m __all__ \u001b[38;5;241m=\u001b[39m [\u001b[38;5;124m'\u001b[39m\u001b[38;5;124mClipboardEvent\u001b[39m\u001b[38;5;124m'\u001b[39m]\n\u001b[0;32m      7\u001b[0m \u001b[38;5;28;01mclass\u001b[39;00m \u001b[38;5;21;01mClipboardEvent\u001b[39;00m(Event, ClipboardDataMixin):\n",
      "File \u001b[1;32m~\\Anaconda3\\lib\\site-packages\\frontend\\dom.py:439\u001b[0m, in \u001b[0;36m<module>\u001b[1;34m\u001b[0m\n\u001b[0;32m    435\u001b[0m         \u001b[38;5;28;01mexcept\u001b[39;00m \u001b[38;5;167;01mKeyError\u001b[39;00m:\n\u001b[0;32m    436\u001b[0m             \u001b[38;5;28;01mpass\u001b[39;00m\n\u001b[1;32m--> 439\u001b[0m \u001b[38;5;28;01mfrom\u001b[39;00m \u001b[38;5;21;01m.\u001b[39;00m \u001b[38;5;28;01mimport\u001b[39;00m dispatcher\n",
      "File \u001b[1;32m~\\Anaconda3\\lib\\site-packages\\frontend\\dispatcher.py:15\u001b[0m, in \u001b[0;36m<module>\u001b[1;34m\u001b[0m\n\u001b[0;32m     12\u001b[0m \u001b[38;5;28;01mfrom\u001b[39;00m \u001b[38;5;21;01mstarlette\u001b[39;00m\u001b[38;5;21;01m.\u001b[39;00m\u001b[38;5;21;01mendpoints\u001b[39;00m \u001b[38;5;28;01mimport\u001b[39;00m WebSocketEndpoint\n\u001b[0;32m     13\u001b[0m \u001b[38;5;28;01mfrom\u001b[39;00m \u001b[38;5;21;01mstarlette\u001b[39;00m\u001b[38;5;21;01m.\u001b[39;00m\u001b[38;5;21;01mwebsockets\u001b[39;00m \u001b[38;5;28;01mimport\u001b[39;00m WebSocket\n\u001b[1;32m---> 15\u001b[0m \u001b[38;5;28;01mfrom\u001b[39;00m \u001b[38;5;21;01m.\u001b[39;00m \u001b[38;5;28;01mimport\u001b[39;00m config, server\n\u001b[0;32m     16\u001b[0m \u001b[38;5;28;01mfrom\u001b[39;00m \u001b[38;5;21;01m.\u001b[39;00m\u001b[38;5;21;01masync_utils\u001b[39;00m \u001b[38;5;28;01mimport\u001b[39;00m later_await\n\u001b[0;32m     18\u001b[0m __all__ \u001b[38;5;241m=\u001b[39m [\u001b[38;5;124m'\u001b[39m\u001b[38;5;124mreact\u001b[39m\u001b[38;5;124m'\u001b[39m]\n",
      "File \u001b[1;32m~\\Anaconda3\\lib\\site-packages\\frontend\\server.py:24\u001b[0m, in \u001b[0;36m<module>\u001b[1;34m\u001b[0m\n\u001b[0;32m     21\u001b[0m __all__ \u001b[38;5;241m=\u001b[39m [\u001b[38;5;124m'\u001b[39m\u001b[38;5;124mroute\u001b[39m\u001b[38;5;124m'\u001b[39m, \u001b[38;5;124m'\u001b[39m\u001b[38;5;124mrun\u001b[39m\u001b[38;5;124m'\u001b[39m]\n\u001b[0;32m     23\u001b[0m app: Any \u001b[38;5;241m=\u001b[39m Starlette(debug\u001b[38;5;241m=\u001b[39mconfig\u001b[38;5;241m.\u001b[39mDEBUG)\n\u001b[1;32m---> 24\u001b[0m app\u001b[38;5;241m.\u001b[39mmount(config\u001b[38;5;241m.\u001b[39mSTATIC_ROUTE, \u001b[43mStaticFiles\u001b[49m\u001b[43m(\u001b[49m\u001b[43mdirectory\u001b[49m\u001b[38;5;241;43m=\u001b[39;49m\u001b[43mconfig\u001b[49m\u001b[38;5;241;43m.\u001b[39;49m\u001b[43mSTATIC_DIRECTORY\u001b[49m\u001b[43m)\u001b[49m, name\u001b[38;5;241m=\u001b[39mconfig\u001b[38;5;241m.\u001b[39mSTATIC_NAME)\n\u001b[0;32m     25\u001b[0m app\u001b[38;5;241m.\u001b[39madd_middleware(GZipMiddleware)\n\u001b[0;32m     26\u001b[0m app\u001b[38;5;241m.\u001b[39madd_middleware(\n\u001b[0;32m     27\u001b[0m     CORSMiddleware,\n\u001b[0;32m     28\u001b[0m     allow_origins\u001b[38;5;241m=\u001b[39m[\u001b[38;5;124m\"\u001b[39m\u001b[38;5;124m*\u001b[39m\u001b[38;5;124m\"\u001b[39m],\n\u001b[1;32m   (...)\u001b[0m\n\u001b[0;32m     31\u001b[0m     allow_headers\u001b[38;5;241m=\u001b[39m[\u001b[38;5;124m\"\u001b[39m\u001b[38;5;124m*\u001b[39m\u001b[38;5;124m\"\u001b[39m],\n\u001b[0;32m     32\u001b[0m )\n",
      "File \u001b[1;32m~\\Anaconda3\\lib\\site-packages\\starlette\\staticfiles.py:55\u001b[0m, in \u001b[0;36mStaticFiles.__init__\u001b[1;34m(self, directory, packages, html, check_dir)\u001b[0m\n\u001b[0;32m     53\u001b[0m \u001b[38;5;28mself\u001b[39m\u001b[38;5;241m.\u001b[39mconfig_checked \u001b[38;5;241m=\u001b[39m \u001b[38;5;28;01mFalse\u001b[39;00m\n\u001b[0;32m     54\u001b[0m \u001b[38;5;28;01mif\u001b[39;00m check_dir \u001b[38;5;129;01mand\u001b[39;00m directory \u001b[38;5;129;01mis\u001b[39;00m \u001b[38;5;129;01mnot\u001b[39;00m \u001b[38;5;28;01mNone\u001b[39;00m \u001b[38;5;129;01mand\u001b[39;00m \u001b[38;5;129;01mnot\u001b[39;00m os\u001b[38;5;241m.\u001b[39mpath\u001b[38;5;241m.\u001b[39misdir(directory):\n\u001b[1;32m---> 55\u001b[0m     \u001b[38;5;28;01mraise\u001b[39;00m \u001b[38;5;167;01mRuntimeError\u001b[39;00m(\u001b[38;5;124mf\u001b[39m\u001b[38;5;124m\"\u001b[39m\u001b[38;5;124mDirectory \u001b[39m\u001b[38;5;124m'\u001b[39m\u001b[38;5;132;01m{\u001b[39;00mdirectory\u001b[38;5;132;01m}\u001b[39;00m\u001b[38;5;124m'\u001b[39m\u001b[38;5;124m does not exist\u001b[39m\u001b[38;5;124m\"\u001b[39m)\n",
      "\u001b[1;31mRuntimeError\u001b[0m: Directory 'static/' does not exist"
     ]
    }
   ],
   "source": [
    "import numpy as np\n",
    "import glob\n",
    "import string\n",
    "import fitz\n",
    "import glob\n",
    "import os"
   ]
  },
  {
   "cell_type": "code",
   "execution_count": 5,
   "id": "139ecee9",
   "metadata": {},
   "outputs": [
    {
     "name": "stdout",
     "output_type": "stream",
     "text": [
      "Collecting frontend\n",
      "  Downloading frontend-0.0.3-py3-none-any.whl (32 kB)\n",
      "Requirement already satisfied: itsdangerous>=1.1.0 in c:\\users\\xjs09914403\\anaconda3\\lib\\site-packages (from frontend) (2.0.1)\n",
      "Collecting starlette>=0.12.0\n",
      "  Downloading starlette-0.20.4-py3-none-any.whl (63 kB)\n",
      "Collecting uvicorn>=0.7.1\n",
      "  Downloading uvicorn-0.18.2-py3-none-any.whl (57 kB)\n",
      "Collecting aiofiles\n",
      "  Downloading aiofiles-0.8.0-py3-none-any.whl (13 kB)\n",
      "Requirement already satisfied: anyio<5,>=3.4.0 in c:\\users\\xjs09914403\\anaconda3\\lib\\site-packages (from starlette>=0.12.0->frontend) (3.5.0)\n",
      "Requirement already satisfied: typing-extensions>=3.10.0 in c:\\users\\xjs09914403\\anaconda3\\lib\\site-packages (from starlette>=0.12.0->frontend) (4.1.1)\n",
      "Requirement already satisfied: sniffio>=1.1 in c:\\users\\xjs09914403\\anaconda3\\lib\\site-packages (from anyio<5,>=3.4.0->starlette>=0.12.0->frontend) (1.2.0)\n",
      "Requirement already satisfied: idna>=2.8 in c:\\users\\xjs09914403\\anaconda3\\lib\\site-packages (from anyio<5,>=3.4.0->starlette>=0.12.0->frontend) (3.3)\n",
      "Requirement already satisfied: click>=7.0 in c:\\users\\xjs09914403\\anaconda3\\lib\\site-packages (from uvicorn>=0.7.1->frontend) (8.0.4)\n",
      "Collecting h11>=0.8\n",
      "  Downloading h11-0.13.0-py3-none-any.whl (58 kB)\n",
      "Requirement already satisfied: colorama in c:\\users\\xjs09914403\\anaconda3\\lib\\site-packages (from click>=7.0->uvicorn>=0.7.1->frontend) (0.4.4)\n",
      "Installing collected packages: h11, uvicorn, starlette, aiofiles, frontend\n",
      "Successfully installed aiofiles-0.8.0 frontend-0.0.3 h11-0.13.0 starlette-0.20.4 uvicorn-0.18.2\n",
      "Note: you may need to restart the kernel to use updated packages.\n"
     ]
    }
   ],
   "source": [
    "pip install frontend\n"
   ]
  },
  {
   "cell_type": "code",
   "execution_count": 3,
   "id": "6c26a7bb",
   "metadata": {},
   "outputs": [
    {
     "name": "stdout",
     "output_type": "stream",
     "text": [
      "Collecting fitz\n",
      "  Using cached fitz-0.0.1.dev2-py2.py3-none-any.whl (20 kB)\n",
      "Requirement already satisfied: numpy in c:\\users\\xjs09914403\\anaconda3\\lib\\site-packages (from fitz) (1.21.5)\n",
      "Collecting configobj\n",
      "  Using cached configobj-5.0.6-py3-none-any.whl\n",
      "Collecting nibabel\n",
      "  Downloading nibabel-4.0.1-py3-none-any.whl (3.3 MB)\n",
      "Requirement already satisfied: scipy in c:\\users\\xjs09914403\\anaconda3\\lib\\site-packages (from fitz) (1.7.3)\n",
      "Requirement already satisfied: pandas in c:\\users\\xjs09914403\\anaconda3\\lib\\site-packages (from fitz) (1.4.2)\n",
      "Collecting nipype\n",
      "  Downloading nipype-1.8.3-py3-none-any.whl (3.2 MB)\n",
      "Collecting configparser\n",
      "  Using cached configparser-5.2.0-py3-none-any.whl (19 kB)\n",
      "Collecting httplib2\n",
      "  Using cached httplib2-0.20.4-py3-none-any.whl (96 kB)\n",
      "Collecting pyxnat\n",
      "  Using cached pyxnat-1.4-py3-none-any.whl\n",
      "Requirement already satisfied: six in c:\\users\\xjs09914403\\anaconda3\\lib\\site-packages (from configobj->fitz) (1.16.0)\n",
      "Requirement already satisfied: pyparsing!=3.0.0,!=3.0.1,!=3.0.2,!=3.0.3,<4,>=2.4.2 in c:\\users\\xjs09914403\\anaconda3\\lib\\site-packages (from httplib2->fitz) (3.0.4)\n",
      "Requirement already satisfied: packaging>=17.0 in c:\\users\\xjs09914403\\anaconda3\\lib\\site-packages (from nibabel->fitz) (21.3)\n",
      "Requirement already satisfied: setuptools in c:\\users\\xjs09914403\\anaconda3\\lib\\site-packages (from nibabel->fitz) (61.2.0)\n",
      "Collecting etelemetry>=0.2.0\n",
      "  Using cached etelemetry-0.3.0-py3-none-any.whl (6.3 kB)\n",
      "Requirement already satisfied: networkx>=2.0 in c:\\users\\xjs09914403\\anaconda3\\lib\\site-packages (from nipype->fitz) (2.7.1)\n",
      "Collecting traits!=5.0,>=4.6\n",
      "  Using cached traits-6.3.2-cp39-cp39-win_amd64.whl (5.0 MB)\n",
      "Collecting pydot>=1.2.3\n",
      "  Using cached pydot-1.4.2-py2.py3-none-any.whl (21 kB)\n",
      "Requirement already satisfied: click>=6.6.0 in c:\\users\\xjs09914403\\anaconda3\\lib\\site-packages (from nipype->fitz) (8.0.4)\n",
      "Collecting simplejson>=3.8.0\n",
      "  Using cached simplejson-3.17.6-cp39-cp39-win_amd64.whl (75 kB)\n",
      "Requirement already satisfied: filelock>=3.0.0 in c:\\users\\xjs09914403\\anaconda3\\lib\\site-packages (from nipype->fitz) (3.6.0)\n",
      "Collecting looseversion\n",
      "  Using cached looseversion-1.0.1-py3-none-any.whl (6.4 kB)\n",
      "Collecting rdflib>=5.0.0\n",
      "  Using cached rdflib-6.1.1-py3-none-any.whl (482 kB)\n",
      "Collecting prov>=1.5.2\n",
      "  Using cached prov-2.0.0-py3-none-any.whl (421 kB)\n",
      "Requirement already satisfied: python-dateutil>=2.2 in c:\\users\\xjs09914403\\anaconda3\\lib\\site-packages (from nipype->fitz) (2.8.2)\n",
      "Requirement already satisfied: colorama in c:\\users\\xjs09914403\\anaconda3\\lib\\site-packages (from click>=6.6.0->nipype->fitz) (0.4.4)\n",
      "Requirement already satisfied: requests in c:\\users\\xjs09914403\\anaconda3\\lib\\site-packages (from etelemetry>=0.2.0->nipype->fitz) (2.27.1)\n",
      "Collecting ci-info>=0.2\n",
      "  Using cached ci_info-0.2.0-py3-none-any.whl (6.9 kB)\n",
      "Requirement already satisfied: lxml>=3.3.5 in c:\\users\\xjs09914403\\anaconda3\\lib\\site-packages (from prov>=1.5.2->nipype->fitz) (4.8.0)\n",
      "Collecting isodate\n",
      "  Using cached isodate-0.6.1-py2.py3-none-any.whl (41 kB)\n",
      "Requirement already satisfied: pytz>=2020.1 in c:\\users\\xjs09914403\\anaconda3\\lib\\site-packages (from pandas->fitz) (2021.3)\n",
      "Requirement already satisfied: future>=0.16 in c:\\users\\xjs09914403\\anaconda3\\lib\\site-packages (from pyxnat->fitz) (0.18.2)\n",
      "Collecting pathlib>=1.0\n",
      "  Using cached pathlib-1.0.1-py3-none-any.whl (14 kB)\n",
      "Requirement already satisfied: idna<4,>=2.5 in c:\\users\\xjs09914403\\anaconda3\\lib\\site-packages (from requests->etelemetry>=0.2.0->nipype->fitz) (3.3)\n",
      "Requirement already satisfied: urllib3<1.27,>=1.21.1 in c:\\users\\xjs09914403\\anaconda3\\lib\\site-packages (from requests->etelemetry>=0.2.0->nipype->fitz) (1.26.9)\n",
      "Requirement already satisfied: charset-normalizer~=2.0.0 in c:\\users\\xjs09914403\\anaconda3\\lib\\site-packages (from requests->etelemetry>=0.2.0->nipype->fitz) (2.0.4)\n",
      "Requirement already satisfied: certifi>=2017.4.17 in c:\\users\\xjs09914403\\anaconda3\\lib\\site-packages (from requests->etelemetry>=0.2.0->nipype->fitz) (2021.10.8)\n",
      "Installing collected packages: isodate, rdflib, ci-info, traits, simplejson, pydot, prov, pathlib, nibabel, looseversion, etelemetry, pyxnat, nipype, httplib2, configparser, configobj, fitz\n",
      "Successfully installed ci-info-0.2.0 configobj-5.0.6 configparser-5.2.0 etelemetry-0.3.0 fitz-0.0.1.dev2 httplib2-0.20.4 isodate-0.6.1 looseversion-1.0.1 nibabel-4.0.1 nipype-1.8.3 pathlib-1.0.1 prov-2.0.0 pydot-1.4.2 pyxnat-1.4 rdflib-6.1.1 simplejson-3.17.6 traits-6.3.2\n",
      "Note: you may need to restart the kernel to use updated packages.\n"
     ]
    },
    {
     "name": "stderr",
     "output_type": "stream",
     "text": [
      "ERROR: pip's dependency resolver does not currently take into account all the packages that are installed. This behaviour is the source of the following dependency conflicts.\n",
      "msrest 0.6.21 requires requests-oauthlib>=0.5.0, which is not installed.\n"
     ]
    }
   ],
   "source": [
    "pip install fitz"
   ]
  },
  {
   "cell_type": "code",
   "execution_count": 2,
   "id": "b9131eec",
   "metadata": {},
   "outputs": [],
   "source": [
    "import pdfminer\n",
    "from pdfminer.layout import LAParams, LTTextBox\n",
    "from pdfminer.pdfpage import PDFPage \n",
    "from pdfminer.pdfinterp import PDFResourceManager\n",
    "from pdfminer.pdfinterp import PDFPageInterpreter\n",
    "from pdfminer.converter import PDFPageAggregator\n",
    "rsrcmgr = PDFResourceManager()\n",
    "laparams = LAParams()\n",
    "device = PDFPageAggregator(rsrcmgr, laparams=laparams)\n",
    "interpreter = PDFPageInterpreter(rsrcmgr, device)"
   ]
  },
  {
   "cell_type": "code",
   "execution_count": 3,
   "id": "019422f3",
   "metadata": {},
   "outputs": [],
   "source": [
    "#pages = list(extract_pages('GS-98000-ED.pdf'))\n",
    "from pdfrw import PdfReader, PdfWriter\n",
    "def get_image_layout(layout_object):\n",
    "    if isinstance(layout_object, pdfminer.layout.LTImage):\n",
    "        return layout_object\n",
    "    if isinstance(layout_object, pdfminer.layout.LTContainer):\n",
    "        for child in layout_object:\n",
    "           return get_image_layout(child)\n",
    "    else:\n",
    "        return None\n",
    "   \n",
    "def get_coor(layout,page):\n",
    "    images = list(filter(bool, map(get_image_layout, layout)))\n",
    "    l=[]\n",
    "    for image in images :\n",
    "        x0, y0_orig, x1, y1_orig  = image.bbox\n",
    "        y0 = page.mediabox[3] - y1_orig\n",
    "        y1 = page.mediabox[3] - y0_orig\n",
    "        l.append((x0,y0,x1,y1))\n",
    "    return l\n",
    "  \n",
    "def get_pdf_images(input_path , output_path) :\n",
    "    doc = open(input_path,'rb')\n",
    "    device = PDFPageAggregator(rsrcmgr, laparams=laparams)\n",
    "    interpreter = PDFPageInterpreter(rsrcmgr, device)\n",
    "    images={}\n",
    "    for pageNumber, page in enumerate(PDFPage.get_pages(doc)):\n",
    "       interpreter.process_page(page)\n",
    "       layout = device.get_result()\n",
    "       l = get_coor(layout,page)\n",
    "       if l != [] :\n",
    "            images[pageNumber] = l\n",
    "    x = PdfReader(input_path)\n",
    "    output = PdfWriter()\n",
    "    for key , value in images.items():\n",
    "       for i in range(len(value)) :\n",
    "          output.addpage(x.pages[key])\n",
    "    output.write(\"new_file.pdf\") \n",
    "    output = fitz.open(\"new_file.pdf\")\n",
    "    l= sum(list(images.values()),[])\n",
    "    for page , box in zip(output,l) :\n",
    "         page.set_cropbox(fitz.Rect(box))                        \n",
    "    output.save(output_path)\n",
    "    return images"
   ]
  },
  {
   "cell_type": "code",
   "execution_count": 4,
   "id": "76cc62d0",
   "metadata": {},
   "outputs": [],
   "source": [
    "# To get better resolution\n",
    "zoom_x = 2.0  # horizontal zoom\n",
    "zoom_y = 2.0  # vertical zoom\n",
    "mat = fitz.Matrix(zoom_x, zoom_y)  # zoom factor 2 in each dimension\n",
    "\n",
    "#path = '../data/in/'\n",
    "#all_files = glob.glob(path + \"*.pdf\")\n",
    "\n",
    "#for filename in all_files:\n",
    "def get_images(path,folder_name):\n",
    "    get_pdf_images(path,'o00.pdf')\n",
    "    if not os.path.isdir(folder_name):\n",
    "       os.mkdir(folder_name)\n",
    "    doc = fitz.open('o00.pdf')  # open document\n",
    "    for page in doc:  # iterate through the pages\n",
    "        pix = page.get_pixmap(matrix=mat)  # render page to an image\n",
    "        pix.save(f'{folder_name}/{page.number}.png')  # store image as a PNG\n",
    "        #image_file = Image.open(f'{folder_name}/{page.number}.png') \n",
    "        #image_file.save(f'{folder_name}/{page.number}.png', quality=20) "
   ]
  },
  {
   "cell_type": "code",
   "execution_count": 5,
   "id": "c145eaae",
   "metadata": {},
   "outputs": [],
   "source": [
    "get_images('BMW_Customer_Specific_Requirements_AUG2020[9135].pdf','new_images')"
   ]
  },
  {
   "cell_type": "code",
   "execution_count": null,
   "id": "a8ec7875",
   "metadata": {},
   "outputs": [],
   "source": []
  }
 ],
 "metadata": {
  "kernelspec": {
   "display_name": "Python 3 (ipykernel)",
   "language": "python",
   "name": "python3"
  },
  "language_info": {
   "codemirror_mode": {
    "name": "ipython",
    "version": 3
   },
   "file_extension": ".py",
   "mimetype": "text/x-python",
   "name": "python",
   "nbconvert_exporter": "python",
   "pygments_lexer": "ipython3",
   "version": "3.9.12"
  }
 },
 "nbformat": 4,
 "nbformat_minor": 5
}
