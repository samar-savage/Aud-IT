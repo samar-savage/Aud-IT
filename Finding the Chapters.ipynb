{
 "cells": [
  {
   "cell_type": "code",
   "execution_count": 1,
   "id": "f2e44b41",
   "metadata": {},
   "outputs": [],
   "source": [
    "# import PyPDF2 \n",
    "import re\n",
    "import fitz"
   ]
  },
  {
   "cell_type": "code",
   "execution_count": 2,
   "id": "330e3c4d",
   "metadata": {},
   "outputs": [],
   "source": [
    "# Function to convert  \n",
    "def listToString(s): \n",
    "    \n",
    "    # initialize an empty string\n",
    "    str1 = \"\" \n",
    "    \n",
    "    # traverse in the string  \n",
    "    for ele in s: \n",
    "        str1 += ele  \n",
    "    \n",
    "    # return string  \n",
    "    return str1 "
   ]
  },
  {
   "cell_type": "markdown",
   "id": "18464920",
   "metadata": {},
   "source": [
    "# Main functionality"
   ]
  },
  {
   "cell_type": "code",
   "execution_count": 16,
   "id": "98fee5d5",
   "metadata": {},
   "outputs": [
    {
     "name": "stdout",
     "output_type": "stream",
     "text": [
      "Enter_the_text_to_Search_here: In the context of this document, PLD manufacturer refers to an organisation that develops the PLD\n",
      "Found the Text on page 111 from the file : ISO_26262-11_Dez.-2018.pdf\n",
      "This is list 5 ['5.3.1.3.1'] Found the Text on page 111\n",
      "this is content 5:  5.3.1.3.1\n",
      "THIS IS OF A four DIGITS ['5.3.1.3']\n",
      "this is content 4:  5.3.1.3\n",
      "Found the Text on page 111\n",
      "LEVEL 4: ['\\n5.3.1.3 \\nFunctional safety lifecycle tailoring for PLD\\n']\n",
      "THIS IS OF A three DIGITS ['5.3.1']\n",
      "this is content 3:  5.3.1\n",
      "Found the Text on page 4\n",
      "LEVEL 3: ['\\n5.3.1 \\nAbout programmable logic devices ']\n",
      "THIS IS OF A two DIGITS ['5.3', '1.3']\n",
      "this is content 2:  5.3\n",
      "Found the Text on page 4\n",
      "LEVEL 2 ['\\n5.3 \\nProgrammable logic devices ']\n",
      "THIS IS OF A one DIGITS ['5', '3', '1', '3', '1']\n",
      "this is content 1:  5\n",
      "Found the Text on page 3\n",
      "LEVEL 1: ['\\n5\\t\\nSpecific\\tsemiconductor\\ttechnologies\\tand\\tuse\\tcases ']\n"
     ]
    }
   ],
   "source": [
    "# import required module\n",
    "import os\n",
    "import re\n",
    "import PyPDF2 \n",
    "# assign directory\n",
    "directory = 'C:/Users/XJS09914403/OneDrive - DRAEXLMAIER/Test'\n",
    "# iterate over files in\n",
    "# that directory\n",
    "pattern = re.compile(input(\"Enter_the_text_to_Search_here: \"))\n",
    "for filename in os.listdir(directory):\n",
    "    if not filename.startswith('~$') and filename.endswith('.pdf'):\n",
    "        f = os.path.join(directory, filename)\n",
    "        doc = fitz.open(f)\n",
    "        page_count = len(doc)\n",
    "        #print(page_count)\n",
    "        for i in range(0, page_count):\n",
    "            page = doc[i]\n",
    "            text = page.get_text(\"text\")\n",
    "            found = re.finditer(pattern, text)\n",
    "            #print(type(text))\n",
    "            #print(text)\n",
    "            if pattern.search(text):\n",
    "                print(\"Found the Text on page\",i+1, \"from the file :\", filename)\n",
    "                #print(text)\n",
    "                for item in found:\n",
    "                    s = item.start()\n",
    "                    e = item.end()\n",
    "                    substring = text[s-900:e]\n",
    "                    #print('THIS',substring)\n",
    "                    #print(substring)\n",
    "                    p5 = re.compile(r'\\d+.\\d+.\\d+.\\d+.\\d+')\n",
    " \n",
    "                    list5 = p5.findall(str(substring))\n",
    "\n",
    "                    T = listToString(list5[-1])\n",
    " \n",
    "                    print(\"This is list 5\",list5,\"Found the Text on page\",i+1)\n",
    "\n",
    "                    print(\"this is content 5: \",T)\n",
    "#############################################level 4 ###########################################################################\n",
    "                    "
   ]
  },
  {
   "cell_type": "code",
   "execution_count": 19,
   "id": "ae596654",
   "metadata": {},
   "outputs": [],
   "source": [
    "def Fifth_list (list5,page_count):\n",
    "    pa4 = re.compile(r'\\d+.\\d+.\\d+.\\d+')\n",
    "    print(\"THIS IS OF A four DIGITS\",pa4.findall(str(list5[-1])))\n",
    "    fourth = pa4.findall(str(list5[-1]))\n",
    "    TTTT = listToString(fourth)\n",
    "    print(\"this is content 4: \",TTTT)\n",
    "    pat = re.compile(\"\\s\"+TTTT+\"\\s+\\D+\\s+\")\n",
    "    for i in range(0, page_count):\n",
    "        page = doc[i]\n",
    "        text = page.get_text(\"text\")\n",
    "        found = re.finditer(pat, text)\n",
    "        if pat.search(text):\n",
    "            print(\"Found the Text on page\",i+1)\n",
    "            list4 = pat.findall(str(text))\n",
    "            print(\"LEVEL 4:\",list4)\n",
    "####################################level 3#####################################################################################\n",
    "    pa3 = re.compile(r'\\d+.\\d+.\\d+')\n",
    "    print(\"THIS IS OF A three DIGITS\",pa3.findall(str(list5[-1])))\n",
    "    third = pa3.findall(str(list5[-1]))\n",
    "    TTT = listToString(third)\n",
    "    print(\"this is content 3: \",TTT)\n",
    "    pat = re.compile(\"\\s\"+TTT+\"\\s+\\D+\\s+\")\n",
    "    for i in range(0, 5):\n",
    "        page = doc[i]\n",
    "        text = page.get_text(\"text\")\n",
    "        found = re.finditer(pat, text)\n",
    "        if pat.search(text):\n",
    "            print(\"Found the Text on page\",i+1)\n",
    "            list3 = pat.findall(str(text))\n",
    "            print(\"LEVEL 3:\",list3)\n",
    "##########################################################level 2###############################################################\n",
    "    pa2 = re.compile(r'\\d+.\\d+')\n",
    "    print(\"THIS IS OF A two DIGITS\",pa2.findall(str(list5[-1])))\n",
    "    second = pa2.findall(str(list5[-1]))\n",
    "    TT = listToString(second[0])\n",
    "    print(\"this is content 2: \",TT)\n",
    "    pat = re.compile(\"\\s\"+TT+\"\\s+\\D+\\s+\")\n",
    "    for i in range(0, 5):\n",
    "        page = doc[i]\n",
    "        text = page.get_text(\"text\")\n",
    "        found = re.finditer(pat, text)\n",
    "        if pat.search(text):\n",
    "            print(\"Found the Text on page\",i+1)\n",
    "            list2 = pat.findall(str(text))\n",
    "            print(\"LEVEL 2\",list2)\n",
    "\n",
    "################################################level 1 ########################################################################\n",
    "\n",
    "    pa1 = re.compile(r'\\d')\n",
    "    print(\"THIS IS OF A one DIGITS\",pa1.findall(str(list5[-1])))\n",
    "    third = pa1.findall(str(list5[-1]))\n",
    "    T = listToString(third[0])\n",
    "    print(\"this is content 1: \",T)\n",
    "    pat = re.compile(\"\\s\"+T+\"\\s+\\D+\\s+\")\n",
    "    for i in range(0, 5):\n",
    "        page = doc[i]\n",
    "        text = page.get_text(\"text\")\n",
    "        #print(text)\n",
    "        found = re.finditer(pat, text)\n",
    "        #print(found)\n",
    "        if pat.search(text):\n",
    "            print(\"Found the Text on page\",i+1)\n",
    "            list1 = pat.findall(str(text))\n",
    "            print(\"LEVEL 1:\",list1)\n",
    "            return list1               \n",
    "                            \n",
    "      \n",
    " "
   ]
  },
  {
   "cell_type": "code",
   "execution_count": 20,
   "id": "8d92433c",
   "metadata": {},
   "outputs": [
    {
     "name": "stdout",
     "output_type": "stream",
     "text": [
      "THIS IS OF A four DIGITS ['5.3.1.3']\n",
      "this is content 4:  5.3.1.3\n",
      "THIS IS OF A three DIGITS ['5.3.1']\n",
      "this is content 3:  5.3.1\n",
      "Found the Text on page 3\n",
      "LEVEL 3: ['\\n5.3.1 \\nPrerequisites ....................................................................................................................................................................... ']\n",
      "THIS IS OF A two DIGITS ['5.3', '1.3']\n",
      "this is content 2:  5.3\n",
      "Found the Text on page 3\n",
      "LEVEL 2 ['\\n5.3 \\nInputs to this clause ............................................................................................................................................................................ ']\n",
      "THIS IS OF A one DIGITS ['5', '3', '1', '3', '1']\n",
      "this is content 1:  5\n",
      "Found the Text on page 3\n",
      "LEVEL 1: ['\\n5 \\nRequirements decomposition with respect to ASIL tailoring ']\n"
     ]
    },
    {
     "data": {
      "text/plain": [
       "['\\n5 \\nRequirements decomposition with respect to ASIL tailoring ']"
      ]
     },
     "execution_count": 20,
     "metadata": {},
     "output_type": "execute_result"
    }
   ],
   "source": [
    "Fifth_list (list5,page_count)"
   ]
  },
  {
   "cell_type": "markdown",
   "id": "abe395f2",
   "metadata": {},
   "source": [
    "# case of "
   ]
  }
 ],
 "metadata": {
  "kernelspec": {
   "display_name": "Python 3 (ipykernel)",
   "language": "python",
   "name": "python3"
  },
  "language_info": {
   "codemirror_mode": {
    "name": "ipython",
    "version": 3
   },
   "file_extension": ".py",
   "mimetype": "text/x-python",
   "name": "python",
   "nbconvert_exporter": "python",
   "pygments_lexer": "ipython3",
   "version": "3.9.12"
  }
 },
 "nbformat": 4,
 "nbformat_minor": 5
}
