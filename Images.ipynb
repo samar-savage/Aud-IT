{
 "cells": [
  {
   "cell_type": "markdown",
   "id": "be757c2b",
   "metadata": {},
   "source": [
    "# converting Pdf files to word docx"
   ]
  },
  {
   "cell_type": "code",
   "execution_count": null,
   "id": "138c94ae",
   "metadata": {},
   "outputs": [],
   "source": [
    "pip install pdf2docx"
   ]
  },
  {
   "cell_type": "code",
   "execution_count": null,
   "id": "be535b18",
   "metadata": {},
   "outputs": [],
   "source": [
    "import pdf2docx"
   ]
  },
  {
   "cell_type": "code",
   "execution_count": null,
   "id": "326bcf72",
   "metadata": {},
   "outputs": [],
   "source": [
    "from pdf2docx import Converter\n"
   ]
  },
  {
   "cell_type": "code",
   "execution_count": null,
   "id": "c2a80368",
   "metadata": {},
   "outputs": [],
   "source": [
    "pdf_file = 'C:/Users/XJS09914403/Desktop/Files/ISO_26262-9.pdf'\n",
    "docx_file = 'C:/Users/XJS09914403/Desktop/Audit/NFFFFFF.docx'"
   ]
  },
  {
   "cell_type": "code",
   "execution_count": null,
   "id": "cbb93a7f",
   "metadata": {},
   "outputs": [],
   "source": [
    "# convert pdf to docx\n",
    "cv = Converter(pdf_file)\n",
    "cv.convert(docx_file)\n",
    "cv.close()"
   ]
  },
  {
   "cell_type": "markdown",
   "id": "bca47f41",
   "metadata": {},
   "source": [
    "# extract  and store images"
   ]
  },
  {
   "cell_type": "code",
   "execution_count": null,
   "id": "f1922c81",
   "metadata": {},
   "outputs": [],
   "source": [
    "from pdf2docx import parse\n"
   ]
  },
  {
   "cell_type": "code",
   "execution_count": null,
   "id": "00de960c",
   "metadata": {},
   "outputs": [],
   "source": [
    "!pip install docx2pdf"
   ]
  },
  {
   "cell_type": "code",
   "execution_count": null,
   "id": "6f53387b",
   "metadata": {},
   "outputs": [],
   "source": [
    "!pip install docx2txt\n"
   ]
  },
  {
   "cell_type": "code",
   "execution_count": null,
   "id": "314a1f5f",
   "metadata": {},
   "outputs": [],
   "source": [
    "import docx2txt\n",
    "text = docx2txt.process('C:/Users/XJS09914403/Desktop/Audit/NFFFFFF.docx', 'C:/Users/XJS09914403/OneDrive - DRAEXLMAIER/Test/IMG')"
   ]
  },
  {
   "cell_type": "markdown",
   "id": "c0b76b9e",
   "metadata": {},
   "source": [
    "# Reading Text out of images"
   ]
  },
  {
   "cell_type": "code",
   "execution_count": null,
   "id": "50bed85c",
   "metadata": {},
   "outputs": [],
   "source": [
    "# text recognition\n",
    "import cv2\n",
    "import pytesseract\n",
    "import docx2txt\n",
    "import PIL.Image"
   ]
  },
  {
   "cell_type": "code",
   "execution_count": null,
   "id": "8da087af",
   "metadata": {},
   "outputs": [],
   "source": [
    "pip install pytesseract"
   ]
  },
  {
   "cell_type": "code",
   "execution_count": null,
   "id": "5a6735de",
   "metadata": {},
   "outputs": [],
   "source": [
    "import pytesseract\n"
   ]
  },
  {
   "cell_type": "code",
   "execution_count": null,
   "id": "5512657b",
   "metadata": {},
   "outputs": [],
   "source": [
    "pytesseract.pytesseract.tesseract_cmd = r'C:\\Users\\XJS09914403\\AppData\\Local\\Tesseract-OCR\\tesseract.exe'\n"
   ]
  },
  {
   "cell_type": "code",
   "execution_count": null,
   "id": "c2c41285",
   "metadata": {},
   "outputs": [],
   "source": [
    "nltk.download ()\n"
   ]
  },
  {
   "cell_type": "code",
   "execution_count": null,
   "id": "fe54839a",
   "metadata": {},
   "outputs": [],
   "source": [
    "import nltk\n",
    "from nltk.corpus import wordnet"
   ]
  },
  {
   "cell_type": "code",
   "execution_count": null,
   "id": "35d536da",
   "metadata": {},
   "outputs": [],
   "source": [
    "pip install nltk"
   ]
  },
  {
   "cell_type": "markdown",
   "id": "baf233fa",
   "metadata": {},
   "source": [
    "# First methods using yord similarities"
   ]
  },
  {
   "cell_type": "code",
   "execution_count": null,
   "id": "8dcb81ec",
   "metadata": {},
   "outputs": [],
   "source": [
    "def synonym_antonym_extractor(user_string):\n",
    "    from nltk.corpus import wordnet\n",
    "    synonyms = []\n",
    "     \n",
    "     # get some text from the user \n",
    "    \n",
    "    for syn in wordnet.synsets(user_string):\n",
    "        for l in syn.lemmas():\n",
    "            synonyms.append(l.name())\n",
    "            \n",
    "\n",
    "    return synonyms\n",
    "    \n",
    "        \n",
    "user_string = input(\"Please enter some text: \")\n",
    "synonym_antonym_extractor(user_string)\n"
   ]
  },
  {
   "cell_type": "code",
   "execution_count": null,
   "id": "c7a7307b",
   "metadata": {},
   "outputs": [],
   "source": [
    "def unique(list1):\n",
    " \n",
    "    # insert the list to the set\n",
    "    list_set = set(list1)\n",
    "    # convert the set to the list\n",
    "    unique_list = (list(list_set))\n",
    "    for x in unique_list:\n",
    "        print(x)\n",
    "    return unique_list\n",
    " "
   ]
  },
  {
   "cell_type": "code",
   "execution_count": null,
   "id": "507417ef",
   "metadata": {},
   "outputs": [],
   "source": [
    "import re\n",
    "import os\n",
    "from PIL import Image\n",
    "\n",
    "#pattern = re.compile(input(\"Enter_the_text_to_Search_here\"))\n",
    "user_string = input(\"Enter_the_text_to_Search_here : \")\n",
    "pattern2 = re.compile(user_string)\n",
    "folder_dir= 'C:/Users/XJS09914403/OneDrive - DRAEXLMAIER/Test/IMG'\n",
    "synonyms = synonym_antonym_extractor(user_string)\n",
    "Found = []\n",
    "#print(synonyms)\n",
    "\n",
    "\n",
    "for images in os.listdir(folder_dir):\n",
    "    # check if the image end swith png or jpg or jpeg\n",
    "    if (images.endswith(\".png\") or images.endswith(\".jpg\")\n",
    "        or images.endswith(\".jpeg\")):\n",
    "        f = os.path.join(folder_dir, images)\n",
    "        text= pytesseract.image_to_string(f)\n",
    "        for word in synonyms:\n",
    "            #print(word)\n",
    "            pattern = re.compile(word)\n",
    "            if pattern.search(text) or pattern2.search(text):\n",
    "                #print(\"query found\")\n",
    "                #print(images)\n",
    "                Found.append(images)\n",
    "                \n",
    "\n",
    "uni = unique(Found)\n",
    "for image in uni:\n",
    "    f = os.path.join(folder_dir, image)\n",
    "    im = Image.open(f)\n",
    "    im.show()\n",
    "\n",
    "            \n",
    "                #print(text)\n",
    "                #im = Image.open(f)\n",
    "\n",
    "                #show image\n",
    "                #im.show()\n",
    "        \n",
    "\n",
    "        \n",
    "        "
   ]
  },
  {
   "cell_type": "markdown",
   "id": "1a0a8aba",
   "metadata": {},
   "source": [
    "# Second method : using spacy meaning similarity"
   ]
  },
  {
   "cell_type": "code",
   "execution_count": null,
   "id": "47e35d76",
   "metadata": {},
   "outputs": [],
   "source": [
    "import spacy\n",
    "nlp = spacy.load(\"en_core_web_sm\")"
   ]
  },
  {
   "cell_type": "code",
   "execution_count": null,
   "id": "eb3a6207",
   "metadata": {},
   "outputs": [],
   "source": [
    "import re\n",
    "import os\n",
    "from PIL import Image\n",
    "import spacy\n",
    "nlp = spacy.load(\"en_core_web_sm\")\n",
    "import heapq\n",
    "\n",
    "\n",
    "#pattern = re.compile(input(\"Enter_the_text_to_Search_here\"))\n",
    "user_string = input(\"Enter_the_text_to_Search_here : \")\n",
    "pattern2 = re.compile(user_string)\n",
    "folder_dir= 'C:/Users/XJS09914403/OneDrive - DRAEXLMAIER/Test/IMG'\n",
    "Results = []\n",
    "names = []\n",
    "\n",
    "#print(synonyms)\n",
    "\n",
    "\n",
    "for images in os.listdir(folder_dir):\n",
    "    # check if the image end swith png or jpg or jpeg\n",
    "    if (images.endswith(\".png\") or images.endswith(\".jpg\")\n",
    "        or images.endswith(\".jpeg\")):\n",
    "        f = os.path.join(folder_dir, images)\n",
    "        text= pytesseract.image_to_string(f)\n",
    "        doc1 = nlp(user_string)\n",
    "        doc2 = nlp(text)\n",
    "        Pourcentage = doc1.similarity(doc2)\n",
    "        names.append(images)\n",
    "        #print(doc1.similarity(doc2))\n",
    "        Results.append(Pourcentage)\n",
    "print(heapq.nlargest(3, zip(Results, names )))\n",
    "listImages = heapq.nlargest(3, zip(Results, names ))\n",
    "print(type(listImages))\n",
    "selected_items = [item[1] for item in listImages]\n",
    "print(selected_items)\n",
    "for image in selected_items:\n",
    "    f = os.path.join(folder_dir, image)\n",
    "    im = Image.open(f)\n",
    "    im.show()\n",
    "\n",
    "\n",
    "    \n",
    "        "
   ]
  },
  {
   "cell_type": "markdown",
   "id": "368e6d2d",
   "metadata": {},
   "source": [
    "# Make it a callable function"
   ]
  },
  {
   "cell_type": "code",
   "execution_count": null,
   "id": "dcf19a87",
   "metadata": {},
   "outputs": [],
   "source": [
    "import re\n",
    "import os\n",
    "from PIL import Image\n",
    "import spacy\n",
    "nlp = spacy.load(\"en_core_web_sm\")\n",
    "import heapq\n",
    "import pytesseract"
   ]
  },
  {
   "cell_type": "code",
   "execution_count": null,
   "id": "e4bae4fd",
   "metadata": {},
   "outputs": [],
   "source": [
    "def findImages(user_string):\n",
    "    folder_dir= 'C:/Users/XJS09914403/OneDrive - DRAEXLMAIER/Test/IMG'\n",
    "    Results = []\n",
    "    names = []\n",
    "    for images in os.listdir(folder_dir):\n",
    "        if (images.endswith(\".png\") or images.endswith(\".jpg\") or images.endswith(\".jpeg\")):\n",
    "            f = os.path.join(folder_dir, images)\n",
    "            text= pytesseract.image_to_string(f)\n",
    "            doc1 = nlp(user_string)\n",
    "            doc2 = nlp(text)\n",
    "            Pourcentage = doc1.similarity(doc2)\n",
    "            Results.append(Pourcentage)\n",
    "            names.append(images)\n",
    "            \n",
    "    print(heapq.nlargest(3, zip(Results, names )))\n",
    "    listImages = heapq.nlargest(3, zip(Results, names ))\n",
    "    print(type(listImages))\n",
    "    selected_items = [item[1] for item in listImages]\n",
    "    print(selected_items)\n",
    "    for image in selected_items:\n",
    "        f = os.path.join(folder_dir, image)\n",
    "        im = Image.open(f)\n",
    "        im.show()"
   ]
  },
  {
   "cell_type": "code",
   "execution_count": null,
   "id": "95547e23",
   "metadata": {},
   "outputs": [],
   "source": [
    "user_string = input(\"Enter_the_text_to_Search_here : \")\n",
    "findImages(user_string)\n"
   ]
  }
 ],
 "metadata": {
  "kernelspec": {
   "display_name": "Python 3 (ipykernel)",
   "language": "python",
   "name": "python3"
  },
  "language_info": {
   "codemirror_mode": {
    "name": "ipython",
    "version": 3
   },
   "file_extension": ".py",
   "mimetype": "text/x-python",
   "name": "python",
   "nbconvert_exporter": "python",
   "pygments_lexer": "ipython3",
   "version": "3.9.12"
  }
 },
 "nbformat": 4,
 "nbformat_minor": 5
}
