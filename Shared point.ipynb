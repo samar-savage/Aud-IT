{
 "cells": [
  {
   "cell_type": "code",
   "execution_count": 4,
   "id": "01f022b4",
   "metadata": {},
   "outputs": [],
   "source": [
    "from office365.runtime.auth.authentication_context import AuthenticationContext\n",
    "from office365.sharepoint.client_context import ClientContext\n",
    "from office365.sharepoint.files.file import File"
   ]
  },
  {
   "cell_type": "code",
   "execution_count": 5,
   "id": "99b80ed8",
   "metadata": {},
   "outputs": [],
   "source": [
    "sharepoint_base_url = 'https://draexlmaier-my.sharepoint.com/personal/samar_jberi_extern_draexlmaier_com'\n",
    "sharepoint_user = 'Samar.Jberi.extern@draexlmaier.com'\n",
    "sharepoint_password = 'Sam123456@'\n",
    "folder_in_sharepoint = '/teams/sharepointname/Shared%20https://draexlmaier-my.sharepoint.com/:f:/r/personal/samar_jberi_extern_draexlmaier_com/Documents/Test?csf=1&web=1&e=LjogRt'"
   ]
  },
  {
   "cell_type": "code",
   "execution_count": 6,
   "id": "055eac23",
   "metadata": {},
   "outputs": [],
   "source": [
    "app_principal = {\n",
    "'client_id': '134d1448-4b2b-47be-b3fc-b327907af72a',\n",
    "'client_secret': '9OqOhSgogFuErz6+FfvT12rmpHdv1qJvh4SXudOjZMc=',\n",
    "}"
   ]
  },
  {
   "cell_type": "code",
   "execution_count": 18,
   "id": "03d982c9",
   "metadata": {},
   "outputs": [
    {
     "name": "stdout",
     "output_type": "stream",
     "text": [
      "Authenticated into sharepoint app for:  Jberi Samar EXT\n"
     ]
    }
   ],
   "source": [
    "ctx_auth = AuthenticationContext(sharepoint_base_url )\n",
    "if ctx_auth.acquire_token_for_app(client_id=app_principal['client_id'], client_secret=app_principal['client_secret']):\n",
    "    ctx = ClientContext(\"https://draexlmaier-my.sharepoint.com/personal/samar_jberi_extern_draexlmaier_com\", ctx_auth)\n",
    "    web = ctx.web\n",
    "    ctx.load(web)\n",
    "    ctx.execute_query()\n",
    "    print('Authenticated into sharepoint app for: ',web.properties['Title'])\n",
    "else:\n",
    "    print(ctx_auth.get_last_error())\n",
    "    sys.exit()"
   ]
  },
  {
   "cell_type": "code",
   "execution_count": 8,
   "id": "c25e5f9a",
   "metadata": {},
   "outputs": [
    {
     "name": "stdout",
     "output_type": "stream",
     "text": [
      "This is a list object: (Reference, d0cff0878d66414cb35e758445a8baf5)\n",
      "This is a list object: appdata\n",
      "This is a list object: appfiles\n",
      "This is a list object: Composed Looks\n",
      "This is a list object: Content type publishing error log\n",
      "This is a list object: Converted Forms\n",
      "This is a list object: Documents\n",
      "This is a list object: Form Templates\n",
      "This is a list object: List Template Gallery\n",
      "This is a list object: Maintenance Log Library\n",
      "This is a list object: Master Page Gallery\n",
      "This is a list object: SharePointHomeCacheList\n",
      "This is a list object: Sharing Links\n",
      "This is a list object: SmartCache-8189C6B3-4081-4F62-9015-35FDB7FDF042\n",
      "This is a list object: Social\n",
      "This is a list object: Solution Gallery\n",
      "This is a list object: Style Library\n",
      "This is a list object: TaxonomyHiddenList\n",
      "This is a list object: Theme Gallery\n",
      "This is a list object: User Information List\n",
      "This is a list object: userActivityFeedHiddenListF4387007-BE61-432F-8BDB-85E6B9679E4B\n",
      "This is a list object: Web Part Gallery\n"
     ]
    }
   ],
   "source": [
    "lists = ctx.web.lists\n",
    "ctx.load(lists)\n",
    "ctx.execute_query()\n",
    "for l in lists:\n",
    "    print(\"This is a list object: {0}\".format(l.properties['Title']))"
   ]
  },
  {
   "cell_type": "code",
   "execution_count": 9,
   "id": "b795c46e",
   "metadata": {},
   "outputs": [
    {
     "name": "stdout",
     "output_type": "stream",
     "text": [
      "<office365.sharepoint.lists.list.List object at 0x0000022D549211C0>\n"
     ]
    }
   ],
   "source": [
    "list_object = ctx.web.lists.get_by_title('Documents')\n",
    "print(list_object)"
   ]
  },
  {
   "cell_type": "code",
   "execution_count": 59,
   "id": "659216f6",
   "metadata": {},
   "outputs": [
    {
     "name": "stdout",
     "output_type": "stream",
     "text": [
      "<office365.sharepoint.listitems.listItem_collection.ListItemCollection object at 0x000002B96C9C0790>\n"
     ]
    }
   ],
   "source": [
    "items = list_object.items\n",
    "ctx.load(items)\n",
    "ctx.execute_query()\n",
    "print(items)"
   ]
  },
  {
   "cell_type": "code",
   "execution_count": 61,
   "id": "aca57732",
   "metadata": {},
   "outputs": [
    {
     "name": "stdout",
     "output_type": "stream",
     "text": [
      "\n",
      "Item title: None\n",
      "\n",
      "Item title: None\n",
      "\n",
      "Item title: None\n",
      "\n",
      "Item title: None\n",
      "\n",
      "Item title: None\n",
      "\n",
      "Item title: None\n",
      "\n",
      "Item title: None\n",
      "\n",
      "Item title: None\n",
      "\n",
      "Item title: None\n",
      "\n",
      "Item title: None\n",
      "\n",
      "Item title: None\n",
      "\n",
      "Item title: None\n",
      "\n",
      "Item title: test code\n",
      "\n",
      "Item title: None\n",
      "\n",
      "Item title: None\n",
      " Item property: FileSystemObjectType == 0\n",
      " Item property: Id == 15\n",
      " Item property: ServerRedirectedEmbedUri == https://draexlmaier-my.sharepoint.com/personal/samar_jberi_extern_draexlmaier_com/_layouts/15/Doc.aspx?sourcedoc={6261e8c6-347f-4d93-8aa9-5a0827588c35}&action=interactivepreview\n",
      " Item property: ServerRedirectedEmbedUrl == https://draexlmaier-my.sharepoint.com/personal/samar_jberi_extern_draexlmaier_com/_layouts/15/Doc.aspx?sourcedoc={6261e8c6-347f-4d93-8aa9-5a0827588c35}&action=interactivepreview\n",
      " Item property: ContentTypeId == 0x010100A7A6EA6A75F89F44A3C8758FF4AE324F\n",
      " Item property: ComplianceAssetId == None\n",
      " Item property: Title == None\n",
      " Item property: IsMyDocuments == None\n",
      " Item property: SharedWithInternalId == None\n",
      " Item property: SharedWithInternalStringId == None\n",
      " Item property: SharedWithUsersId == None\n",
      " Item property: SharedWithDetails == None\n",
      " Item property: ID == 15\n",
      " Item property: Created == 2022-05-16T07:44:45Z\n",
      " Item property: AuthorId == 3\n",
      " Item property: Modified == 2022-05-16T07:45:31Z\n",
      " Item property: EditorId == 3\n",
      " Item property: OData__CopySource == None\n",
      " Item property: CheckoutUserId == None\n",
      " Item property: OData__UIVersionString == 3.0\n",
      " Item property: GUID == 01ae306a-ec17-4529-b8ea-a320261060e8\n"
     ]
    }
   ],
   "source": [
    "for item in items:\n",
    "    print(\"\\nItem title: {0}\".format(item.properties[\"Title\"]))\n",
    "for prop in item.properties:\n",
    "    print(\" Item property: {0} == {1}\".format(prop, item.properties[prop]))"
   ]
  },
  {
   "cell_type": "code",
   "execution_count": 73,
   "id": "d3c50522",
   "metadata": {},
   "outputs": [
    {
     "name": "stdout",
     "output_type": "stream",
     "text": [
      "Requirement already satisfied: requests in c:\\users\\xjs09914403\\anaconda3\\lib\\site-packages (2.27.1)\n",
      "Requirement already satisfied: charset-normalizer~=2.0.0 in c:\\users\\xjs09914403\\anaconda3\\lib\\site-packages (from requests) (2.0.4)\n",
      "Requirement already satisfied: urllib3<1.27,>=1.21.1 in c:\\users\\xjs09914403\\anaconda3\\lib\\site-packages (from requests) (1.26.9)\n",
      "Requirement already satisfied: certifi>=2017.4.17 in c:\\users\\xjs09914403\\anaconda3\\lib\\site-packages (from requests) (2021.10.8)\n",
      "Requirement already satisfied: idna<4,>=2.5 in c:\\users\\xjs09914403\\anaconda3\\lib\\site-packages (from requests) (3.3)\n",
      "Note: you may need to restart the kernel to use updated packages.\n"
     ]
    }
   ],
   "source": [
    "pip install requests\n"
   ]
  },
  {
   "cell_type": "code",
   "execution_count": 82,
   "id": "6cec037d",
   "metadata": {},
   "outputs": [
    {
     "name": "stdout",
     "output_type": "stream",
     "text": [
      "Collecting sharepy\n",
      "  Downloading sharepy-2.0.0.tar.gz (23 kB)\n",
      "Requirement already satisfied: requests<3,>=2 in c:\\users\\xjs09914403\\anaconda3\\lib\\site-packages (from sharepy) (2.27.1)\n",
      "Requirement already satisfied: idna<4,>=2.5 in c:\\users\\xjs09914403\\anaconda3\\lib\\site-packages (from requests<3,>=2->sharepy) (3.3)\n",
      "Requirement already satisfied: charset-normalizer~=2.0.0 in c:\\users\\xjs09914403\\anaconda3\\lib\\site-packages (from requests<3,>=2->sharepy) (2.0.4)\n",
      "Requirement already satisfied: urllib3<1.27,>=1.21.1 in c:\\users\\xjs09914403\\anaconda3\\lib\\site-packages (from requests<3,>=2->sharepy) (1.26.9)\n",
      "Requirement already satisfied: certifi>=2017.4.17 in c:\\users\\xjs09914403\\anaconda3\\lib\\site-packages (from requests<3,>=2->sharepy) (2021.10.8)\n",
      "Building wheels for collected packages: sharepy\n",
      "  Building wheel for sharepy (setup.py): started\n",
      "  Building wheel for sharepy (setup.py): finished with status 'done'\n",
      "  Created wheel for sharepy: filename=sharepy-2.0.0-py3-none-any.whl size=26004 sha256=eb04b4bf7107bb107440b0be3460d41cc7140a6de7a71c7f2333ddb33c077901\n",
      "  Stored in directory: c:\\users\\xjs09914403\\appdata\\local\\pip\\cache\\wheels\\8b\\e1\\ef\\a518fa082a4f26f54793f3a6b1d4e8e973d6d6c4dc4374929f\n",
      "Successfully built sharepy\n",
      "Installing collected packages: sharepy\n",
      "Successfully installed sharepy-2.0.0\n",
      "Note: you may need to restart the kernel to use updated packages.\n"
     ]
    }
   ],
   "source": [
    "pip install sharepy"
   ]
  },
  {
   "cell_type": "code",
   "execution_count": 87,
   "id": "e18be9d1",
   "metadata": {},
   "outputs": [
    {
     "name": "stdout",
     "output_type": "stream",
     "text": [
      "Collecting py-topping\n",
      "  Using cached py_topping-0.3.17-py3-none-any.whl\n",
      "Installing collected packages: py-topping\n",
      "Successfully installed py-topping-0.3.17\n",
      "Note: you may need to restart the kernel to use updated packages.\n"
     ]
    }
   ],
   "source": [
    "pip install py-topping"
   ]
  },
  {
   "cell_type": "code",
   "execution_count": 88,
   "id": "c054a74d",
   "metadata": {},
   "outputs": [
    {
     "name": "stdout",
     "output_type": "stream",
     "text": [
      "Collecting Office365-REST-Python-Client==2.2.1\n",
      "  Using cached Office365_REST_Python_Client-2.2.1-py3-none-any.whl (416 kB)\n",
      "Collecting adal\n",
      "  Using cached adal-1.2.7-py2.py3-none-any.whl (55 kB)\n",
      "Requirement already satisfied: requests in c:\\users\\xjs09914403\\anaconda3\\lib\\site-packages (from Office365-REST-Python-Client==2.2.1) (2.27.1)\n",
      "Requirement already satisfied: python-dateutil<3,>=2.1.0 in c:\\users\\xjs09914403\\anaconda3\\lib\\site-packages (from adal->Office365-REST-Python-Client==2.2.1) (2.8.2)\n",
      "Requirement already satisfied: cryptography>=1.1.0 in c:\\users\\xjs09914403\\anaconda3\\lib\\site-packages (from adal->Office365-REST-Python-Client==2.2.1) (3.4.8)\n",
      "Requirement already satisfied: PyJWT<3,>=1.0.0 in c:\\users\\xjs09914403\\anaconda3\\lib\\site-packages (from adal->Office365-REST-Python-Client==2.2.1) (2.1.0)\n",
      "Requirement already satisfied: cffi>=1.12 in c:\\users\\xjs09914403\\anaconda3\\lib\\site-packages (from cryptography>=1.1.0->adal->Office365-REST-Python-Client==2.2.1) (1.15.0)\n",
      "Requirement already satisfied: pycparser in c:\\users\\xjs09914403\\anaconda3\\lib\\site-packages (from cffi>=1.12->cryptography>=1.1.0->adal->Office365-REST-Python-Client==2.2.1) (2.21)\n",
      "Requirement already satisfied: six>=1.5 in c:\\users\\xjs09914403\\anaconda3\\lib\\site-packages (from python-dateutil<3,>=2.1.0->adal->Office365-REST-Python-Client==2.2.1) (1.16.0)\n",
      "Requirement already satisfied: certifi>=2017.4.17 in c:\\users\\xjs09914403\\anaconda3\\lib\\site-packages (from requests->Office365-REST-Python-Client==2.2.1) (2021.10.8)\n",
      "Requirement already satisfied: urllib3<1.27,>=1.21.1 in c:\\users\\xjs09914403\\anaconda3\\lib\\site-packages (from requests->Office365-REST-Python-Client==2.2.1) (1.26.9)\n",
      "Requirement already satisfied: idna<4,>=2.5 in c:\\users\\xjs09914403\\anaconda3\\lib\\site-packages (from requests->Office365-REST-Python-Client==2.2.1) (3.3)\n",
      "Requirement already satisfied: charset-normalizer~=2.0.0 in c:\\users\\xjs09914403\\anaconda3\\lib\\site-packages (from requests->Office365-REST-Python-Client==2.2.1) (2.0.4)\n",
      "Installing collected packages: adal, Office365-REST-Python-Client\n",
      "  Attempting uninstall: Office365-REST-Python-Client\n",
      "    Found existing installation: Office365-REST-Python-Client 2.3.11\n",
      "    Uninstalling Office365-REST-Python-Client-2.3.11:\n",
      "      Successfully uninstalled Office365-REST-Python-Client-2.3.11\n",
      "Successfully installed Office365-REST-Python-Client-2.2.1 adal-1.2.7\n",
      "Note: you may need to restart the kernel to use updated packages.\n"
     ]
    }
   ],
   "source": [
    "pip install Office365-REST-Python-Client==2.2.1"
   ]
  },
  {
   "cell_type": "code",
   "execution_count": 93,
   "id": "802019e5",
   "metadata": {},
   "outputs": [
    {
     "data": {
      "text/plain": [
       "<Response [403]>"
      ]
     },
     "execution_count": 93,
     "metadata": {},
     "output_type": "execute_result"
    }
   ],
   "source": [
    "import requests\n",
    "from requests_ntlm import HttpNtlmAuth # Not in base library\n",
    "requests.get('https://draexlmaier-my.sharepoint.com/personal/samar_jberi_extern_draexlmaier_com', auth=HttpNtlmAuth('Samar.Jberi.extern@draexlmaier.com','Sam123456@'))"
   ]
  },
  {
   "cell_type": "code",
   "execution_count": 104,
   "id": "b75f1694",
   "metadata": {},
   "outputs": [
    {
     "ename": "ImportError",
     "evalue": "cannot import name 'Sharepoint' from 'sharepoint' (C:\\Users\\XJS09914403\\Anaconda3\\lib\\site-packages\\sharepoint\\__init__.py)",
     "output_type": "error",
     "traceback": [
      "\u001b[1;31m---------------------------------------------------------------------------\u001b[0m",
      "\u001b[1;31mImportError\u001b[0m                               Traceback (most recent call last)",
      "Input \u001b[1;32mIn [104]\u001b[0m, in \u001b[0;36m<cell line: 1>\u001b[1;34m()\u001b[0m\n\u001b[1;32m----> 1\u001b[0m \u001b[38;5;28;01mfrom\u001b[39;00m \u001b[38;5;21;01msharepoint\u001b[39;00m \u001b[38;5;28;01mimport\u001b[39;00m Sharepoint\n",
      "\u001b[1;31mImportError\u001b[0m: cannot import name 'Sharepoint' from 'sharepoint' (C:\\Users\\XJS09914403\\Anaconda3\\lib\\site-packages\\sharepoint\\__init__.py)"
     ]
    }
   ],
   "source": [
    "from sharepoint import Sharepoint"
   ]
  },
  {
   "cell_type": "code",
   "execution_count": 102,
   "id": "df60c5fb",
   "metadata": {},
   "outputs": [
    {
     "name": "stdout",
     "output_type": "stream",
     "text": [
      "Collecting sharepoint\n",
      "  Downloading sharepoint-0.4.2.tar.gz (17 kB)\n",
      "Requirement already satisfied: lxml in c:\\users\\xjs09914403\\anaconda3\\lib\\site-packages (from sharepoint) (4.8.0)\n",
      "Building wheels for collected packages: sharepoint\n",
      "  Building wheel for sharepoint (setup.py): started\n",
      "  Building wheel for sharepoint (setup.py): finished with status 'done'\n",
      "  Created wheel for sharepoint: filename=sharepoint-0.4.2-py3-none-any.whl size=20724 sha256=48a75e8f0e2f487689badad37ea2beeb657349808536e34fb5a474f080d78346\n",
      "  Stored in directory: c:\\users\\xjs09914403\\appdata\\local\\pip\\cache\\wheels\\14\\d2\\bc\\dc77c15655916f458ec7697378b48b1039017a57bcdacb0477\n",
      "Successfully built sharepoint\n",
      "Installing collected packages: sharepoint\n",
      "Successfully installed sharepoint-0.4.2\n",
      "Note: you may need to restart the kernel to use updated packages.\n"
     ]
    }
   ],
   "source": [
    "pip install sharepoint"
   ]
  },
  {
   "cell_type": "code",
   "execution_count": 111,
   "id": "42f8f18b",
   "metadata": {},
   "outputs": [],
   "source": [
    "import sharepy\n",
    "from sharepy import connect\n",
    "from sharepy import SharePointSession\n",
    "import logging"
   ]
  },
  {
   "cell_type": "code",
   "execution_count": 116,
   "id": "f9da56d9",
   "metadata": {},
   "outputs": [
    {
     "name": "stderr",
     "output_type": "stream",
     "text": [
      "An error occurred while retrieving token from XML response: AADSTS500127: No authenticated credentials found in request.\n"
     ]
    },
    {
     "ename": "ValueError",
     "evalue": "An error occurred while retrieving token from XML response: AADSTS500127: No authenticated credentials found in request.",
     "output_type": "error",
     "traceback": [
      "\u001b[1;31m---------------------------------------------------------------------------\u001b[0m",
      "\u001b[1;31mValueError\u001b[0m                                Traceback (most recent call last)",
      "Input \u001b[1;32mIn [116]\u001b[0m, in \u001b[0;36m<cell line: 6>\u001b[1;34m()\u001b[0m\n\u001b[0;32m      3\u001b[0m \u001b[38;5;28;01mfrom\u001b[39;00m \u001b[38;5;21;01moffice365\u001b[39;00m\u001b[38;5;21;01m.\u001b[39;00m\u001b[38;5;21;01msharepoint\u001b[39;00m\u001b[38;5;21;01m.\u001b[39;00m\u001b[38;5;21;01mfiles\u001b[39;00m\u001b[38;5;21;01m.\u001b[39;00m\u001b[38;5;21;01mfile\u001b[39;00m \u001b[38;5;28;01mimport\u001b[39;00m File\n\u001b[0;32m      5\u001b[0m ctx_auth \u001b[38;5;241m=\u001b[39m AuthenticationContext(\u001b[38;5;124m\"\u001b[39m\u001b[38;5;124mhttps://draexlmaier-my.sharepoint.com/personal/samar_jberi_extern_draexlmaier_com\u001b[39m\u001b[38;5;124m\"\u001b[39m)\n\u001b[1;32m----> 6\u001b[0m \u001b[43mctx_auth\u001b[49m\u001b[38;5;241;43m.\u001b[39;49m\u001b[43macquire_token_for_user\u001b[49m\u001b[43m(\u001b[49m\u001b[38;5;124;43m\"\u001b[39;49m\u001b[38;5;124;43mSamar.Jberi.extern@draexlmaier.com\u001b[39;49m\u001b[38;5;124;43m\"\u001b[39;49m\u001b[43m,\u001b[49m\u001b[43m \u001b[49m\u001b[38;5;124;43m\"\u001b[39;49m\u001b[38;5;124;43mSam123456@\u001b[39;49m\u001b[38;5;124;43m\"\u001b[39;49m\u001b[43m)\u001b[49m   \n\u001b[0;32m      7\u001b[0m ctx \u001b[38;5;241m=\u001b[39m ClientContext(url, ctx_auth)\n\u001b[0;32m      8\u001b[0m response \u001b[38;5;241m=\u001b[39m File\u001b[38;5;241m.\u001b[39mopen_binary(ctx, \u001b[38;5;124m\"\u001b[39m\u001b[38;5;124mhttps://draexlmaier-my.sharepoint.com/:x:/r/personal/samar_jberi_extern_draexlmaier_com/Documents/Test/test.xlsx?d=w6261e8c6347f4d938aa95a0827588c35&csf=1&web=1&e=sfA7Cp\u001b[39m\u001b[38;5;124m\"\u001b[39m)\n",
      "File \u001b[1;32m~\\Anaconda3\\lib\\site-packages\\office365\\runtime\\auth\\authentication_context.py:75\u001b[0m, in \u001b[0;36mAuthenticationContext.acquire_token_for_user\u001b[1;34m(self, username, password, browser_mode)\u001b[0m\n\u001b[0;32m     66\u001b[0m \u001b[38;5;124;03m\"\"\"Acquire token via user credentials\u001b[39;00m\n\u001b[0;32m     67\u001b[0m \u001b[38;5;124;03mStatus: deprecated!\u001b[39;00m\n\u001b[0;32m     68\u001b[0m \n\u001b[1;32m   (...)\u001b[0m\n\u001b[0;32m     71\u001b[0m \u001b[38;5;124;03m:type browser_mode: str\u001b[39;00m\n\u001b[0;32m     72\u001b[0m \u001b[38;5;124;03m\"\"\"\u001b[39;00m\n\u001b[0;32m     73\u001b[0m \u001b[38;5;28mself\u001b[39m\u001b[38;5;241m.\u001b[39m_provider \u001b[38;5;241m=\u001b[39m SamlTokenProvider(url\u001b[38;5;241m=\u001b[39m\u001b[38;5;28mself\u001b[39m\u001b[38;5;241m.\u001b[39mauthority_url, username\u001b[38;5;241m=\u001b[39musername, password\u001b[38;5;241m=\u001b[39mpassword,\n\u001b[0;32m     74\u001b[0m                                    browser_mode\u001b[38;5;241m=\u001b[39mbrowser_mode)\n\u001b[1;32m---> 75\u001b[0m \u001b[38;5;28;01mreturn\u001b[39;00m \u001b[38;5;28;43mself\u001b[39;49m\u001b[38;5;241;43m.\u001b[39;49m\u001b[43m_provider\u001b[49m\u001b[38;5;241;43m.\u001b[39;49m\u001b[43mensure_authentication_cookie\u001b[49m\u001b[43m(\u001b[49m\u001b[43m)\u001b[49m\n",
      "File \u001b[1;32m~\\Anaconda3\\lib\\site-packages\\office365\\runtime\\auth\\providers\\saml_token_provider.py:84\u001b[0m, in \u001b[0;36mSamlTokenProvider.ensure_authentication_cookie\u001b[1;34m(self)\u001b[0m\n\u001b[0;32m     82\u001b[0m \u001b[38;5;28;01mdef\u001b[39;00m \u001b[38;5;21mensure_authentication_cookie\u001b[39m(\u001b[38;5;28mself\u001b[39m):\n\u001b[0;32m     83\u001b[0m     \u001b[38;5;28;01mif\u001b[39;00m \u001b[38;5;28mself\u001b[39m\u001b[38;5;241m.\u001b[39m_cached_auth_cookies \u001b[38;5;129;01mis\u001b[39;00m \u001b[38;5;28;01mNone\u001b[39;00m:\n\u001b[1;32m---> 84\u001b[0m         \u001b[38;5;28mself\u001b[39m\u001b[38;5;241m.\u001b[39m_cached_auth_cookies \u001b[38;5;241m=\u001b[39m \u001b[38;5;28;43mself\u001b[39;49m\u001b[38;5;241;43m.\u001b[39;49m\u001b[43mget_authentication_cookie\u001b[49m\u001b[43m(\u001b[49m\u001b[43m)\u001b[49m\n\u001b[0;32m     85\u001b[0m     \u001b[38;5;28;01mreturn\u001b[39;00m \u001b[38;5;28;01mTrue\u001b[39;00m\n",
      "File \u001b[1;32m~\\Anaconda3\\lib\\site-packages\\office365\\runtime\\auth\\providers\\saml_token_provider.py:97\u001b[0m, in \u001b[0;36mSamlTokenProvider.get_authentication_cookie\u001b[1;34m(self)\u001b[0m\n\u001b[0;32m     95\u001b[0m user_realm \u001b[38;5;241m=\u001b[39m \u001b[38;5;28mself\u001b[39m\u001b[38;5;241m.\u001b[39m_get_user_realm()\n\u001b[0;32m     96\u001b[0m \u001b[38;5;28;01mif\u001b[39;00m user_realm\u001b[38;5;241m.\u001b[39mIsFederated:\n\u001b[1;32m---> 97\u001b[0m     token \u001b[38;5;241m=\u001b[39m \u001b[38;5;28;43mself\u001b[39;49m\u001b[38;5;241;43m.\u001b[39;49m\u001b[43m_acquire_service_token_from_adfs\u001b[49m\u001b[43m(\u001b[49m\u001b[43muser_realm\u001b[49m\u001b[38;5;241;43m.\u001b[39;49m\u001b[43mSTSAuthUrl\u001b[49m\u001b[43m)\u001b[49m\n\u001b[0;32m     98\u001b[0m \u001b[38;5;28;01melse\u001b[39;00m:\n\u001b[0;32m     99\u001b[0m     token \u001b[38;5;241m=\u001b[39m \u001b[38;5;28mself\u001b[39m\u001b[38;5;241m.\u001b[39m_acquire_service_token()\n",
      "File \u001b[1;32m~\\Anaconda3\\lib\\site-packages\\office365\\runtime\\auth\\providers\\saml_token_provider.py:152\u001b[0m, in \u001b[0;36mSamlTokenProvider._acquire_service_token_from_adfs\u001b[1;34m(self, adfs_url)\u001b[0m\n\u001b[0;32m    149\u001b[0m \u001b[38;5;66;03m# 3. get security token\u001b[39;00m\n\u001b[0;32m    150\u001b[0m response \u001b[38;5;241m=\u001b[39m requests\u001b[38;5;241m.\u001b[39mpost(\u001b[38;5;28mself\u001b[39m\u001b[38;5;241m.\u001b[39m_sts_profile\u001b[38;5;241m.\u001b[39msecurity_token_service_url, data\u001b[38;5;241m=\u001b[39mpayload,\n\u001b[0;32m    151\u001b[0m                          headers\u001b[38;5;241m=\u001b[39m{\u001b[38;5;124m'\u001b[39m\u001b[38;5;124mContent-Type\u001b[39m\u001b[38;5;124m'\u001b[39m: \u001b[38;5;124m'\u001b[39m\u001b[38;5;124mapplication/soap+xml\u001b[39m\u001b[38;5;124m'\u001b[39m})\n\u001b[1;32m--> 152\u001b[0m token \u001b[38;5;241m=\u001b[39m \u001b[38;5;28;43mself\u001b[39;49m\u001b[38;5;241;43m.\u001b[39;49m\u001b[43m_process_service_token_response\u001b[49m\u001b[43m(\u001b[49m\u001b[43mresponse\u001b[49m\u001b[43m)\u001b[49m\n\u001b[0;32m    153\u001b[0m logger\u001b[38;5;241m.\u001b[39mdebug_secrets(\u001b[38;5;124m'\u001b[39m\u001b[38;5;124msecurity token: \u001b[39m\u001b[38;5;132;01m%s\u001b[39;00m\u001b[38;5;124m'\u001b[39m, token)\n\u001b[0;32m    154\u001b[0m \u001b[38;5;28;01mreturn\u001b[39;00m token\n",
      "File \u001b[1;32m~\\Anaconda3\\lib\\site-packages\\office365\\runtime\\auth\\providers\\saml_token_provider.py:201\u001b[0m, in \u001b[0;36mSamlTokenProvider._process_service_token_response\u001b[1;34m(self, response)\u001b[0m\n\u001b[0;32m    199\u001b[0m         \u001b[38;5;28mself\u001b[39m\u001b[38;5;241m.\u001b[39merror \u001b[38;5;241m=\u001b[39m \u001b[38;5;124m'\u001b[39m\u001b[38;5;124mAn error occurred while retrieving token from XML response: \u001b[39m\u001b[38;5;132;01m{0}\u001b[39;00m\u001b[38;5;124m'\u001b[39m\u001b[38;5;241m.\u001b[39mformat(error\u001b[38;5;241m.\u001b[39mtext)\n\u001b[0;32m    200\u001b[0m     logger\u001b[38;5;241m.\u001b[39merror(\u001b[38;5;28mself\u001b[39m\u001b[38;5;241m.\u001b[39merror)\n\u001b[1;32m--> 201\u001b[0m     \u001b[38;5;28;01mraise\u001b[39;00m \u001b[38;5;167;01mValueError\u001b[39;00m(\u001b[38;5;28mself\u001b[39m\u001b[38;5;241m.\u001b[39merror)\n\u001b[0;32m    203\u001b[0m \u001b[38;5;66;03m# extract token\u001b[39;00m\n\u001b[0;32m    204\u001b[0m token \u001b[38;5;241m=\u001b[39m xml\u001b[38;5;241m.\u001b[39mfind(\n\u001b[0;32m    205\u001b[0m     \u001b[38;5;124m'\u001b[39m\u001b[38;5;132;01m{0}\u001b[39;00m\u001b[38;5;124mBody/\u001b[39m\u001b[38;5;132;01m{1}\u001b[39;00m\u001b[38;5;124mRequestSecurityTokenResponse/\u001b[39m\u001b[38;5;132;01m{1}\u001b[39;00m\u001b[38;5;124mRequestedSecurityToken/\u001b[39m\u001b[38;5;132;01m{2}\u001b[39;00m\u001b[38;5;124mBinarySecurityToken\u001b[39m\u001b[38;5;124m'\u001b[39m\u001b[38;5;241m.\u001b[39mformat(\n\u001b[0;32m    206\u001b[0m         \u001b[38;5;28mself\u001b[39m\u001b[38;5;241m.\u001b[39m__ns_prefixes[\u001b[38;5;124m'\u001b[39m\u001b[38;5;124ms\u001b[39m\u001b[38;5;124m'\u001b[39m], \u001b[38;5;28mself\u001b[39m\u001b[38;5;241m.\u001b[39m__ns_prefixes[\u001b[38;5;124m'\u001b[39m\u001b[38;5;124mwst\u001b[39m\u001b[38;5;124m'\u001b[39m], \u001b[38;5;28mself\u001b[39m\u001b[38;5;241m.\u001b[39m__ns_prefixes[\u001b[38;5;124m'\u001b[39m\u001b[38;5;124mwsse\u001b[39m\u001b[38;5;124m'\u001b[39m]))\n",
      "\u001b[1;31mValueError\u001b[0m: An error occurred while retrieving token from XML response: AADSTS500127: No authenticated credentials found in request."
     ]
    }
   ],
   "source": [
    "from office365.runtime.auth.authentication_context import AuthenticationContext\n",
    "from office365.sharepoint.client_context import ClientContext\n",
    "from office365.sharepoint.files.file import File\n",
    "\n",
    "ctx_auth = AuthenticationContext(\"https://draexlmaier-my.sharepoint.com/personal/samar_jberi_extern_draexlmaier_com\")\n",
    "ctx_auth.acquire_token_for_user(\"Samar.Jberi.extern@draexlmaier.com\", \"Sam123456@\")   \n",
    "ctx = ClientContext(url, ctx_auth)\n",
    "response = File.open_binary(ctx, \"https://draexlmaier-my.sharepoint.com/:x:/r/personal/samar_jberi_extern_draexlmaier_com/Documents/Test/test.xlsx?d=w6261e8c6347f4d938aa95a0827588c35&csf=1&web=1&e=sfA7Cp\")\n",
    "with open(\"C:/Users/XJS09914403/Desktop/Audit/essaytestt.xlsx\", \"wb\") as local_file:\n",
    "    local_file.write(response.content)"
   ]
  },
  {
   "cell_type": "code",
   "execution_count": 30,
   "id": "de698efb",
   "metadata": {},
   "outputs": [
    {
     "name": "stdout",
     "output_type": "stream",
     "text": [
      "<Response [400]>\n"
     ]
    }
   ],
   "source": [
    "from office365.runtime.auth.authentication_context import AuthenticationContext\n",
    "from office365.sharepoint.client_context import ClientContext\n",
    "from office365.sharepoint.files.file import File\n",
    " \n",
    "app_settings = {\n",
    "    'url': 'https://draexlmaier-my.sharepoint.com/personal/samar_jberi_extern_draexlmaier_com',\n",
    "    'client_id': '134d1448-4b2b-47be-b3fc-b327907af72a',\n",
    "    'client_secret': '9OqOhSgogFuErz6+FfvT12rmpHdv1qJvh4SXudOjZMc=',\n",
    "}\n",
    " \n",
    "context_auth = AuthenticationContext(url=app_settings['url'])\n",
    "context_auth.acquire_token_for_app(client_id=app_settings['client_id'], client_secret=app_settings['client_secret'])\n",
    " \n",
    "ctx = ClientContext(app_settings['url'], context_auth)\n",
    "web = ctx.web\n",
    "ctx.load(web)\n",
    "ctx.execute_query()\n",
    " \n",
    "response = File.open_binary(ctx, \"/Shared%20Documents/01_Agile/PCO_O1-0xxxx-01_Project_Title_Agile_Vx_xx.xlsx?d=wa0992271db8f41b19a58ba37a92879dc&csf=1&web=1&e=9KGhs4\")\n",
    "print(response)\n",
    "with open(\"C:/Users/XJS09914403/Desktop/Audit/essay/Invoice.xlsx\", \"wb\") as local_file:\n",
    "    local_file.write(response.content)"
   ]
  },
  {
   "cell_type": "code",
   "execution_count": 47,
   "id": "fc20041c",
   "metadata": {},
   "outputs": [
    {
     "ename": "ImportError",
     "evalue": "cannot import name 'Auth' from 'authentication' (C:\\Users\\XJS09914403\\Anaconda3\\lib\\site-packages\\authentication\\__init__.py)",
     "output_type": "error",
     "traceback": [
      "\u001b[1;31m---------------------------------------------------------------------------\u001b[0m",
      "\u001b[1;31mImportError\u001b[0m                               Traceback (most recent call last)",
      "Input \u001b[1;32mIn [47]\u001b[0m, in \u001b[0;36m<cell line: 1>\u001b[1;34m()\u001b[0m\n\u001b[1;32m----> 1\u001b[0m \u001b[38;5;28;01mfrom\u001b[39;00m \u001b[38;5;21;01mauthentication\u001b[39;00m \u001b[38;5;28;01mimport\u001b[39;00m Auth\n\u001b[0;32m      2\u001b[0m \u001b[38;5;28;01mfrom\u001b[39;00m \u001b[38;5;21;01mshareplum\u001b[39;00m \u001b[38;5;28;01mimport\u001b[39;00m Site\n",
      "\u001b[1;31mImportError\u001b[0m: cannot import name 'Auth' from 'authentication' (C:\\Users\\XJS09914403\\Anaconda3\\lib\\site-packages\\authentication\\__init__.py)"
     ]
    }
   ],
   "source": [
    "from authentication import Auth\n",
    "from shareplum import Site"
   ]
  },
  {
   "cell_type": "code",
   "execution_count": 42,
   "id": "dd3b95b3",
   "metadata": {},
   "outputs": [
    {
     "name": "stdout",
     "output_type": "stream",
     "text": [
      "Collecting authentication\n",
      "  Downloading authentication-1.1.0-py3-none-any.whl (16 kB)\n",
      "Collecting wtforms\n",
      "  Downloading WTForms-3.0.1-py3-none-any.whl (136 kB)\n",
      "Collecting redis\n",
      "  Downloading redis-4.3.1-py3-none-any.whl (241 kB)\n",
      "Collecting passlib\n",
      "  Downloading passlib-1.7.4-py2.py3-none-any.whl (525 kB)\n",
      "Collecting pycryptodome\n",
      "  Using cached pycryptodome-3.14.1-cp35-abi3-win_amd64.whl (1.8 MB)\n",
      "Requirement already satisfied: Flask>=1.0 in c:\\users\\xjs09914403\\anaconda3\\lib\\site-packages (from authentication) (1.1.2)\n",
      "Requirement already satisfied: Jinja2>=2.10.1 in c:\\users\\xjs09914403\\anaconda3\\lib\\site-packages (from Flask>=1.0->authentication) (2.11.3)\n",
      "Requirement already satisfied: click>=5.1 in c:\\users\\xjs09914403\\anaconda3\\lib\\site-packages (from Flask>=1.0->authentication) (8.0.4)\n",
      "Requirement already satisfied: Werkzeug>=0.15 in c:\\users\\xjs09914403\\anaconda3\\lib\\site-packages (from Flask>=1.0->authentication) (2.0.3)\n",
      "Requirement already satisfied: itsdangerous>=0.24 in c:\\users\\xjs09914403\\anaconda3\\lib\\site-packages (from Flask>=1.0->authentication) (2.0.1)\n",
      "Requirement already satisfied: colorama in c:\\users\\xjs09914403\\anaconda3\\lib\\site-packages (from click>=5.1->Flask>=1.0->authentication) (0.4.4)\n",
      "Requirement already satisfied: MarkupSafe>=0.23 in c:\\users\\xjs09914403\\anaconda3\\lib\\site-packages (from Jinja2>=2.10.1->Flask>=1.0->authentication) (2.0.1)\n",
      "Collecting deprecated>=1.2.3\n",
      "  Downloading Deprecated-1.2.13-py2.py3-none-any.whl (9.6 kB)\n",
      "Collecting async-timeout>=4.0.2\n",
      "  Downloading async_timeout-4.0.2-py3-none-any.whl (5.8 kB)\n",
      "Requirement already satisfied: packaging>=20.4 in c:\\users\\xjs09914403\\anaconda3\\lib\\site-packages (from redis->authentication) (21.3)\n",
      "Requirement already satisfied: wrapt<2,>=1.10 in c:\\users\\xjs09914403\\anaconda3\\lib\\site-packages (from deprecated>=1.2.3->redis->authentication) (1.12.1)\n",
      "Requirement already satisfied: pyparsing!=3.0.5,>=2.0.2 in c:\\users\\xjs09914403\\anaconda3\\lib\\site-packages (from packaging>=20.4->redis->authentication) (3.0.4)\n",
      "Installing collected packages: deprecated, async-timeout, wtforms, redis, pycryptodome, passlib, authentication\n",
      "  Attempting uninstall: async-timeout\n",
      "    Found existing installation: async-timeout 4.0.1\n",
      "    Uninstalling async-timeout-4.0.1:\n",
      "      Successfully uninstalled async-timeout-4.0.1\n",
      "Successfully installed async-timeout-4.0.2 authentication-1.1.0 deprecated-1.2.13 passlib-1.7.4 pycryptodome-3.14.1 redis-4.3.1 wtforms-3.0.1\n",
      "Note: you may need to restart the kernel to use updated packages.\n"
     ]
    }
   ],
   "source": [
    "pip install authentication"
   ]
  },
  {
   "cell_type": "markdown",
   "id": "0c2273a1",
   "metadata": {},
   "source": [
    "# another desperate solution"
   ]
  },
  {
   "cell_type": "code",
   "execution_count": 50,
   "id": "ae77b12f",
   "metadata": {},
   "outputs": [
    {
     "name": "stdout",
     "output_type": "stream",
     "text": [
      "Requirement already satisfied: pandas in c:\\users\\xjs09914403\\anaconda3\\lib\\site-packages (1.4.2)\n",
      "Requirement already satisfied: numpy>=1.18.5 in c:\\users\\xjs09914403\\anaconda3\\lib\\site-packages (from pandas) (1.21.5)\n",
      "Requirement already satisfied: python-dateutil>=2.8.1 in c:\\users\\xjs09914403\\anaconda3\\lib\\site-packages (from pandas) (2.8.2)\n",
      "Requirement already satisfied: pytz>=2020.1 in c:\\users\\xjs09914403\\anaconda3\\lib\\site-packages (from pandas) (2021.3)\n",
      "Requirement already satisfied: six>=1.5 in c:\\users\\xjs09914403\\anaconda3\\lib\\site-packages (from python-dateutil>=2.8.1->pandas) (1.16.0)\n",
      "Note: you may need to restart the kernel to use updated packages.\n"
     ]
    }
   ],
   "source": [
    "pip install pandas"
   ]
  },
  {
   "cell_type": "code",
   "execution_count": 51,
   "id": "7cf1920a",
   "metadata": {},
   "outputs": [
    {
     "name": "stdout",
     "output_type": "stream",
     "text": [
      "Requirement already satisfied: sharepy in c:\\users\\xjs09914403\\anaconda3\\lib\\site-packages (2.0.0)\n",
      "Requirement already satisfied: requests<3,>=2 in c:\\users\\xjs09914403\\anaconda3\\lib\\site-packages (from sharepy) (2.27.1)\n",
      "Requirement already satisfied: charset-normalizer~=2.0.0 in c:\\users\\xjs09914403\\anaconda3\\lib\\site-packages (from requests<3,>=2->sharepy) (2.0.4)\n",
      "Requirement already satisfied: urllib3<1.27,>=1.21.1 in c:\\users\\xjs09914403\\anaconda3\\lib\\site-packages (from requests<3,>=2->sharepy) (1.26.9)\n",
      "Requirement already satisfied: certifi>=2017.4.17 in c:\\users\\xjs09914403\\anaconda3\\lib\\site-packages (from requests<3,>=2->sharepy) (2021.10.8)\n",
      "Requirement already satisfied: idna<4,>=2.5 in c:\\users\\xjs09914403\\anaconda3\\lib\\site-packages (from requests<3,>=2->sharepy) (3.3)\n",
      "Note: you may need to restart the kernel to use updated packages.\n"
     ]
    }
   ],
   "source": [
    "pip install sharepy"
   ]
  },
  {
   "cell_type": "code",
   "execution_count": 52,
   "id": "352e0eb1",
   "metadata": {},
   "outputs": [],
   "source": [
    "import sharepy\n",
    "import pandas as pd"
   ]
  },
  {
   "cell_type": "code",
   "execution_count": 53,
   "id": "5e4da526",
   "metadata": {},
   "outputs": [
    {
     "ename": "AuthError",
     "evalue": "Token request failed. Invalid server response",
     "output_type": "error",
     "traceback": [
      "\u001b[1;31m---------------------------------------------------------------------------\u001b[0m",
      "\u001b[1;31mAttributeError\u001b[0m                            Traceback (most recent call last)",
      "File \u001b[1;32m~\\Anaconda3\\lib\\site-packages\\sharepy\\auth\\adfs.py:75\u001b[0m, in \u001b[0;36mSharePointADFS._get_token\u001b[1;34m(self)\u001b[0m\n\u001b[0;32m     74\u001b[0m     root \u001b[38;5;241m=\u001b[39m et\u001b[38;5;241m.\u001b[39mfromstring(response\u001b[38;5;241m.\u001b[39mtext)\n\u001b[1;32m---> 75\u001b[0m     token \u001b[38;5;241m=\u001b[39m \u001b[43mroot\u001b[49m\u001b[38;5;241;43m.\u001b[39;49m\u001b[43mfind\u001b[49m\u001b[43m(\u001b[49m\u001b[38;5;124;43m'\u001b[39;49m\u001b[38;5;124;43m.//wsse:BinarySecurityToken\u001b[39;49m\u001b[38;5;124;43m'\u001b[39;49m\u001b[43m,\u001b[49m\u001b[43m \u001b[49m\u001b[43mns\u001b[49m\u001b[43m)\u001b[49m\u001b[38;5;241;43m.\u001b[39;49m\u001b[43mtext\u001b[49m\n\u001b[0;32m     76\u001b[0m \u001b[38;5;28;01mexcept\u001b[39;00m (\u001b[38;5;167;01mAttributeError\u001b[39;00m, et\u001b[38;5;241m.\u001b[39mParseError):\n",
      "\u001b[1;31mAttributeError\u001b[0m: 'NoneType' object has no attribute 'text'",
      "\nDuring handling of the above exception, another exception occurred:\n",
      "\u001b[1;31mAuthError\u001b[0m                                 Traceback (most recent call last)",
      "Input \u001b[1;32mIn [53]\u001b[0m, in \u001b[0;36m<cell line: 4>\u001b[1;34m()\u001b[0m\n\u001b[0;32m      2\u001b[0m username\u001b[38;5;241m=\u001b[39m \u001b[38;5;124m'\u001b[39m\u001b[38;5;124mSamar.Jberi.extern@draexlmaier.com\u001b[39m\u001b[38;5;124m'\u001b[39m\n\u001b[0;32m      3\u001b[0m password\u001b[38;5;241m=\u001b[39m \u001b[38;5;124m'\u001b[39m\u001b[38;5;124mSam123456@\u001b[39m\u001b[38;5;124m'\u001b[39m\n\u001b[1;32m----> 4\u001b[0m connection \u001b[38;5;241m=\u001b[39m \u001b[43msharepy\u001b[49m\u001b[38;5;241;43m.\u001b[39;49m\u001b[43mconnect\u001b[49m\u001b[43m(\u001b[49m\u001b[43murl\u001b[49m\u001b[43m,\u001b[49m\u001b[43m \u001b[49m\u001b[43musername\u001b[49m\u001b[38;5;241;43m=\u001b[39;49m\u001b[43musername\u001b[49m\u001b[43m,\u001b[49m\u001b[43m \u001b[49m\u001b[43mpassword\u001b[49m\u001b[38;5;241;43m=\u001b[39;49m\u001b[43mpassword\u001b[49m\u001b[43m)\u001b[49m\n",
      "File \u001b[1;32m~\\Anaconda3\\lib\\site-packages\\sharepy\\session.py:15\u001b[0m, in \u001b[0;36mconnect\u001b[1;34m(site, username, password)\u001b[0m\n\u001b[0;32m     13\u001b[0m username \u001b[38;5;241m=\u001b[39m username \u001b[38;5;129;01mor\u001b[39;00m \u001b[38;5;28minput\u001b[39m(\u001b[38;5;124m'\u001b[39m\u001b[38;5;124mEnter your username: \u001b[39m\u001b[38;5;124m'\u001b[39m)\n\u001b[0;32m     14\u001b[0m autoauth \u001b[38;5;241m=\u001b[39m auth\u001b[38;5;241m.\u001b[39mdetect(username\u001b[38;5;241m=\u001b[39musername, password\u001b[38;5;241m=\u001b[39mpassword)\n\u001b[1;32m---> 15\u001b[0m \u001b[38;5;28;01mreturn\u001b[39;00m \u001b[43mSharePointSession\u001b[49m\u001b[43m(\u001b[49m\u001b[43msite\u001b[49m\u001b[43m,\u001b[49m\u001b[43m \u001b[49m\u001b[43mauth\u001b[49m\u001b[38;5;241;43m=\u001b[39;49m\u001b[43mautoauth\u001b[49m\u001b[43m)\u001b[49m\n",
      "File \u001b[1;32m~\\Anaconda3\\lib\\site-packages\\sharepy\\session.py:61\u001b[0m, in \u001b[0;36mSharePointSession.__init__\u001b[1;34m(self, site, auth)\u001b[0m\n\u001b[0;32m     56\u001b[0m \u001b[38;5;28mself\u001b[39m\u001b[38;5;241m.\u001b[39mauth \u001b[38;5;241m=\u001b[39m auth\n\u001b[0;32m     57\u001b[0m \u001b[38;5;28mself\u001b[39m\u001b[38;5;241m.\u001b[39mheaders\u001b[38;5;241m.\u001b[39mupdate({\n\u001b[0;32m     58\u001b[0m     \u001b[38;5;124m'\u001b[39m\u001b[38;5;124mAccept\u001b[39m\u001b[38;5;124m'\u001b[39m: \u001b[38;5;124m'\u001b[39m\u001b[38;5;124mapplication/json; odata=verbose\u001b[39m\u001b[38;5;124m'\u001b[39m,\n\u001b[0;32m     59\u001b[0m     \u001b[38;5;124m'\u001b[39m\u001b[38;5;124mContent-type\u001b[39m\u001b[38;5;124m'\u001b[39m: \u001b[38;5;124m'\u001b[39m\u001b[38;5;124mapplication/json; odata=verbose\u001b[39m\u001b[38;5;124m'\u001b[39m\n\u001b[0;32m     60\u001b[0m })\n\u001b[1;32m---> 61\u001b[0m \u001b[38;5;28;43mself\u001b[39;49m\u001b[38;5;241;43m.\u001b[39;49m\u001b[43mauth\u001b[49m\u001b[38;5;241;43m.\u001b[39;49m\u001b[43mlogin\u001b[49m\u001b[43m(\u001b[49m\u001b[38;5;28;43mself\u001b[39;49m\u001b[38;5;241;43m.\u001b[39;49m\u001b[43msite\u001b[49m\u001b[43m)\u001b[49m\n",
      "File \u001b[1;32m~\\Anaconda3\\lib\\site-packages\\sharepy\\auth\\adfs.py:27\u001b[0m, in \u001b[0;36mSharePointADFS.login\u001b[1;34m(self, site)\u001b[0m\n\u001b[0;32m     25\u001b[0m \u001b[38;5;124;03m\"\"\"Perform authentication steps\"\"\"\u001b[39;00m\n\u001b[0;32m     26\u001b[0m \u001b[38;5;28mself\u001b[39m\u001b[38;5;241m.\u001b[39msite \u001b[38;5;241m=\u001b[39m site\n\u001b[1;32m---> 27\u001b[0m \u001b[38;5;28;43mself\u001b[39;49m\u001b[38;5;241;43m.\u001b[39;49m\u001b[43m_get_token\u001b[49m\u001b[43m(\u001b[49m\u001b[43m)\u001b[49m\n\u001b[0;32m     28\u001b[0m \u001b[38;5;28mself\u001b[39m\u001b[38;5;241m.\u001b[39m_get_cookie()\n\u001b[0;32m     29\u001b[0m \u001b[38;5;28mself\u001b[39m\u001b[38;5;241m.\u001b[39m_get_digest()\n",
      "File \u001b[1;32m~\\Anaconda3\\lib\\site-packages\\sharepy\\auth\\adfs.py:77\u001b[0m, in \u001b[0;36mSharePointADFS._get_token\u001b[1;34m(self)\u001b[0m\n\u001b[0;32m     75\u001b[0m     token \u001b[38;5;241m=\u001b[39m root\u001b[38;5;241m.\u001b[39mfind(\u001b[38;5;124m'\u001b[39m\u001b[38;5;124m.//wsse:BinarySecurityToken\u001b[39m\u001b[38;5;124m'\u001b[39m, ns)\u001b[38;5;241m.\u001b[39mtext\n\u001b[0;32m     76\u001b[0m \u001b[38;5;28;01mexcept\u001b[39;00m (\u001b[38;5;167;01mAttributeError\u001b[39;00m, et\u001b[38;5;241m.\u001b[39mParseError):\n\u001b[1;32m---> 77\u001b[0m     \u001b[38;5;28;01mraise\u001b[39;00m errors\u001b[38;5;241m.\u001b[39mAuthError(\u001b[38;5;124m'\u001b[39m\u001b[38;5;124mToken request failed. Invalid server response\u001b[39m\u001b[38;5;124m'\u001b[39m)\n\u001b[0;32m     79\u001b[0m \u001b[38;5;28mself\u001b[39m\u001b[38;5;241m.\u001b[39mtoken \u001b[38;5;241m=\u001b[39m token\n\u001b[0;32m     80\u001b[0m \u001b[38;5;28;01mreturn\u001b[39;00m \u001b[38;5;28;01mTrue\u001b[39;00m\n",
      "\u001b[1;31mAuthError\u001b[0m: Token request failed. Invalid server response"
     ]
    }
   ],
   "source": [
    "url='https://draexlmaier-my.sharepoint.com/personal/samar_jberi_extern_draexlmaier_com'\n",
    "username= 'Samar.Jberi.extern@draexlmaier.com'\n",
    "password= 'Sam123456@'\n",
    "connection = sharepy.connect(url, username=username, password=password)"
   ]
  },
  {
   "cell_type": "code",
   "execution_count": 55,
   "id": "dbc4ba13",
   "metadata": {},
   "outputs": [
    {
     "name": "stdout",
     "output_type": "stream",
     "text": [
      "Requirement already satisfied: Office365-REST-Python-Client in c:\\users\\xjs09914403\\anaconda3\\lib\\site-packages (2.2.1)\n",
      "Requirement already satisfied: adal in c:\\users\\xjs09914403\\anaconda3\\lib\\site-packages (from Office365-REST-Python-Client) (1.2.7)\n",
      "Requirement already satisfied: requests in c:\\users\\xjs09914403\\anaconda3\\lib\\site-packages (from Office365-REST-Python-Client) (2.27.1)\n",
      "Requirement already satisfied: cryptography>=1.1.0 in c:\\users\\xjs09914403\\anaconda3\\lib\\site-packages (from adal->Office365-REST-Python-Client) (3.4.8)\n",
      "Requirement already satisfied: PyJWT<3,>=1.0.0 in c:\\users\\xjs09914403\\anaconda3\\lib\\site-packages (from adal->Office365-REST-Python-Client) (2.1.0)\n",
      "Requirement already satisfied: python-dateutil<3,>=2.1.0 in c:\\users\\xjs09914403\\anaconda3\\lib\\site-packages (from adal->Office365-REST-Python-Client) (2.8.2)\n",
      "Requirement already satisfied: cffi>=1.12 in c:\\users\\xjs09914403\\anaconda3\\lib\\site-packages (from cryptography>=1.1.0->adal->Office365-REST-Python-Client) (1.15.0)\n",
      "Requirement already satisfied: pycparser in c:\\users\\xjs09914403\\anaconda3\\lib\\site-packages (from cffi>=1.12->cryptography>=1.1.0->adal->Office365-REST-Python-Client) (2.21)\n",
      "Requirement already satisfied: six>=1.5 in c:\\users\\xjs09914403\\anaconda3\\lib\\site-packages (from python-dateutil<3,>=2.1.0->adal->Office365-REST-Python-Client) (1.16.0)\n",
      "Requirement already satisfied: charset-normalizer~=2.0.0 in c:\\users\\xjs09914403\\anaconda3\\lib\\site-packages (from requests->Office365-REST-Python-Client) (2.0.4)\n",
      "Requirement already satisfied: urllib3<1.27,>=1.21.1 in c:\\users\\xjs09914403\\anaconda3\\lib\\site-packages (from requests->Office365-REST-Python-Client) (1.26.9)\n",
      "Requirement already satisfied: certifi>=2017.4.17 in c:\\users\\xjs09914403\\anaconda3\\lib\\site-packages (from requests->Office365-REST-Python-Client) (2021.10.8)\n",
      "Requirement already satisfied: idna<4,>=2.5 in c:\\users\\xjs09914403\\anaconda3\\lib\\site-packages (from requests->Office365-REST-Python-Client) (3.3)\n"
     ]
    },
    {
     "ename": "NameError",
     "evalue": "name 'credentials' is not defined",
     "output_type": "error",
     "traceback": [
      "\u001b[1;31m---------------------------------------------------------------------------\u001b[0m",
      "\u001b[1;31mNameError\u001b[0m                                 Traceback (most recent call last)",
      "Input \u001b[1;32mIn [55]\u001b[0m, in \u001b[0;36m<cell line: 13>\u001b[1;34m()\u001b[0m\n\u001b[0;32m     11\u001b[0m sp_site \u001b[38;5;241m=\u001b[39m \u001b[38;5;124m'\u001b[39m\u001b[38;5;124mhttps://draexlmaier.sharepoint.com/\u001b[39m\u001b[38;5;124m'\u001b[39m\n\u001b[0;32m     12\u001b[0m relative_url \u001b[38;5;241m=\u001b[39m \u001b[38;5;124m\"\u001b[39m\u001b[38;5;124mShared\u001b[39m\u001b[38;5;124m%\u001b[39m\u001b[38;5;124m20Documents/Forms/AllItems.aspx?id=\u001b[39m\u001b[38;5;132;01m%2F\u001b[39;00m\u001b[38;5;124mShared\u001b[39m\u001b[38;5;124m%\u001b[39m\u001b[38;5;124m20Documents\u001b[39m\u001b[38;5;132;01m%2F\u001b[39;00m\u001b[38;5;124m01_Agile&viewid=a526e15e-ece5-4c64-b5c3-25984863e2c0\u001b[39m\u001b[38;5;124m\"\u001b[39m\n\u001b[1;32m---> 13\u001b[0m client_credentials \u001b[38;5;241m=\u001b[39m ClientCredential(\u001b[43mcredentials\u001b[49m[\u001b[38;5;124m'\u001b[39m\u001b[38;5;124m134d1448-4b2b-47be-b3fc-b327907af72a\u001b[39m\u001b[38;5;124m'\u001b[39m], credentials[\u001b[38;5;124m'\u001b[39m\u001b[38;5;124m9OqOhSgogFuErz6+FfvT12rmpHdv1qJvh4SXudOjZMc=\u001b[39m\u001b[38;5;124m'\u001b[39m])\n\u001b[0;32m     14\u001b[0m ctx \u001b[38;5;241m=\u001b[39m ClientContext(sp_site)\u001b[38;5;241m.\u001b[39mwith_credentials(client_credentials)\n\u001b[0;32m     15\u001b[0m libraryRoot \u001b[38;5;241m=\u001b[39m ctx\u001b[38;5;241m.\u001b[39mweb\u001b[38;5;241m.\u001b[39mget_folder_by_server_relative_path(relative_url)\n",
      "\u001b[1;31mNameError\u001b[0m: name 'credentials' is not defined"
     ]
    }
   ],
   "source": [
    "!pip install Office365-REST-Python-Client\n",
    "from office365.runtime.auth.client_credential import ClientCredential\n",
    "from office365.runtime.client_request_exception import ClientRequestException\n",
    "from office365.sharepoint.client_context import ClientContext\n",
    "from office365.sharepoint.files.file import File\n",
    "import io\n",
    "import datetime\n",
    "import pandas as pd\n",
    "\n",
    "\n",
    "sp_site = 'https://draexlmaier.sharepoint.com/'\n",
    "relative_url = \"Shared%20Documents/Forms/AllItems.aspx?id=%2FShared%20Documents%2F01_Agile&viewid=a526e15e-ece5-4c64-b5c3-25984863e2c0\"\n",
    "client_credentials = ClientCredential(credentials['134d1448-4b2b-47be-b3fc-b327907af72a'], credentials['9OqOhSgogFuErz6+FfvT12rmpHdv1qJvh4SXudOjZMc='])\n",
    "ctx = ClientContext(sp_site).with_credentials(client_credentials)\n",
    "libraryRoot = ctx.web.get_folder_by_server_relative_path(relative_url)\n",
    "ctx.load(libraryRoot)\n",
    "ctx.execute_query()\n",
    "\n",
    "#if you want to get the folders within <sub_folder> \n",
    "folders = libraryRoot.folders\n",
    "ctx.load(folders)\n",
    "ctx.execute_query()\n",
    "for myfolder in folders:\n",
    "    print(\"Folder name: {0}\".format(myfolder.properties[\"ServerRelativeUrl\"]))\n",
    "\n"
   ]
  },
  {
   "cell_type": "code",
   "execution_count": 56,
   "id": "0f8b2d0c",
   "metadata": {},
   "outputs": [
    {
     "name": "stderr",
     "output_type": "stream",
     "text": [
      "An error occurred while retrieving token from XML response: AADSTS500069: The element with ID '_a6d54974-86c5-458d-b8ec-31eceb56381b' was either unsigned or the signature was invalid.\n",
      "An error occurred while retrieving auth cookies from https://draexlmaier-my.sharepoint.com/_vti_bin/idcrl.svc/\n"
     ]
    },
    {
     "ename": "ValueError",
     "evalue": "Acquire token failed: An error occurred while retrieving auth cookies from https://draexlmaier-my.sharepoint.com/_vti_bin/idcrl.svc/",
     "output_type": "error",
     "traceback": [
      "\u001b[1;31m---------------------------------------------------------------------------\u001b[0m",
      "\u001b[1;31mValueError\u001b[0m                                Traceback (most recent call last)",
      "Input \u001b[1;32mIn [56]\u001b[0m, in \u001b[0;36m<cell line: 10>\u001b[1;34m()\u001b[0m\n\u001b[0;32m      8\u001b[0m l_items \u001b[38;5;241m=\u001b[39m s_list\u001b[38;5;241m.\u001b[39mget_items()\n\u001b[0;32m      9\u001b[0m ctx\u001b[38;5;241m.\u001b[39mload(l_items)\n\u001b[1;32m---> 10\u001b[0m \u001b[43mctx\u001b[49m\u001b[38;5;241;43m.\u001b[39;49m\u001b[43mexecute_query\u001b[49m\u001b[43m(\u001b[49m\u001b[43m)\u001b[49m\n\u001b[0;32m     12\u001b[0m \u001b[38;5;28;01mfor\u001b[39;00m item \u001b[38;5;129;01min\u001b[39;00m l_items:\n\u001b[0;32m     13\u001b[0m     \u001b[38;5;28mprint\u001b[39m(item\u001b[38;5;241m.\u001b[39mproperties[\u001b[38;5;124m'\u001b[39m\u001b[38;5;124mTitle\u001b[39m\u001b[38;5;124m'\u001b[39m],item\u001b[38;5;241m.\u001b[39mproperties[\u001b[38;5;124m'\u001b[39m\u001b[38;5;124mCheck\u001b[39m\u001b[38;5;124m'\u001b[39m])\n",
      "File \u001b[1;32m~\\Anaconda3\\lib\\site-packages\\office365\\runtime\\client_runtime_context.py:140\u001b[0m, in \u001b[0;36mClientRuntimeContext.execute_query\u001b[1;34m(self)\u001b[0m\n\u001b[0;32m    138\u001b[0m \u001b[38;5;28;01mdef\u001b[39;00m \u001b[38;5;21mexecute_query\u001b[39m(\u001b[38;5;28mself\u001b[39m):\n\u001b[0;32m    139\u001b[0m     \u001b[38;5;28;01mif\u001b[39;00m \u001b[38;5;28mself\u001b[39m\u001b[38;5;241m.\u001b[39mhas_pending_request:\n\u001b[1;32m--> 140\u001b[0m         \u001b[38;5;28;43mself\u001b[39;49m\u001b[38;5;241;43m.\u001b[39;49m\u001b[43mpending_request\u001b[49m\u001b[43m(\u001b[49m\u001b[43m)\u001b[49m\u001b[38;5;241;43m.\u001b[39;49m\u001b[43mexecute_query\u001b[49m\u001b[43m(\u001b[49m\u001b[43m)\u001b[49m\n",
      "File \u001b[1;32m~\\Anaconda3\\lib\\site-packages\\office365\\runtime\\client_request.py:73\u001b[0m, in \u001b[0;36mClientRequest.execute_query\u001b[1;34m(self)\u001b[0m\n\u001b[0;32m     71\u001b[0m \u001b[38;5;28;01mtry\u001b[39;00m:\n\u001b[0;32m     72\u001b[0m     request \u001b[38;5;241m=\u001b[39m \u001b[38;5;28mself\u001b[39m\u001b[38;5;241m.\u001b[39mbuild_request()\n\u001b[1;32m---> 73\u001b[0m     \u001b[38;5;28;43mself\u001b[39;49m\u001b[38;5;241;43m.\u001b[39;49m\u001b[43mbeforeExecute\u001b[49m\u001b[38;5;241;43m.\u001b[39;49m\u001b[43mnotify\u001b[49m\u001b[43m(\u001b[49m\u001b[43mrequest\u001b[49m\u001b[43m)\u001b[49m\n\u001b[0;32m     74\u001b[0m     response \u001b[38;5;241m=\u001b[39m \u001b[38;5;28mself\u001b[39m\u001b[38;5;241m.\u001b[39mexecute_request_direct(request)\n\u001b[0;32m     75\u001b[0m     response\u001b[38;5;241m.\u001b[39mraise_for_status()\n",
      "File \u001b[1;32m~\\Anaconda3\\lib\\site-packages\\office365\\runtime\\types\\EventHandler.py:18\u001b[0m, in \u001b[0;36mEventHandler.notify\u001b[1;34m(self, *args, **kwargs)\u001b[0m\n\u001b[0;32m     16\u001b[0m \u001b[38;5;28;01mif\u001b[39;00m \u001b[38;5;28mself\u001b[39m\u001b[38;5;241m.\u001b[39m_once:\n\u001b[0;32m     17\u001b[0m     \u001b[38;5;28mself\u001b[39m\u001b[38;5;241m.\u001b[39m_listeners\u001b[38;5;241m.\u001b[39mremove(listener)\n\u001b[1;32m---> 18\u001b[0m listener(\u001b[38;5;241m*\u001b[39margs, \u001b[38;5;241m*\u001b[39m\u001b[38;5;241m*\u001b[39mkwargs)\n",
      "File \u001b[1;32m~\\Anaconda3\\lib\\site-packages\\office365\\sharepoint\\client_context.py:195\u001b[0m, in \u001b[0;36mClientContext._build_modification_query\u001b[1;34m(self, request)\u001b[0m\n\u001b[0;32m    192\u001b[0m query \u001b[38;5;241m=\u001b[39m \u001b[38;5;28mself\u001b[39m\u001b[38;5;241m.\u001b[39mcurrent_query\n\u001b[0;32m    194\u001b[0m \u001b[38;5;28;01mif\u001b[39;00m request\u001b[38;5;241m.\u001b[39mmethod \u001b[38;5;241m==\u001b[39m HttpMethod\u001b[38;5;241m.\u001b[39mPost:\n\u001b[1;32m--> 195\u001b[0m     \u001b[38;5;28;43mself\u001b[39;49m\u001b[38;5;241;43m.\u001b[39;49m\u001b[43mensure_form_digest\u001b[49m\u001b[43m(\u001b[49m\u001b[43mrequest\u001b[49m\u001b[43m)\u001b[49m\n\u001b[0;32m    196\u001b[0m \u001b[38;5;66;03m# set custom SharePoint control headers\u001b[39;00m\n\u001b[0;32m    197\u001b[0m \u001b[38;5;28;01mif\u001b[39;00m \u001b[38;5;28misinstance\u001b[39m(\u001b[38;5;28mself\u001b[39m\u001b[38;5;241m.\u001b[39m_pendingRequest\u001b[38;5;241m.\u001b[39mjson_format, JsonLightFormat):\n",
      "File \u001b[1;32m~\\Anaconda3\\lib\\site-packages\\office365\\sharepoint\\client_context.py:159\u001b[0m, in \u001b[0;36mClientContext.ensure_form_digest\u001b[1;34m(self, request_options)\u001b[0m\n\u001b[0;32m    157\u001b[0m \u001b[38;5;28;01mif\u001b[39;00m \u001b[38;5;129;01mnot\u001b[39;00m \u001b[38;5;28mself\u001b[39m\u001b[38;5;241m.\u001b[39m_contextWebInformation:\n\u001b[0;32m    158\u001b[0m     \u001b[38;5;28mself\u001b[39m\u001b[38;5;241m.\u001b[39m_contextWebInformation \u001b[38;5;241m=\u001b[39m ContextWebInformation()\n\u001b[1;32m--> 159\u001b[0m     \u001b[38;5;28;43mself\u001b[39;49m\u001b[38;5;241;43m.\u001b[39;49m\u001b[43mrequest_form_digest\u001b[49m\u001b[43m(\u001b[49m\u001b[43m)\u001b[49m\n\u001b[0;32m    160\u001b[0m request_options\u001b[38;5;241m.\u001b[39mset_header(\u001b[38;5;124m'\u001b[39m\u001b[38;5;124mX-RequestDigest\u001b[39m\u001b[38;5;124m'\u001b[39m, \u001b[38;5;28mself\u001b[39m\u001b[38;5;241m.\u001b[39m_contextWebInformation\u001b[38;5;241m.\u001b[39mFormDigestValue)\n",
      "File \u001b[1;32m~\\Anaconda3\\lib\\site-packages\\office365\\sharepoint\\client_context.py:166\u001b[0m, in \u001b[0;36mClientContext.request_form_digest\u001b[1;34m(self)\u001b[0m\n\u001b[0;32m    164\u001b[0m request \u001b[38;5;241m=\u001b[39m RequestOptions(\u001b[38;5;28mself\u001b[39m\u001b[38;5;241m.\u001b[39mservice_root_url() \u001b[38;5;241m+\u001b[39m \u001b[38;5;124m\"\u001b[39m\u001b[38;5;124mcontextInfo\u001b[39m\u001b[38;5;124m\"\u001b[39m)\n\u001b[0;32m    165\u001b[0m request\u001b[38;5;241m.\u001b[39mmethod \u001b[38;5;241m=\u001b[39m HttpMethod\u001b[38;5;241m.\u001b[39mPost\n\u001b[1;32m--> 166\u001b[0m response \u001b[38;5;241m=\u001b[39m \u001b[38;5;28;43mself\u001b[39;49m\u001b[38;5;241;43m.\u001b[39;49m\u001b[43mexecute_request_direct\u001b[49m\u001b[43m(\u001b[49m\u001b[43mrequest\u001b[49m\u001b[43m)\u001b[49m\n\u001b[0;32m    167\u001b[0m json \u001b[38;5;241m=\u001b[39m response\u001b[38;5;241m.\u001b[39mjson()\n\u001b[0;32m    168\u001b[0m json_format \u001b[38;5;241m=\u001b[39m JsonLightFormat()\n",
      "File \u001b[1;32m~\\Anaconda3\\lib\\site-packages\\office365\\runtime\\client_runtime_context.py:136\u001b[0m, in \u001b[0;36mClientRuntimeContext.execute_request_direct\u001b[1;34m(self, request)\u001b[0m\n\u001b[0;32m    132\u001b[0m \u001b[38;5;28;01mdef\u001b[39;00m \u001b[38;5;21mexecute_request_direct\u001b[39m(\u001b[38;5;28mself\u001b[39m, request):\n\u001b[0;32m    133\u001b[0m     \u001b[38;5;124;03m\"\"\"\u001b[39;00m\n\u001b[0;32m    134\u001b[0m \u001b[38;5;124;03m    :type request: RequestOptions\u001b[39;00m\n\u001b[0;32m    135\u001b[0m \u001b[38;5;124;03m    \"\"\"\u001b[39;00m\n\u001b[1;32m--> 136\u001b[0m     \u001b[38;5;28;01mreturn\u001b[39;00m \u001b[38;5;28;43mself\u001b[39;49m\u001b[38;5;241;43m.\u001b[39;49m\u001b[43mpending_request\u001b[49m\u001b[43m(\u001b[49m\u001b[43m)\u001b[49m\u001b[38;5;241;43m.\u001b[39;49m\u001b[43mexecute_request_direct\u001b[49m\u001b[43m(\u001b[49m\u001b[43mrequest\u001b[49m\u001b[43m)\u001b[49m\n",
      "File \u001b[1;32m~\\Anaconda3\\lib\\site-packages\\office365\\runtime\\odata\\odata_request.py:34\u001b[0m, in \u001b[0;36mODataRequest.execute_request_direct\u001b[1;34m(self, request)\u001b[0m\n\u001b[0;32m     32\u001b[0m \u001b[38;5;28;01mdef\u001b[39;00m \u001b[38;5;21mexecute_request_direct\u001b[39m(\u001b[38;5;28mself\u001b[39m, request):\n\u001b[0;32m     33\u001b[0m     \u001b[38;5;28mself\u001b[39m\u001b[38;5;241m.\u001b[39mensure_media_type(request)\n\u001b[1;32m---> 34\u001b[0m     \u001b[38;5;28;01mreturn\u001b[39;00m \u001b[38;5;28;43msuper\u001b[39;49m\u001b[43m(\u001b[49m\u001b[43mODataRequest\u001b[49m\u001b[43m,\u001b[49m\u001b[43m \u001b[49m\u001b[38;5;28;43mself\u001b[39;49m\u001b[43m)\u001b[49m\u001b[38;5;241;43m.\u001b[39;49m\u001b[43mexecute_request_direct\u001b[49m\u001b[43m(\u001b[49m\u001b[43mrequest\u001b[49m\u001b[43m)\u001b[49m\n",
      "File \u001b[1;32m~\\Anaconda3\\lib\\site-packages\\office365\\runtime\\client_request.py:86\u001b[0m, in \u001b[0;36mClientRequest.execute_request_direct\u001b[1;34m(self, request_options)\u001b[0m\n\u001b[0;32m     81\u001b[0m \u001b[38;5;28;01mdef\u001b[39;00m \u001b[38;5;21mexecute_request_direct\u001b[39m(\u001b[38;5;28mself\u001b[39m, request_options):\n\u001b[0;32m     82\u001b[0m     \u001b[38;5;124;03m\"\"\"Execute client request\u001b[39;00m\n\u001b[0;32m     83\u001b[0m \n\u001b[0;32m     84\u001b[0m \u001b[38;5;124;03m    :type request_options: office365.runtime.http.request_options.RequestOptions\u001b[39;00m\n\u001b[0;32m     85\u001b[0m \u001b[38;5;124;03m    \"\"\"\u001b[39;00m\n\u001b[1;32m---> 86\u001b[0m     \u001b[38;5;28;43mself\u001b[39;49m\u001b[38;5;241;43m.\u001b[39;49m\u001b[43mcontext\u001b[49m\u001b[38;5;241;43m.\u001b[39;49m\u001b[43mauthenticate_request\u001b[49m\u001b[43m(\u001b[49m\u001b[43mrequest_options\u001b[49m\u001b[43m)\u001b[49m\n\u001b[0;32m     87\u001b[0m     \u001b[38;5;28;01mif\u001b[39;00m request_options\u001b[38;5;241m.\u001b[39mmethod \u001b[38;5;241m==\u001b[39m HttpMethod\u001b[38;5;241m.\u001b[39mPost:\n\u001b[0;32m     88\u001b[0m         \u001b[38;5;28;01mif\u001b[39;00m request_options\u001b[38;5;241m.\u001b[39mis_bytes \u001b[38;5;129;01mor\u001b[39;00m request_options\u001b[38;5;241m.\u001b[39mis_file:\n",
      "File \u001b[1;32m~\\Anaconda3\\lib\\site-packages\\office365\\runtime\\client_runtime_context.py:66\u001b[0m, in \u001b[0;36mClientRuntimeContext.authenticate_request\u001b[1;34m(self, request)\u001b[0m\n\u001b[0;32m     62\u001b[0m \u001b[38;5;28;01mdef\u001b[39;00m \u001b[38;5;21mauthenticate_request\u001b[39m(\u001b[38;5;28mself\u001b[39m, request):\n\u001b[0;32m     63\u001b[0m     \u001b[38;5;124;03m\"\"\"\u001b[39;00m\n\u001b[0;32m     64\u001b[0m \u001b[38;5;124;03m    :type request: office365.runtime.http.request_options.RequestOptions\u001b[39;00m\n\u001b[0;32m     65\u001b[0m \u001b[38;5;124;03m    \"\"\"\u001b[39;00m\n\u001b[1;32m---> 66\u001b[0m     \u001b[38;5;28;43mself\u001b[39;49m\u001b[38;5;241;43m.\u001b[39;49m\u001b[43m_auth_context\u001b[49m\u001b[38;5;241;43m.\u001b[39;49m\u001b[43mauthenticate_request\u001b[49m\u001b[43m(\u001b[49m\u001b[43mrequest\u001b[49m\u001b[43m)\u001b[49m\n",
      "File \u001b[1;32m~\\Anaconda3\\lib\\site-packages\\office365\\runtime\\auth\\authentication_context.py:70\u001b[0m, in \u001b[0;36mAuthenticationContext.authenticate_request\u001b[1;34m(self, request_options)\u001b[0m\n\u001b[0;32m     65\u001b[0m \u001b[38;5;124;03m\"\"\"Authenticate request\u001b[39;00m\n\u001b[0;32m     66\u001b[0m \n\u001b[0;32m     67\u001b[0m \u001b[38;5;124;03m:type request_options: RequestOptions\"\"\"\u001b[39;00m\n\u001b[0;32m     69\u001b[0m \u001b[38;5;28;01mif\u001b[39;00m \u001b[38;5;129;01mnot\u001b[39;00m \u001b[38;5;28mself\u001b[39m\u001b[38;5;241m.\u001b[39mis_authenticated \u001b[38;5;129;01mand\u001b[39;00m callable(\u001b[38;5;28mself\u001b[39m\u001b[38;5;241m.\u001b[39macquire_token_func):\n\u001b[1;32m---> 70\u001b[0m     \u001b[38;5;28;43mself\u001b[39;49m\u001b[38;5;241;43m.\u001b[39;49m\u001b[43macquire_token_func\u001b[49m\u001b[43m(\u001b[49m\u001b[43m)\u001b[49m\n\u001b[0;32m     72\u001b[0m \u001b[38;5;28;01mif\u001b[39;00m \u001b[38;5;28misinstance\u001b[39m(\u001b[38;5;28mself\u001b[39m\u001b[38;5;241m.\u001b[39mprovider, SamlTokenProvider):\n\u001b[0;32m     73\u001b[0m     request_options\u001b[38;5;241m.\u001b[39mset_header(\u001b[38;5;124m'\u001b[39m\u001b[38;5;124mCookie\u001b[39m\u001b[38;5;124m'\u001b[39m, \u001b[38;5;28mself\u001b[39m\u001b[38;5;241m.\u001b[39mprovider\u001b[38;5;241m.\u001b[39mget_authentication_cookie())\n",
      "File \u001b[1;32m~\\Anaconda3\\lib\\site-packages\\office365\\sharepoint\\client_context.py:124\u001b[0m, in \u001b[0;36mClientContext.with_credentials.<locals>._acquire_token\u001b[1;34m()\u001b[0m\n\u001b[0;32m    121\u001b[0m     \u001b[38;5;28;01mreturn\u001b[39;00m \u001b[38;5;28mself\u001b[39m\u001b[38;5;241m.\u001b[39mauthentication_context\u001b[38;5;241m.\u001b[39macquire_token_for_app(credentials\u001b[38;5;241m.\u001b[39mclientId,\n\u001b[0;32m    122\u001b[0m                                                              credentials\u001b[38;5;241m.\u001b[39mclientSecret)\n\u001b[0;32m    123\u001b[0m \u001b[38;5;28;01melif\u001b[39;00m \u001b[38;5;28misinstance\u001b[39m(credentials, UserCredential):\n\u001b[1;32m--> 124\u001b[0m     \u001b[38;5;28;01mreturn\u001b[39;00m \u001b[38;5;28;43mself\u001b[39;49m\u001b[38;5;241;43m.\u001b[39;49m\u001b[43mauthentication_context\u001b[49m\u001b[38;5;241;43m.\u001b[39;49m\u001b[43macquire_token_for_user\u001b[49m\u001b[43m(\u001b[49m\u001b[43mcredentials\u001b[49m\u001b[38;5;241;43m.\u001b[39;49m\u001b[43muserName\u001b[49m\u001b[43m,\u001b[49m\n\u001b[0;32m    125\u001b[0m \u001b[43m                                                              \u001b[49m\u001b[43mcredentials\u001b[49m\u001b[38;5;241;43m.\u001b[39;49m\u001b[43mpassword\u001b[49m\u001b[43m)\u001b[49m\n\u001b[0;32m    126\u001b[0m \u001b[38;5;28;01melse\u001b[39;00m:\n\u001b[0;32m    127\u001b[0m     \u001b[38;5;28;01mraise\u001b[39;00m \u001b[38;5;167;01mValueError\u001b[39;00m(\u001b[38;5;124m\"\u001b[39m\u001b[38;5;124mUnknown credential type\u001b[39m\u001b[38;5;124m\"\u001b[39m)\n",
      "File \u001b[1;32m~\\Anaconda3\\lib\\site-packages\\office365\\runtime\\auth\\authentication_context.py:38\u001b[0m, in \u001b[0;36mAuthenticationContext.acquire_token_for_user\u001b[1;34m(self, username, password)\u001b[0m\n\u001b[0;32m     36\u001b[0m \u001b[38;5;28mself\u001b[39m\u001b[38;5;241m.\u001b[39mprovider \u001b[38;5;241m=\u001b[39m SamlTokenProvider(\u001b[38;5;28mself\u001b[39m\u001b[38;5;241m.\u001b[39murl, username, password)\n\u001b[0;32m     37\u001b[0m \u001b[38;5;28;01mif\u001b[39;00m \u001b[38;5;129;01mnot\u001b[39;00m \u001b[38;5;28mself\u001b[39m\u001b[38;5;241m.\u001b[39mprovider\u001b[38;5;241m.\u001b[39macquire_token():\n\u001b[1;32m---> 38\u001b[0m     \u001b[38;5;28;01mraise\u001b[39;00m \u001b[38;5;167;01mValueError\u001b[39;00m(\u001b[38;5;124m'\u001b[39m\u001b[38;5;124mAcquire token failed: \u001b[39m\u001b[38;5;132;01m{0}\u001b[39;00m\u001b[38;5;124m'\u001b[39m\u001b[38;5;241m.\u001b[39mformat(\u001b[38;5;28mself\u001b[39m\u001b[38;5;241m.\u001b[39mprovider\u001b[38;5;241m.\u001b[39merror))\n\u001b[0;32m     39\u001b[0m \u001b[38;5;28;01mreturn\u001b[39;00m \u001b[38;5;28;01mTrue\u001b[39;00m\n",
      "\u001b[1;31mValueError\u001b[0m: Acquire token failed: An error occurred while retrieving auth cookies from https://draexlmaier-my.sharepoint.com/_vti_bin/idcrl.svc/"
     ]
    }
   ],
   "source": [
    "from office365.runtime.auth.user_credential import UserCredential\n",
    "from office365.sharepoint.client_context import ClientContext\n",
    "site_url = \"https://draexlmaier-my.sharepoint.com/personal/samar_jberi_extern_draexlmaier_com\"\n",
    "sp_list = \"DL Modification\"\n",
    "ctx = ClientContext(site_url).with_credentials(UserCredential(\"Samar.Jberi.extern@draexlmaier.com\", \"Sam123456@\"))\n",
    "sp_lists = ctx.web.lists\n",
    "s_list = sp_lists.get_by_title(sp_list)\n",
    "l_items = s_list.get_items()\n",
    "ctx.load(l_items)\n",
    "ctx.execute_query()\n",
    "\n",
    "for item in l_items:\n",
    "    print(item.properties['Title'],item.properties['Check'])\n"
   ]
  },
  {
   "cell_type": "code",
   "execution_count": 19,
   "id": "532cb54f",
   "metadata": {},
   "outputs": [
    {
     "name": "stdout",
     "output_type": "stream",
     "text": [
      "Authenticated into sharepoint app for:  Jberi Samar EXT\n"
     ]
    }
   ],
   "source": [
    "from office365.runtime.auth.authentication_context import AuthenticationContext\n",
    "from office365.runtime.auth.client_credential import ClientCredential\n",
    "from office365.sharepoint.client_context import ClientContext\n",
    "from office365.sharepoint.file import File \n",
    "\n",
    "####inputs########\n",
    "# This will be the URL that points to your sharepoint site. \n",
    "# Make sure you change only the parts of the link that start with \"Your\"\n",
    "url_shrpt = 'https://draexlmaier-my.sharepoint.com/personal/samar_jberi_extern_draexlmaier_com'\n",
    "username_shrpt = 'Samar.Jberi.extern@draexlmaier.com'\n",
    "password_shrpt = 'Sam123456@'\n",
    "folder_url_shrpt = 'https://draexlmaier-my.sharepoint.com/:f:/r/personal/samar_jberi_extern_draexlmaier_com/Documents/Test?csf=1&web=1&e=5crLR2'\n",
    "\n",
    "#######################\n",
    "\n",
    "client_id = \"134d1448-4b2b-47be-b3fc-b327907af72a\"\n",
    "client_secret = \"9OqOhSgogFuErz6+FfvT12rmpHdv1qJvh4SXudOjZMc=\"\n",
    "site_url = \"https://draexlmaier-my.sharepoint.com/personal/samar_jberi_extern_draexlmaier_com/\"\n",
    "\n",
    "\n",
    "ctx = ClientContext.connect_with_credentials(site_url, ClientCredential(client_id, client_secret))\n",
    "web = ctx.web\n",
    "ctx.load(web)\n",
    "ctx.execute_query()\n",
    "print('Authenticated into sharepoint app for: ',web.properties['Title'])\n",
    "\n",
    "\n",
    "\n",
    "\n",
    "\n"
   ]
  },
  {
   "cell_type": "code",
   "execution_count": 14,
   "id": "cd353ef2",
   "metadata": {},
   "outputs": [
    {
     "name": "stdout",
     "output_type": "stream",
     "text": [
      "Problem printing out library contents:  (None, None, \"401 Client Error: Unauthorized for url: https://draexlmaier-my.sharepoint.com/personal/samar_jberi_extern_draexlmaier_com/_api/Web/getFolderByServerRelativeUrl('https:%2F%2Fdraexlmaier-my.sharepoint.com%2F:f:%2Fr%2Fpersonal%2Fsamar_jberi_extern_draexlmaier_com%2FDocuments%2FTest%3Fcsf=1%26web=1%26e=5crLR2')/Files\")\n",
      "None\n"
     ]
    }
   ],
   "source": [
    "####Function for extracting the file names of a folder in sharepoint###\n",
    "###If you want to extract the folder names instead of file names, you have to change \"sub_folders = folder.files\" to \"sub_folders = folder.folders\" in the below function\n",
    "global print_folder_contents\n",
    "def print_folder_contents(ctx, folder_url):\n",
    "    try:\n",
    "\n",
    "        folder = ctx.web.get_folder_by_server_relative_url(folder_url)\n",
    "        fold_names = []\n",
    "        sub_folders = folder.files #Replace files with folders for getting list of folders\n",
    "        ctx.load(sub_folders)\n",
    "        ctx.execute_query()\n",
    "\n",
    "        for s_folder in sub_folders:\n",
    "\n",
    "            fold_names.append(s_folder.properties[\"Name\"])\n",
    "\n",
    "        return fold_names\n",
    "\n",
    "    except Exception as e:\n",
    "        print('Problem printing out library contents: ', e)\n",
    "######################################################\n",
    "\n",
    "\n",
    "# Call the function by giving your folder URL as input  \n",
    "filelist_shrpt=print_folder_contents(ctx,folder_url_shrpt) \n",
    "\n",
    "#Print the list of files present in the folder\n",
    "print(filelist_shrpt)\n"
   ]
  },
  {
   "cell_type": "code",
   "execution_count": 5,
   "id": "b46d7239",
   "metadata": {},
   "outputs": [
    {
     "ename": "SyntaxError",
     "evalue": "invalid syntax (1624904448.py, line 8)",
     "output_type": "error",
     "traceback": [
      "\u001b[1;36m  Input \u001b[1;32mIn [5]\u001b[1;36m\u001b[0m\n\u001b[1;33m    'site_url' = \"https://draexlmaier-my.sharepoint.com/personal/samar_jberi_extern_draexlmaier_com/\"\u001b[0m\n\u001b[1;37m               ^\u001b[0m\n\u001b[1;31mSyntaxError\u001b[0m\u001b[1;31m:\u001b[0m invalid syntax\n"
     ]
    }
   ],
   "source": [
    "import requests\n",
    "from requests_ntlm import HttpNtlmAuth\n",
    " \n",
    "user_credentials = {\n",
    "    'username' : 'Samar.Jberi.extern@draexlmaier.com',\n",
    "    'password' : 'Sam123456@',\n",
    "    'domain' : 'draexlmaier-my.sharepoint.com'\n",
    "    'site_url' = \"https://draexlmaier-my.sharepoint.com/personal/samar_jberi_extern_draexlmaier_com/\"\n",
    "}\n",
    " \n",
    "# Creating a class for Authentication\n",
    "class UserAuthentication:\n",
    " \n",
    "    def __init__(self, username, password, domain, site_url):\n",
    "        self.__username = username\n",
    "        self.__password = password\n",
    "        self.__domain = domain\n",
    "        self.__site_url = url\n",
    "        self.__ntlm_auth = None\n",
    " \n",
    "    def authenticate(self):\n",
    "        login_user = self.__domain + \"\\\\\" + self.__username  # username example: winntdomain/dibyaranjan\n",
    "        user_auth = HttpNtlmAuth(login_user, self.__password)\n",
    "        self.__ntlm_auth = user_auth\n",
    " \n",
    "        # Create header for the http request\n",
    "        my_headers = {\n",
    "            'accept' : 'application/json;odata=verbose',\n",
    "            'content-type' : 'application/json;odata=verbose',\n",
    "            'odata' : 'verbose',\n",
    "            'X-RequestForceAuthentication' : 'true'\n",
    "        }\n",
    " \n",
    "        # Sending http get request to the sharepoint site\n",
    "        result = requests.get(self.__site_url, auth=user_auth, headers=my_headers, verify=False)\n",
    "        # Requests ignore verifying the SSL certificates if you set verify to False\n",
    " \n",
    "        # Checking the status code of the requests\n",
    "        if result.status_code == requests.codes.ok:  # Value of requests.codes.ok is 200\n",
    "            return True\n",
    "        else:\n",
    "            result.raise_for_status()\n",
    " \n",
    "if __name__ == \"__main__\":\n",
    "    username = user_credentials['username']\n",
    "    password = user_credentials['password']\n",
    "    domain = user_credentials['domain']\n",
    "    site_url = \"https://draexlmaier-my.sharepoint.com/personal/samar_jberi_extern_draexlmaier_com/\"\n",
    "    auth_object = UserAuthentication(username, password, domain, site_url)\n",
    "    result = auth_object.authenticate()\n",
    "    if result:\n",
    "        print(\"Successfully login to sharepoint site\")\n"
   ]
  },
  {
   "cell_type": "code",
   "execution_count": null,
   "id": "fd18136a",
   "metadata": {},
   "outputs": [],
   "source": []
  }
 ],
 "metadata": {
  "kernelspec": {
   "display_name": "Python 3 (ipykernel)",
   "language": "python",
   "name": "python3"
  },
  "language_info": {
   "codemirror_mode": {
    "name": "ipython",
    "version": 3
   },
   "file_extension": ".py",
   "mimetype": "text/x-python",
   "name": "python",
   "nbconvert_exporter": "python",
   "pygments_lexer": "ipython3",
   "version": "3.9.12"
  }
 },
 "nbformat": 4,
 "nbformat_minor": 5
}
