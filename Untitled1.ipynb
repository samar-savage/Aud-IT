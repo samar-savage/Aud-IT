{
 "cells": [
  {
   "cell_type": "code",
   "execution_count": 10,
   "id": "e450ff93",
   "metadata": {},
   "outputs": [],
   "source": [
    "import numpy as np\n",
    "import glob\n",
    "import string\n",
    "import fitz\n",
    "import glob\n",
    "import os"
   ]
  },
  {
   "cell_type": "code",
   "execution_count": 5,
   "id": "a1ffad3a",
   "metadata": {},
   "outputs": [
    {
     "name": "stdout",
     "output_type": "stream",
     "text": [
      "Collecting frontend\n",
      "  Downloading frontend-0.0.3-py3-none-any.whl (32 kB)\n",
      "Requirement already satisfied: itsdangerous>=1.1.0 in c:\\users\\xjs09914403\\anaconda3\\lib\\site-packages (from frontend) (2.0.1)\n",
      "Collecting starlette>=0.12.0\n",
      "  Downloading starlette-0.20.4-py3-none-any.whl (63 kB)\n",
      "Collecting uvicorn>=0.7.1\n",
      "  Downloading uvicorn-0.18.2-py3-none-any.whl (57 kB)\n",
      "Collecting aiofiles\n",
      "  Downloading aiofiles-0.8.0-py3-none-any.whl (13 kB)\n",
      "Requirement already satisfied: anyio<5,>=3.4.0 in c:\\users\\xjs09914403\\anaconda3\\lib\\site-packages (from starlette>=0.12.0->frontend) (3.5.0)\n",
      "Requirement already satisfied: typing-extensions>=3.10.0 in c:\\users\\xjs09914403\\anaconda3\\lib\\site-packages (from starlette>=0.12.0->frontend) (4.1.1)\n",
      "Requirement already satisfied: sniffio>=1.1 in c:\\users\\xjs09914403\\anaconda3\\lib\\site-packages (from anyio<5,>=3.4.0->starlette>=0.12.0->frontend) (1.2.0)\n",
      "Requirement already satisfied: idna>=2.8 in c:\\users\\xjs09914403\\anaconda3\\lib\\site-packages (from anyio<5,>=3.4.0->starlette>=0.12.0->frontend) (3.3)\n",
      "Requirement already satisfied: click>=7.0 in c:\\users\\xjs09914403\\anaconda3\\lib\\site-packages (from uvicorn>=0.7.1->frontend) (8.0.4)\n",
      "Collecting h11>=0.8\n",
      "  Downloading h11-0.13.0-py3-none-any.whl (58 kB)\n",
      "Requirement already satisfied: colorama in c:\\users\\xjs09914403\\anaconda3\\lib\\site-packages (from click>=7.0->uvicorn>=0.7.1->frontend) (0.4.4)\n",
      "Installing collected packages: h11, uvicorn, starlette, aiofiles, frontend\n",
      "Successfully installed aiofiles-0.8.0 frontend-0.0.3 h11-0.13.0 starlette-0.20.4 uvicorn-0.18.2\n",
      "Note: you may need to restart the kernel to use updated packages.\n"
     ]
    }
   ],
   "source": [
    "pip install frontend\n"
   ]
  },
  {
   "cell_type": "code",
   "execution_count": 15,
   "id": "eaa2e09a",
   "metadata": {},
   "outputs": [
    {
     "name": "stdout",
     "output_type": "stream",
     "text": [
      "Collecting pdfrw\n",
      "  Downloading pdfrw-0.4-py2.py3-none-any.whl (69 kB)\n",
      "Installing collected packages: pdfrw\n",
      "Successfully installed pdfrw-0.4\n",
      "Note: you may need to restart the kernel to use updated packages.\n"
     ]
    }
   ],
   "source": [
    "pip install pdfrw"
   ]
  },
  {
   "cell_type": "code",
   "execution_count": 13,
   "id": "b9131eec",
   "metadata": {},
   "outputs": [],
   "source": [
    "import pdfminer\n",
    "from pdfminer.layout import LAParams, LTTextBox\n",
    "from pdfminer.pdfpage import PDFPage \n",
    "from pdfminer.pdfinterp import PDFResourceManager\n",
    "from pdfminer.pdfinterp import PDFPageInterpreter\n",
    "from pdfminer.converter import PDFPageAggregator\n",
    "rsrcmgr = PDFResourceManager()\n",
    "laparams = LAParams()\n",
    "device = PDFPageAggregator(rsrcmgr, laparams=laparams)\n",
    "interpreter = PDFPageInterpreter(rsrcmgr, device)"
   ]
  },
  {
   "cell_type": "code",
   "execution_count": 16,
   "id": "019422f3",
   "metadata": {},
   "outputs": [],
   "source": [
    "#pages = list(extract_pages('GS-98000-ED.pdf'))\n",
    "from pdfrw import PdfReader, PdfWriter\n",
    "def get_image_layout(layout_object):\n",
    "    if isinstance(layout_object, pdfminer.layout.LTImage):\n",
    "        return layout_object\n",
    "    if isinstance(layout_object, pdfminer.layout.LTContainer):\n",
    "        for child in layout_object:\n",
    "           return get_image_layout(child)\n",
    "    else:\n",
    "        return None\n",
    "   \n",
    "def get_coor(layout,page):\n",
    "    images = list(filter(bool, map(get_image_layout, layout)))\n",
    "    l=[]\n",
    "    for image in images :\n",
    "        x0, y0_orig, x1, y1_orig  = image.bbox\n",
    "        y0 = page.mediabox[3] - y1_orig\n",
    "        y1 = page.mediabox[3] - y0_orig\n",
    "        l.append((x0,y0,x1,y1))\n",
    "    return l\n",
    "  \n",
    "def get_pdf_images(input_path , output_path) :\n",
    "    doc = open(input_path,'rb')\n",
    "    device = PDFPageAggregator(rsrcmgr, laparams=laparams)\n",
    "    interpreter = PDFPageInterpreter(rsrcmgr, device)\n",
    "    images={}\n",
    "    for pageNumber, page in enumerate(PDFPage.get_pages(doc)):\n",
    "       interpreter.process_page(page)\n",
    "       layout = device.get_result()\n",
    "       l = get_coor(layout,page)\n",
    "       if l != [] :\n",
    "            images[pageNumber] = l\n",
    "    x = PdfReader(input_path)\n",
    "    output = PdfWriter()\n",
    "    for key , value in images.items():\n",
    "       for i in range(len(value)) :\n",
    "          output.addpage(x.pages[key])\n",
    "    output.write(\"new_file.pdf\") \n",
    "    output = fitz.open(\"new_file.pdf\")\n",
    "    l= sum(list(images.values()),[])\n",
    "    for page , box in zip(output,l) :\n",
    "         page.set_cropbox(fitz.Rect(box))                        \n",
    "    output.save(output_path)\n",
    "    return images"
   ]
  },
  {
   "cell_type": "code",
   "execution_count": 17,
   "id": "76cc62d0",
   "metadata": {},
   "outputs": [],
   "source": [
    "# To get better resolution\n",
    "zoom_x = 2.0  # horizontal zoom\n",
    "zoom_y = 2.0  # vertical zoom\n",
    "mat = fitz.Matrix(zoom_x, zoom_y)  # zoom factor 2 in each dimension\n",
    "\n",
    "#path = '../data/in/'\n",
    "#all_files = glob.glob(path + \"*.pdf\")\n",
    "\n",
    "#for filename in all_files:\n",
    "def get_images(path,folder_name):\n",
    "    get_pdf_images(path,'o00.pdf')\n",
    "    if not os.path.isdir(folder_name):\n",
    "       os.mkdir(folder_name)\n",
    "    doc = fitz.open('o00.pdf')  # open document\n",
    "    for page in doc:  # iterate through the pages\n",
    "        pix = page.get_pixmap(matrix=mat)  # render page to an image\n",
    "        pix.save(f'{folder_name}/{page.number}.png')  # store image as a PNG\n",
    "        #image_file = Image.open(f'{folder_name}/{page.number}.png') \n",
    "        #image_file.save(f'{folder_name}/{page.number}.png', quality=20) "
   ]
  },
  {
   "cell_type": "code",
   "execution_count": 25,
   "id": "c145eaae",
   "metadata": {},
   "outputs": [
    {
     "ename": "error",
     "evalue": "unpack requires a buffer of 2 bytes",
     "output_type": "error",
     "traceback": [
      "\u001b[1;31m---------------------------------------------------------------------------\u001b[0m",
      "\u001b[1;31merror\u001b[0m                                     Traceback (most recent call last)",
      "Input \u001b[1;32mIn [25]\u001b[0m, in \u001b[0;36m<cell line: 1>\u001b[1;34m()\u001b[0m\n\u001b[1;32m----> 1\u001b[0m \u001b[43mget_images\u001b[49m\u001b[43m(\u001b[49m\u001b[38;5;124;43m'\u001b[39;49m\u001b[38;5;124;43mC:/Users/XJS09914403/Desktop/Files/ISO_26262-4.pdf\u001b[39;49m\u001b[38;5;124;43m'\u001b[39;49m\u001b[43m,\u001b[49m\u001b[38;5;124;43m'\u001b[39;49m\u001b[38;5;124;43mnew_images\u001b[39;49m\u001b[38;5;124;43m'\u001b[39;49m\u001b[43m)\u001b[49m\n",
      "Input \u001b[1;32mIn [17]\u001b[0m, in \u001b[0;36mget_images\u001b[1;34m(path, folder_name)\u001b[0m\n\u001b[0;32m     10\u001b[0m \u001b[38;5;28;01mdef\u001b[39;00m \u001b[38;5;21mget_images\u001b[39m(path,folder_name):\n\u001b[1;32m---> 11\u001b[0m     \u001b[43mget_pdf_images\u001b[49m\u001b[43m(\u001b[49m\u001b[43mpath\u001b[49m\u001b[43m,\u001b[49m\u001b[38;5;124;43m'\u001b[39;49m\u001b[38;5;124;43mo00.pdf\u001b[39;49m\u001b[38;5;124;43m'\u001b[39;49m\u001b[43m)\u001b[49m\n\u001b[0;32m     12\u001b[0m     \u001b[38;5;28;01mif\u001b[39;00m \u001b[38;5;129;01mnot\u001b[39;00m os\u001b[38;5;241m.\u001b[39mpath\u001b[38;5;241m.\u001b[39misdir(folder_name):\n\u001b[0;32m     13\u001b[0m        os\u001b[38;5;241m.\u001b[39mmkdir(folder_name)\n",
      "Input \u001b[1;32mIn [16]\u001b[0m, in \u001b[0;36mget_pdf_images\u001b[1;34m(input_path, output_path)\u001b[0m\n\u001b[0;32m     26\u001b[0m images\u001b[38;5;241m=\u001b[39m{}\n\u001b[0;32m     27\u001b[0m \u001b[38;5;28;01mfor\u001b[39;00m pageNumber, page \u001b[38;5;129;01min\u001b[39;00m \u001b[38;5;28menumerate\u001b[39m(PDFPage\u001b[38;5;241m.\u001b[39mget_pages(doc)):\n\u001b[1;32m---> 28\u001b[0m    \u001b[43minterpreter\u001b[49m\u001b[38;5;241;43m.\u001b[39;49m\u001b[43mprocess_page\u001b[49m\u001b[43m(\u001b[49m\u001b[43mpage\u001b[49m\u001b[43m)\u001b[49m\n\u001b[0;32m     29\u001b[0m    layout \u001b[38;5;241m=\u001b[39m device\u001b[38;5;241m.\u001b[39mget_result()\n\u001b[0;32m     30\u001b[0m    l \u001b[38;5;241m=\u001b[39m get_coor(layout,page)\n",
      "File \u001b[1;32m~\\Anaconda3\\lib\\site-packages\\pdfminer\\pdfinterp.py:841\u001b[0m, in \u001b[0;36mPDFPageInterpreter.process_page\u001b[1;34m(self, page)\u001b[0m\n\u001b[0;32m    839\u001b[0m     ctm \u001b[38;5;241m=\u001b[39m (\u001b[38;5;241m1\u001b[39m, \u001b[38;5;241m0\u001b[39m, \u001b[38;5;241m0\u001b[39m, \u001b[38;5;241m1\u001b[39m, \u001b[38;5;241m-\u001b[39mx0, \u001b[38;5;241m-\u001b[39my0)\n\u001b[0;32m    840\u001b[0m \u001b[38;5;28mself\u001b[39m\u001b[38;5;241m.\u001b[39mdevice\u001b[38;5;241m.\u001b[39mbegin_page(page, ctm)\n\u001b[1;32m--> 841\u001b[0m \u001b[38;5;28;43mself\u001b[39;49m\u001b[38;5;241;43m.\u001b[39;49m\u001b[43mrender_contents\u001b[49m\u001b[43m(\u001b[49m\u001b[43mpage\u001b[49m\u001b[38;5;241;43m.\u001b[39;49m\u001b[43mresources\u001b[49m\u001b[43m,\u001b[49m\u001b[43m \u001b[49m\u001b[43mpage\u001b[49m\u001b[38;5;241;43m.\u001b[39;49m\u001b[43mcontents\u001b[49m\u001b[43m,\u001b[49m\u001b[43m \u001b[49m\u001b[43mctm\u001b[49m\u001b[38;5;241;43m=\u001b[39;49m\u001b[43mctm\u001b[49m\u001b[43m)\u001b[49m\n\u001b[0;32m    842\u001b[0m \u001b[38;5;28mself\u001b[39m\u001b[38;5;241m.\u001b[39mdevice\u001b[38;5;241m.\u001b[39mend_page(page)\n\u001b[0;32m    843\u001b[0m \u001b[38;5;28;01mreturn\u001b[39;00m\n",
      "File \u001b[1;32m~\\Anaconda3\\lib\\site-packages\\pdfminer\\pdfinterp.py:854\u001b[0m, in \u001b[0;36mPDFPageInterpreter.render_contents\u001b[1;34m(self, resources, streams, ctm)\u001b[0m\n\u001b[0;32m    852\u001b[0m \u001b[38;5;28mself\u001b[39m\u001b[38;5;241m.\u001b[39minit_resources(resources)\n\u001b[0;32m    853\u001b[0m \u001b[38;5;28mself\u001b[39m\u001b[38;5;241m.\u001b[39minit_state(ctm)\n\u001b[1;32m--> 854\u001b[0m \u001b[38;5;28;43mself\u001b[39;49m\u001b[38;5;241;43m.\u001b[39;49m\u001b[43mexecute\u001b[49m\u001b[43m(\u001b[49m\u001b[43mlist_value\u001b[49m\u001b[43m(\u001b[49m\u001b[43mstreams\u001b[49m\u001b[43m)\u001b[49m\u001b[43m)\u001b[49m\n\u001b[0;32m    855\u001b[0m \u001b[38;5;28;01mreturn\u001b[39;00m\n",
      "File \u001b[1;32m~\\Anaconda3\\lib\\site-packages\\pdfminer\\pdfinterp.py:879\u001b[0m, in \u001b[0;36mPDFPageInterpreter.execute\u001b[1;34m(self, streams)\u001b[0m\n\u001b[0;32m    877\u001b[0m         logging\u001b[38;5;241m.\u001b[39mdebug(\u001b[38;5;124m'\u001b[39m\u001b[38;5;124mexec: \u001b[39m\u001b[38;5;132;01m%s\u001b[39;00m\u001b[38;5;124m \u001b[39m\u001b[38;5;132;01m%r\u001b[39;00m\u001b[38;5;124m'\u001b[39m \u001b[38;5;241m%\u001b[39m (name, args))\n\u001b[0;32m    878\u001b[0m     \u001b[38;5;28;01mif\u001b[39;00m \u001b[38;5;28mlen\u001b[39m(args) \u001b[38;5;241m==\u001b[39m nargs:\n\u001b[1;32m--> 879\u001b[0m         \u001b[43mfunc\u001b[49m\u001b[43m(\u001b[49m\u001b[38;5;241;43m*\u001b[39;49m\u001b[43margs\u001b[49m\u001b[43m)\u001b[49m\n\u001b[0;32m    880\u001b[0m \u001b[38;5;28;01melse\u001b[39;00m:\n\u001b[0;32m    881\u001b[0m     \u001b[38;5;28;01mif\u001b[39;00m \u001b[38;5;28mself\u001b[39m\u001b[38;5;241m.\u001b[39mdebug:\n",
      "File \u001b[1;32m~\\Anaconda3\\lib\\site-packages\\pdfminer\\pdfinterp.py:762\u001b[0m, in \u001b[0;36mPDFPageInterpreter.do_TJ\u001b[1;34m(self, seq)\u001b[0m\n\u001b[0;32m    760\u001b[0m         \u001b[38;5;28;01mraise\u001b[39;00m PDFInterpreterError(\u001b[38;5;124m'\u001b[39m\u001b[38;5;124mNo font specified!\u001b[39m\u001b[38;5;124m'\u001b[39m)\n\u001b[0;32m    761\u001b[0m     \u001b[38;5;28;01mreturn\u001b[39;00m\n\u001b[1;32m--> 762\u001b[0m \u001b[38;5;28;43mself\u001b[39;49m\u001b[38;5;241;43m.\u001b[39;49m\u001b[43mdevice\u001b[49m\u001b[38;5;241;43m.\u001b[39;49m\u001b[43mrender_string\u001b[49m\u001b[43m(\u001b[49m\u001b[38;5;28;43mself\u001b[39;49m\u001b[38;5;241;43m.\u001b[39;49m\u001b[43mtextstate\u001b[49m\u001b[43m,\u001b[49m\u001b[43m \u001b[49m\u001b[43mseq\u001b[49m\u001b[43m)\u001b[49m\n\u001b[0;32m    763\u001b[0m \u001b[38;5;28;01mreturn\u001b[39;00m\n",
      "File \u001b[1;32m~\\Anaconda3\\lib\\site-packages\\pdfminer\\pdfdevice.py:80\u001b[0m, in \u001b[0;36mPDFTextDevice.render_string\u001b[1;34m(self, textstate, seq)\u001b[0m\n\u001b[0;32m     76\u001b[0m     textstate\u001b[38;5;241m.\u001b[39mlinematrix \u001b[38;5;241m=\u001b[39m \u001b[38;5;28mself\u001b[39m\u001b[38;5;241m.\u001b[39mrender_string_vertical(\n\u001b[0;32m     77\u001b[0m         seq, matrix, textstate\u001b[38;5;241m.\u001b[39mlinematrix, font, fontsize,\n\u001b[0;32m     78\u001b[0m         scaling, charspace, wordspace, rise, dxscale)\n\u001b[0;32m     79\u001b[0m \u001b[38;5;28;01melse\u001b[39;00m:\n\u001b[1;32m---> 80\u001b[0m     textstate\u001b[38;5;241m.\u001b[39mlinematrix \u001b[38;5;241m=\u001b[39m \u001b[38;5;28;43mself\u001b[39;49m\u001b[38;5;241;43m.\u001b[39;49m\u001b[43mrender_string_horizontal\u001b[49m\u001b[43m(\u001b[49m\n\u001b[0;32m     81\u001b[0m \u001b[43m        \u001b[49m\u001b[43mseq\u001b[49m\u001b[43m,\u001b[49m\u001b[43m \u001b[49m\u001b[43mmatrix\u001b[49m\u001b[43m,\u001b[49m\u001b[43m \u001b[49m\u001b[43mtextstate\u001b[49m\u001b[38;5;241;43m.\u001b[39;49m\u001b[43mlinematrix\u001b[49m\u001b[43m,\u001b[49m\u001b[43m \u001b[49m\u001b[43mfont\u001b[49m\u001b[43m,\u001b[49m\u001b[43m \u001b[49m\u001b[43mfontsize\u001b[49m\u001b[43m,\u001b[49m\n\u001b[0;32m     82\u001b[0m \u001b[43m        \u001b[49m\u001b[43mscaling\u001b[49m\u001b[43m,\u001b[49m\u001b[43m \u001b[49m\u001b[43mcharspace\u001b[49m\u001b[43m,\u001b[49m\u001b[43m \u001b[49m\u001b[43mwordspace\u001b[49m\u001b[43m,\u001b[49m\u001b[43m \u001b[49m\u001b[43mrise\u001b[49m\u001b[43m,\u001b[49m\u001b[43m \u001b[49m\u001b[43mdxscale\u001b[49m\u001b[43m)\u001b[49m\n\u001b[0;32m     83\u001b[0m \u001b[38;5;28;01mreturn\u001b[39;00m\n",
      "File \u001b[1;32m~\\Anaconda3\\lib\\site-packages\\pdfminer\\pdfdevice.py:94\u001b[0m, in \u001b[0;36mPDFTextDevice.render_string_horizontal\u001b[1;34m(self, seq, matrix, pos, font, fontsize, scaling, charspace, wordspace, rise, dxscale)\u001b[0m\n\u001b[0;32m     92\u001b[0m     needcharspace \u001b[38;5;241m=\u001b[39m \u001b[38;5;28;01mTrue\u001b[39;00m\n\u001b[0;32m     93\u001b[0m \u001b[38;5;28;01melse\u001b[39;00m:\n\u001b[1;32m---> 94\u001b[0m     \u001b[38;5;28;01mfor\u001b[39;00m cid \u001b[38;5;129;01min\u001b[39;00m \u001b[43mfont\u001b[49m\u001b[38;5;241;43m.\u001b[39;49m\u001b[43mdecode\u001b[49m\u001b[43m(\u001b[49m\u001b[43mobj\u001b[49m\u001b[43m)\u001b[49m:\n\u001b[0;32m     95\u001b[0m         \u001b[38;5;28;01mif\u001b[39;00m needcharspace:\n\u001b[0;32m     96\u001b[0m             x \u001b[38;5;241m+\u001b[39m\u001b[38;5;241m=\u001b[39m charspace\n",
      "File \u001b[1;32m~\\Anaconda3\\lib\\site-packages\\pdfminer\\pdffont.py:713\u001b[0m, in \u001b[0;36mPDFCIDFont.decode\u001b[1;34m(self, data)\u001b[0m\n\u001b[0;32m    712\u001b[0m \u001b[38;5;28;01mdef\u001b[39;00m \u001b[38;5;21mdecode\u001b[39m(\u001b[38;5;28mself\u001b[39m, data):\n\u001b[1;32m--> 713\u001b[0m     \u001b[38;5;28;01mreturn\u001b[39;00m \u001b[38;5;28;43mself\u001b[39;49m\u001b[38;5;241;43m.\u001b[39;49m\u001b[43mcmap\u001b[49m\u001b[38;5;241;43m.\u001b[39;49m\u001b[43mdecode\u001b[49m\u001b[43m(\u001b[49m\u001b[43mdata\u001b[49m\u001b[43m)\u001b[49m\n",
      "File \u001b[1;32m~\\Anaconda3\\lib\\site-packages\\pdfminer\\cmapdb.py:124\u001b[0m, in \u001b[0;36mIdentityCMap.decode\u001b[1;34m(self, code)\u001b[0m\n\u001b[0;32m    122\u001b[0m n \u001b[38;5;241m=\u001b[39m \u001b[38;5;28mlen\u001b[39m(code)\u001b[38;5;241m/\u001b[39m\u001b[38;5;241m/\u001b[39m\u001b[38;5;241m2\u001b[39m\n\u001b[0;32m    123\u001b[0m \u001b[38;5;28;01mif\u001b[39;00m n:\n\u001b[1;32m--> 124\u001b[0m     \u001b[38;5;28;01mreturn\u001b[39;00m \u001b[43mstruct\u001b[49m\u001b[38;5;241;43m.\u001b[39;49m\u001b[43munpack\u001b[49m\u001b[43m(\u001b[49m\u001b[38;5;124;43m'\u001b[39;49m\u001b[38;5;124;43m>\u001b[39;49m\u001b[38;5;132;43;01m%d\u001b[39;49;00m\u001b[38;5;124;43mH\u001b[39;49m\u001b[38;5;124;43m'\u001b[39;49m\u001b[43m \u001b[49m\u001b[38;5;241;43m%\u001b[39;49m\u001b[43m \u001b[49m\u001b[43mn\u001b[49m\u001b[43m,\u001b[49m\u001b[43m \u001b[49m\u001b[43mcode\u001b[49m\u001b[43m)\u001b[49m\n\u001b[0;32m    125\u001b[0m \u001b[38;5;28;01melse\u001b[39;00m:\n\u001b[0;32m    126\u001b[0m     \u001b[38;5;28;01mreturn\u001b[39;00m ()\n",
      "\u001b[1;31merror\u001b[0m: unpack requires a buffer of 2 bytes"
     ]
    }
   ],
   "source": [
    "get_images('C:/Users/XJS09914403/Desktop/Files/ISO_26262-4.pdf','new_images')"
   ]
  },
  {
   "cell_type": "code",
   "execution_count": null,
   "id": "a8ec7875",
   "metadata": {},
   "outputs": [],
   "source": []
  }
 ],
 "metadata": {
  "kernelspec": {
   "display_name": "Python 3 (ipykernel)",
   "language": "python",
   "name": "python3"
  },
  "language_info": {
   "codemirror_mode": {
    "name": "ipython",
    "version": 3
   },
   "file_extension": ".py",
   "mimetype": "text/x-python",
   "name": "python",
   "nbconvert_exporter": "python",
   "pygments_lexer": "ipython3",
   "version": "3.9.12"
  }
 },
 "nbformat": 4,
 "nbformat_minor": 5
}
