{
 "cells": [
  {
   "cell_type": "code",
   "execution_count": 70,
   "id": "c6cc1c8f",
   "metadata": {},
   "outputs": [],
   "source": [
    "import spacy\n",
    "nlp = spacy.load('en_core_web_sm')\n",
    "import fitz"
   ]
  },
  {
   "cell_type": "code",
   "execution_count": 39,
   "id": "412221ea",
   "metadata": {},
   "outputs": [],
   "source": [
    "# Import the Matcher library\n",
    "from spacy.matcher import Matcher\n",
    "matcher = Matcher(nlp.vocab)"
   ]
  },
  {
   "cell_type": "code",
   "execution_count": 41,
   "id": "b3bbe0e3",
   "metadata": {},
   "outputs": [
    {
     "name": "stdout",
     "output_type": "stream",
     "text": [
      "[]\n"
     ]
    }
   ],
   "source": [
    "pattern1 = [{'LOWER': 'Requirements and recommendations'}]\n",
    "\n",
    "matcher.add('Requirements', [pattern1])\n",
    "doc = nlp(u'guidelines for the application of tools (from an external source). 5.4 Requirements and recommendations 5.4.1 When developing the software of an item, software development processes and software development environments shall be used which:')\n",
    "found_matches = matcher(doc)\n",
    "print(found_matches)\n"
   ]
  },
  {
   "cell_type": "code",
   "execution_count": 67,
   "id": "04f09afc",
   "metadata": {},
   "outputs": [
    {
     "name": "stdout",
     "output_type": "stream",
     "text": [
      "Enter_the_text_to_Search_hereThe software safety requirements are either derived directly\n",
      "Found the Text on page 16 from the file : ISO_26262-6.pdf\n",
      "element found\n",
      "\n",
      "6.4 Requirements and recommendations\n"
     ]
    }
   ],
   "source": [
    "# import required module\n",
    "import os\n",
    "import re\n",
    "import PyPDF2 \n",
    "# assign directory\n",
    "directory = 'C:/Users/XJS09914403/OneDrive - DRAEXLMAIER/Test'\n",
    "filename = 'ISO_26262-6.pdf'\n",
    "\n",
    "# iterate over files in\n",
    "# that directory\n",
    "pattern = re.compile(input(\"Enter_the_text_to_Search_here\"))\n",
    "if not filename.startswith('~$') and filename.endswith('.pdf'):\n",
    "    f = os.path.join(directory, filename)\n",
    "    doc = fitz.open(f)\n",
    "    page_count = len(doc)\n",
    "    #print(page_count)\n",
    "    for i in range(0, page_count):\n",
    "        page = doc[i]\n",
    "        text = page.get_text(\"text\")\n",
    "        found = re.finditer(pattern, text)\n",
    "        #print(type(text))\n",
    "        #print(text)\n",
    "        if pattern.search(text):\n",
    "            print(\"Found the Text on page\",i+1, \"from the file :\", filename)\n",
    "            for item in found:\n",
    "                s = item.start()\n",
    "                e = item.end()\n",
    "                substring = text[s-600:e]\n",
    "                #print(substring)\n",
    "                pattern1 = re.compile(\"Requirements and recommendations\")\n",
    "                found1 = re.finditer(pattern1, substring)\n",
    "                if pattern.search(substring):\n",
    "                    print(\"element found\")\n",
    "                    for item in found1:\n",
    "                        s = item.start()\n",
    "                        e = item.end()\n",
    "                        substring1 = substring[s-5:e]\n",
    "                        print(substring1)\n",
    "                "
   ]
  },
  {
   "cell_type": "code",
   "execution_count": 99,
   "id": "0acdfe18",
   "metadata": {},
   "outputs": [
    {
     "name": "stdout",
     "output_type": "stream",
     "text": [
      "Enter_the_text_to_Search_hereare compatible with the system and hardware development\n",
      "Found the Text on page 13 from the file : ISO_26262-6.pdf\n",
      "element found\n",
      "\n",
      "5.4 Requirements and recommendations\n",
      "work Product related Content Found the Text on page 15 \n",
      " 5.5 Work products\n",
      "5.5.1 \n",
      "Documentation of the software development environment resulting from requirements 5.4.1 \n",
      "to 5.4.3 and C.4.1 to C.4.11.\n",
      "6\t Specification\tof\tsoftware\tsafety\trequirements\n",
      "6.1 Objectives\n",
      "The objectives of this sub-phase are:\n",
      "a) to specify or refine the software safety requirements which are derived from the technical safety \n",
      "concept and the system architectural design specification;\n",
      "b) to define the safety-related functionalities and properties of the software required for the \n",
      "implementation;\n",
      "c) \n",
      "to refine the requirements of the hardware-software interface initiated in ISO 26262-4:2018, \n",
      "Clause 6; and\n",
      "d) to verify that the software safety requirements and the hardware-software interface requirements \n",
      "are suitable for software development and are consistent with the technical safety concept and the \n",
      "system architectural design specif\n"
     ]
    }
   ],
   "source": [
    "# import required module\n",
    "import os\n",
    "import re\n",
    "import PyPDF2 \n",
    "# assign directory\n",
    "directory = 'C:/Users/XJS09914403/OneDrive - DRAEXLMAIER/Test'\n",
    "filename = 'ISO_26262-6.pdf'\n",
    "\n",
    "# iterate over files in\n",
    "# that directory\n",
    "pattern = re.compile(input(\"Enter_the_text_to_Search_here\"))\n",
    "if not filename.startswith('~$') and filename.endswith('.pdf'):\n",
    "    f = os.path.join(directory, filename)\n",
    "    doc = fitz.open(f)\n",
    "    page_count = len(doc)\n",
    "    #print(page_count)\n",
    "    for i in range(0, page_count):\n",
    "        page = doc[i]\n",
    "        text = page.get_text(\"text\")\n",
    "        found = re.finditer(pattern, text)\n",
    "        #print(type(text))\n",
    "        #print(text)\n",
    "        if pattern.search(text):\n",
    "            print(\"Found the Text on page\",i+1, \"from the file :\", filename)\n",
    "            for item in found:\n",
    "                s = item.start()\n",
    "                e = item.end()\n",
    "                substring = text[s-600:e]\n",
    "                #print(substring)\n",
    "                \n",
    "                pattern1 = re.compile(\"Requirements and recommendations\")\n",
    "                found1 = re.finditer(pattern1, substring)\n",
    "                if pattern.search(substring):\n",
    "                    print(\"element found\")\n",
    "                    for item in found1:\n",
    "                        s = item.start()\n",
    "                        e = item.end()\n",
    "                        substring1 = substring[s-5:e]\n",
    "                        print(substring1)\n",
    "                        p = re.compile(r'\\d+.\\d+\\s+')\n",
    "                        list = p.findall(str(substring1))\n",
    "                        #print(\"this is a list :\",p.findall(str(substring1)))\n",
    "                        for i in list:\n",
    "                            pat = re.compile(r'\\d+')\n",
    "                            second = pat.findall(str(list))\n",
    "                            T = listToString(second[:1])\n",
    "                            #print(\"this is T \",T)\n",
    "                            pat = re.compile(T+\".\\d+\\s\"+\"Work products\")\n",
    "                            for i in range(0, page_count):\n",
    "                                page = doc[i]\n",
    "                                text = page.get_text(\"text\")\n",
    "                                list1 = pat.findall(str(text))\n",
    "                                res = []\n",
    "                                for i in list1:\n",
    "                                    if i:\n",
    "                                        res.append(i)\n",
    "                                        #print(res)\n",
    "                                        resultFound = listToString(res)\n",
    "                                        #print(resultFound)\n",
    "                                        patf = re.compile(resultFound)\n",
    "                                        for i in range(0, page_count):\n",
    "                                            page = doc[i]\n",
    "                                            text = page.get_text(\"text\")\n",
    "                                            found3 = re.finditer(patf, text)\n",
    "                                            for item in found3:\n",
    "                                                s = item.start()\n",
    "                                                e = item.end()\n",
    "                                                substring3 = text[s:e+850]\n",
    "                                                print(\"work Product related Content Found the Text on page\",i+1,\"\\n\",substring3)\n",
    "                                        \n",
    "                                        #found3 = re.finditer(patf, text)\n",
    "                                        #for i in range(0, page_count):\n",
    "                                            #page = doc[i]\n",
    "                                            #text = page.get_text(\"text\")\n",
    "                                            #for item in found3:\n",
    "                                                #print(item)\n",
    "                                                #s = item.start()\n",
    "                                                #e = item.end()\n",
    "                                                #substring3 = text[s:e+100]\n",
    "                                                #print(substring3)\n",
    "                               # if pat.search(text):\n",
    "                                    #print(\"element found\")\n",
    "                                    #print(pat.findall(str(text)))\n",
    "\n",
    "                        "
   ]
  },
  {
   "cell_type": "code",
   "execution_count": 4,
   "id": "ddb3721d",
   "metadata": {},
   "outputs": [],
   "source": [
    "# Function to convert  \n",
    "def listToString(s): \n",
    "    \n",
    "    # initialize an empty string\n",
    "    str1 = \"\" \n",
    "    \n",
    "    # traverse in the string  \n",
    "    for ele in s: \n",
    "        str1 += ele  \n",
    "    \n",
    "    # return string  \n",
    "    return str1 "
   ]
  },
  {
   "cell_type": "code",
   "execution_count": 143,
   "id": "2f268ebe",
   "metadata": {},
   "outputs": [
    {
     "name": "stdout",
     "output_type": "stream",
     "text": [
      "13\n"
     ]
    }
   ],
   "source": [
    "\n",
    "numList = [12, 13, 14, 15, 16]\n",
    "\n",
    "firstElement = numList[0]\n",
    "firstElement = firstElement+1\n",
    "\n",
    "print(firstElement)  # 12"
   ]
  },
  {
   "cell_type": "code",
   "execution_count": 209,
   "id": "4f35e7ef",
   "metadata": {},
   "outputs": [
    {
     "name": "stdout",
     "output_type": "stream",
     "text": [
      "<class 'list'>\n",
      "The original list is : [[5, 6], [], [], []]\n",
      "[[5, 6]]\n"
     ]
    }
   ],
   "source": [
    "test_list = [[5, 6], [], [], []]\n",
    "print(type(test_list))\n",
    " \n",
    "# printing original list\n",
    "print(\"The original list is : \" + str(test_list))\n",
    " \n",
    "# Remove empty List from List\n",
    "# using list comprehension\n",
    "res = [ele for ele in test_list if ele != []]\n",
    "print(res)"
   ]
  },
  {
   "cell_type": "code",
   "execution_count": 61,
   "id": "c46f8e82",
   "metadata": {},
   "outputs": [],
   "source": [
    "def WorkP():\n",
    "    pat = re.compile(T+\".\\d+\\s\"+\"Work products\")\n",
    "    for i in range(0, page_count):\n",
    "        page = doc[i]\n",
    "        text = page.get_text(\"text\")\n",
    "        list1 = pat.findall(str(text))\n",
    "        res = []\n",
    "        for i in list1:\n",
    "            if i:\n",
    "                res.append(i)\n",
    "                print(res)\n",
    "        "
   ]
  },
  {
   "cell_type": "code",
   "execution_count": 62,
   "id": "b58955a5",
   "metadata": {},
   "outputs": [
    {
     "name": "stdout",
     "output_type": "stream",
     "text": [
      "['5.5 Work products']\n"
     ]
    }
   ],
   "source": [
    "WorkP()"
   ]
  },
  {
   "cell_type": "code",
   "execution_count": null,
   "id": "1319c94c",
   "metadata": {},
   "outputs": [],
   "source": []
  }
 ],
 "metadata": {
  "kernelspec": {
   "display_name": "Python 3 (ipykernel)",
   "language": "python",
   "name": "python3"
  },
  "language_info": {
   "codemirror_mode": {
    "name": "ipython",
    "version": 3
   },
   "file_extension": ".py",
   "mimetype": "text/x-python",
   "name": "python",
   "nbconvert_exporter": "python",
   "pygments_lexer": "ipython3",
   "version": "3.9.12"
  }
 },
 "nbformat": 4,
 "nbformat_minor": 5
}
