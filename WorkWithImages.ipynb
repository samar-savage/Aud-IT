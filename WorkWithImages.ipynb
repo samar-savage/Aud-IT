{
 "cells": [
  {
   "cell_type": "code",
   "execution_count": 1,
   "id": "b49ba329",
   "metadata": {},
   "outputs": [
    {
     "name": "stdout",
     "output_type": "stream",
     "text": [
      "Collecting pdf2docx==0.5.1\n",
      "  Downloading pdf2docx-0.5.1-py3-none-any.whl (108 kB)\n",
      "Requirement already satisfied: PyMuPDF>=1.18.5 in c:\\users\\xjs09914403\\anaconda3\\lib\\site-packages (from pdf2docx==0.5.1) (1.20.1)\n",
      "Collecting fire>=0.3.0\n",
      "  Using cached fire-0.4.0-py2.py3-none-any.whl\n",
      "Collecting python-docx>=0.8.10\n",
      "  Using cached python_docx-0.8.11-py3-none-any.whl\n",
      "Requirement already satisfied: six in c:\\users\\xjs09914403\\anaconda3\\lib\\site-packages (from fire>=0.3.0->pdf2docx==0.5.1) (1.16.0)\n",
      "Requirement already satisfied: termcolor in c:\\users\\xjs09914403\\anaconda3\\lib\\site-packages (from fire>=0.3.0->pdf2docx==0.5.1) (1.1.0)\n",
      "Requirement already satisfied: lxml>=2.3.2 in c:\\users\\xjs09914403\\anaconda3\\lib\\site-packages (from python-docx>=0.8.10->pdf2docx==0.5.1) (4.8.0)\n",
      "Installing collected packages: python-docx, fire, pdf2docx\n",
      "Successfully installed fire-0.4.0 pdf2docx-0.5.1 python-docx-0.8.11\n",
      "Note: you may need to restart the kernel to use updated packages.\n"
     ]
    }
   ],
   "source": [
    "pip install pdf2docx==0.5.1\n"
   ]
  },
  {
   "cell_type": "code",
   "execution_count": 11,
   "id": "f7df1f30",
   "metadata": {},
   "outputs": [
    {
     "name": "stdout",
     "output_type": "stream",
     "text": [
      "Parsing Page 1: 1/46...\n",
      "Ignore page due to error: 'Page' object has no attribute 'getText'\n",
      "Parsing Page 2: 2/46...\n",
      "Ignore page due to error: 'Page' object has no attribute 'getText'\n",
      "Parsing Page 3: 3/46...\n",
      "Ignore page due to error: 'Page' object has no attribute 'getText'\n",
      "Parsing Page 4: 4/46...\n",
      "Ignore page due to error: 'Page' object has no attribute 'getText'\n",
      "Parsing Page 5: 5/46...\n",
      "Ignore page due to error: 'Page' object has no attribute 'getText'\n",
      "Parsing Page 6: 6/46...\n",
      "Ignore page due to error: 'Page' object has no attribute 'getText'\n",
      "Parsing Page 7: 7/46...\n",
      "Ignore page due to error: 'Page' object has no attribute 'getText'\n",
      "Parsing Page 8: 8/46...\n",
      "Ignore page due to error: 'Page' object has no attribute 'getText'\n",
      "Parsing Page 9: 9/46...\n",
      "Ignore page due to error: 'Page' object has no attribute 'getText'\n",
      "Parsing Page 10: 10/46...\n",
      "Ignore page due to error: 'Page' object has no attribute 'getText'\n",
      "Parsing Page 11: 11/46...\n",
      "Ignore page due to error: 'Page' object has no attribute 'getText'\n",
      "Parsing Page 12: 12/46...\n",
      "Ignore page due to error: 'Page' object has no attribute 'getText'\n",
      "Parsing Page 13: 13/46...\n",
      "Ignore page due to error: 'Page' object has no attribute 'getText'\n",
      "Parsing Page 14: 14/46...\n",
      "Ignore page due to error: 'Page' object has no attribute 'getText'\n",
      "Parsing Page 15: 15/46...\n",
      "Ignore page due to error: 'Page' object has no attribute 'getText'\n",
      "Parsing Page 16: 16/46...\n",
      "Ignore page due to error: 'Page' object has no attribute 'getText'\n",
      "Parsing Page 17: 17/46...\n",
      "Ignore page due to error: 'Page' object has no attribute 'getText'\n",
      "Parsing Page 18: 18/46...\n",
      "Ignore page due to error: 'Page' object has no attribute 'getText'\n",
      "Parsing Page 19: 19/46...\n",
      "Ignore page due to error: 'Page' object has no attribute 'getText'\n",
      "Parsing Page 20: 20/46...\n",
      "Ignore page due to error: 'Page' object has no attribute 'getText'\n",
      "Parsing Page 21: 21/46...\n",
      "Ignore page due to error: 'Page' object has no attribute 'getText'\n",
      "Parsing Page 22: 22/46...\n",
      "Ignore page due to error: 'Page' object has no attribute 'getText'\n",
      "Parsing Page 23: 23/46...\n",
      "Ignore page due to error: 'Page' object has no attribute 'getText'\n",
      "Parsing Page 24: 24/46...\n",
      "Ignore page due to error: 'Page' object has no attribute 'getText'\n",
      "Parsing Page 25: 25/46...\n",
      "Ignore page due to error: 'Page' object has no attribute 'getText'\n",
      "Parsing Page 26: 26/46...\n",
      "Ignore page due to error: 'Page' object has no attribute 'getText'\n",
      "Parsing Page 27: 27/46...\n",
      "Ignore page due to error: 'Page' object has no attribute 'getText'\n",
      "Parsing Page 28: 28/46...\n",
      "Ignore page due to error: 'Page' object has no attribute 'getText'\n",
      "Parsing Page 29: 29/46...\n",
      "Ignore page due to error: 'Page' object has no attribute 'getText'\n",
      "Parsing Page 30: 30/46...\n",
      "Ignore page due to error: 'Page' object has no attribute 'getText'\n",
      "Parsing Page 31: 31/46...\n",
      "Ignore page due to error: 'Page' object has no attribute 'getText'\n",
      "Parsing Page 32: 32/46...\n",
      "Ignore page due to error: 'Page' object has no attribute 'getText'\n",
      "Parsing Page 33: 33/46...\n",
      "Ignore page due to error: 'Page' object has no attribute 'getText'\n",
      "Parsing Page 34: 34/46...\n",
      "Ignore page due to error: 'Page' object has no attribute 'getText'\n",
      "Parsing Page 35: 35/46...\n",
      "Ignore page due to error: 'Page' object has no attribute 'getText'\n",
      "Parsing Page 36: 36/46...\n",
      "Ignore page due to error: 'Page' object has no attribute 'getText'\n",
      "Parsing Page 37: 37/46...\n",
      "Ignore page due to error: 'Page' object has no attribute 'getText'\n",
      "Parsing Page 38: 38/46...\n",
      "Ignore page due to error: 'Page' object has no attribute 'getText'\n",
      "Parsing Page 39: 39/46...\n",
      "Ignore page due to error: 'Page' object has no attribute 'getText'\n",
      "Parsing Page 40: 40/46...\n",
      "Ignore page due to error: 'Page' object has no attribute 'getText'\n",
      "Parsing Page 41: 41/46...\n",
      "Ignore page due to error: 'Page' object has no attribute 'getText'\n",
      "Parsing Page 42: 42/46...\n",
      "Ignore page due to error: 'Page' object has no attribute 'getText'\n",
      "Parsing Page 43: 43/46...\n",
      "Ignore page due to error: 'Page' object has no attribute 'getText'\n",
      "Parsing Page 44: 44/46...\n",
      "Ignore page due to error: 'Page' object has no attribute 'getText'\n",
      "Parsing Page 45: 45/46...\n",
      "Ignore page due to error: 'Page' object has no attribute 'getText'\n",
      "Parsing Page 46: 46/46...\n",
      "Ignore page due to error: 'Page' object has no attribute 'getText'\n"
     ]
    },
    {
     "ename": "Exception",
     "evalue": "No parsed pages. Please parse page first.",
     "output_type": "error",
     "traceback": [
      "\u001b[1;31m---------------------------------------------------------------------------\u001b[0m",
      "\u001b[1;31mException\u001b[0m                                 Traceback (most recent call last)",
      "Input \u001b[1;32mIn [11]\u001b[0m, in \u001b[0;36m<cell line: 1>\u001b[1;34m()\u001b[0m\n\u001b[1;32m----> 1\u001b[0m \u001b[43mconvert_pdf2docx\u001b[49m\u001b[43m(\u001b[49m\u001b[38;5;124;43m\"\u001b[39;49m\u001b[38;5;124;43mC:/Users/XJS09914403/Desktop/Audit/NF.pdf\u001b[39;49m\u001b[38;5;124;43m\"\u001b[39;49m\u001b[43m,\u001b[49m\u001b[38;5;124;43m\"\u001b[39;49m\u001b[38;5;124;43mC:/Users/XJS09914403/Desktop/Audit/NFFFFFF.docx\u001b[39;49m\u001b[38;5;124;43m\"\u001b[39;49m\u001b[43m)\u001b[49m\n",
      "Input \u001b[1;32mIn [3]\u001b[0m, in \u001b[0;36mconvert_pdf2docx\u001b[1;34m(input_file, output_file, pages)\u001b[0m\n\u001b[0;32m      3\u001b[0m \u001b[38;5;28;01mif\u001b[39;00m pages:\n\u001b[0;32m      4\u001b[0m     pages \u001b[38;5;241m=\u001b[39m [\u001b[38;5;28mint\u001b[39m(i) \u001b[38;5;28;01mfor\u001b[39;00m i \u001b[38;5;129;01min\u001b[39;00m \u001b[38;5;28mlist\u001b[39m(pages) \u001b[38;5;28;01mif\u001b[39;00m i\u001b[38;5;241m.\u001b[39misnumeric()]\n\u001b[1;32m----> 5\u001b[0m result \u001b[38;5;241m=\u001b[39m \u001b[43mparse\u001b[49m\u001b[43m(\u001b[49m\u001b[43mpdf_file\u001b[49m\u001b[38;5;241;43m=\u001b[39;49m\u001b[43minput_file\u001b[49m\u001b[43m,\u001b[49m\n\u001b[0;32m      6\u001b[0m \u001b[43m               \u001b[49m\u001b[43mdocx_with_path\u001b[49m\u001b[38;5;241;43m=\u001b[39;49m\u001b[43moutput_file\u001b[49m\u001b[43m,\u001b[49m\u001b[43m \u001b[49m\u001b[43mpages\u001b[49m\u001b[38;5;241;43m=\u001b[39;49m\u001b[43mpages\u001b[49m\u001b[43m)\u001b[49m\n\u001b[0;32m      7\u001b[0m summary \u001b[38;5;241m=\u001b[39m {\n\u001b[0;32m      8\u001b[0m     \u001b[38;5;124m\"\u001b[39m\u001b[38;5;124mFile\u001b[39m\u001b[38;5;124m\"\u001b[39m: input_file, \u001b[38;5;124m\"\u001b[39m\u001b[38;5;124mPages\u001b[39m\u001b[38;5;124m\"\u001b[39m: \u001b[38;5;28mstr\u001b[39m(pages), \u001b[38;5;124m\"\u001b[39m\u001b[38;5;124mOutput File\u001b[39m\u001b[38;5;124m\"\u001b[39m: output_file\n\u001b[0;32m      9\u001b[0m }\n\u001b[0;32m     10\u001b[0m \u001b[38;5;66;03m# Printing Summary\u001b[39;00m\n",
      "File \u001b[1;32m~\\Anaconda3\\lib\\site-packages\\pdf2docx\\main.py:32\u001b[0m, in \u001b[0;36mPDF2DOCX.convert\u001b[1;34m(pdf_file, docx_file, start, end, pages, **kwargs)\u001b[0m\n\u001b[0;32m     29\u001b[0m     \u001b[38;5;28;01mif\u001b[39;00m pages: pages \u001b[38;5;241m=\u001b[39m [i\u001b[38;5;241m-\u001b[39m\u001b[38;5;241m1\u001b[39m \u001b[38;5;28;01mfor\u001b[39;00m i \u001b[38;5;129;01min\u001b[39;00m pages]\n\u001b[0;32m     31\u001b[0m cv \u001b[38;5;241m=\u001b[39m Converter(pdf_file)\n\u001b[1;32m---> 32\u001b[0m \u001b[43mcv\u001b[49m\u001b[38;5;241;43m.\u001b[39;49m\u001b[43mconvert\u001b[49m\u001b[43m(\u001b[49m\u001b[43mdocx_file\u001b[49m\u001b[43m,\u001b[49m\u001b[43m \u001b[49m\u001b[43mstart\u001b[49m\u001b[43m,\u001b[49m\u001b[43m \u001b[49m\u001b[43mend\u001b[49m\u001b[43m,\u001b[49m\u001b[43m \u001b[49m\u001b[43mpages\u001b[49m\u001b[43m,\u001b[49m\u001b[43m \u001b[49m\u001b[43mkwargs\u001b[49m\u001b[43m)\u001b[49m\n\u001b[0;32m     33\u001b[0m cv\u001b[38;5;241m.\u001b[39mclose()\n",
      "File \u001b[1;32m~\\Anaconda3\\lib\\site-packages\\pdf2docx\\converter.py:238\u001b[0m, in \u001b[0;36mConverter.convert\u001b[1;34m(self, docx_filename, start, end, pages, kwargs)\u001b[0m\n\u001b[0;32m    236\u001b[0m     \u001b[38;5;28mself\u001b[39m\u001b[38;5;241m.\u001b[39m_parse_and_create_pages_with_multi_processing(docx_filename, page_indexes, kwargs)\n\u001b[0;32m    237\u001b[0m \u001b[38;5;28;01melse\u001b[39;00m:\n\u001b[1;32m--> 238\u001b[0m     \u001b[38;5;28;43mself\u001b[39;49m\u001b[38;5;241;43m.\u001b[39;49m\u001b[43m_parse_and_create_pages\u001b[49m\u001b[43m(\u001b[49m\u001b[43mdocx_filename\u001b[49m\u001b[43m,\u001b[49m\u001b[43m \u001b[49m\u001b[43mpage_indexes\u001b[49m\u001b[43m,\u001b[49m\u001b[43m \u001b[49m\u001b[43mkwargs\u001b[49m\u001b[43m)\u001b[49m       \n\u001b[0;32m    239\u001b[0m \u001b[38;5;28mprint\u001b[39m(\u001b[38;5;124mf\u001b[39m\u001b[38;5;124m'\u001b[39m\u001b[38;5;130;01m\\n\u001b[39;00m\u001b[38;5;132;01m{\u001b[39;00m\u001b[38;5;124m\"\u001b[39m\u001b[38;5;124m-\u001b[39m\u001b[38;5;124m\"\u001b[39m\u001b[38;5;241m*\u001b[39m\u001b[38;5;241m50\u001b[39m\u001b[38;5;132;01m}\u001b[39;00m\u001b[38;5;130;01m\\n\u001b[39;00m\u001b[38;5;124mTerminated in \u001b[39m\u001b[38;5;132;01m{\u001b[39;00mperf_counter()\u001b[38;5;241m-\u001b[39mt0\u001b[38;5;132;01m}\u001b[39;00m\u001b[38;5;124ms.\u001b[39m\u001b[38;5;124m'\u001b[39m)\n",
      "File \u001b[1;32m~\\Anaconda3\\lib\\site-packages\\pdf2docx\\converter.py:275\u001b[0m, in \u001b[0;36mConverter._parse_and_create_pages\u001b[1;34m(self, docx_filename, page_indexes, kwargs)\u001b[0m\n\u001b[0;32m    268\u001b[0m \u001b[38;5;28;01mdef\u001b[39;00m \u001b[38;5;21m_parse_and_create_pages\u001b[39m(\u001b[38;5;28mself\u001b[39m, docx_filename:\u001b[38;5;28mstr\u001b[39m, page_indexes:\u001b[38;5;28mlist\u001b[39m, kwargs:\u001b[38;5;28mdict\u001b[39m):\n\u001b[0;32m    269\u001b[0m     \u001b[38;5;124;03m'''Parse and create pages based on page indexes.\u001b[39;00m\n\u001b[0;32m    270\u001b[0m \u001b[38;5;124;03m    \u001b[39;00m\n\u001b[0;32m    271\u001b[0m \u001b[38;5;124;03m    Args:\u001b[39;00m\n\u001b[0;32m    272\u001b[0m \u001b[38;5;124;03m        docx_filename (str): docx filename to write to.\u001b[39;00m\n\u001b[0;32m    273\u001b[0m \u001b[38;5;124;03m        page_indexes (list[int]): Page indexes to parse.\u001b[39;00m\n\u001b[0;32m    274\u001b[0m \u001b[38;5;124;03m    '''\u001b[39;00m\n\u001b[1;32m--> 275\u001b[0m     \u001b[38;5;28;43mself\u001b[39;49m\u001b[38;5;241;43m.\u001b[39;49m\u001b[43mparse\u001b[49m\u001b[43m(\u001b[49m\u001b[43mpage_indexes\u001b[49m\u001b[38;5;241;43m=\u001b[39;49m\u001b[43mpage_indexes\u001b[49m\u001b[43m,\u001b[49m\u001b[43m \u001b[49m\u001b[43mkwargs\u001b[49m\u001b[38;5;241;43m=\u001b[39;49m\u001b[43mkwargs\u001b[49m\u001b[43m)\u001b[49m\u001b[38;5;241;43m.\u001b[39;49m\u001b[43mmake_docx\u001b[49m\u001b[43m(\u001b[49m\u001b[43mdocx_filename\u001b[49m\u001b[43m)\u001b[49m\n",
      "File \u001b[1;32m~\\Anaconda3\\lib\\site-packages\\pdf2docx\\converter.py:102\u001b[0m, in \u001b[0;36mConverter.make_docx\u001b[1;34m(self, docx_filename)\u001b[0m\n\u001b[0;32m     98\u001b[0m parsed_pages \u001b[38;5;241m=\u001b[39m \u001b[38;5;28mlist\u001b[39m(\u001b[38;5;28mfilter\u001b[39m(\n\u001b[0;32m     99\u001b[0m     \u001b[38;5;28;01mlambda\u001b[39;00m page: page\u001b[38;5;241m.\u001b[39mfinalized, \u001b[38;5;28mself\u001b[39m\u001b[38;5;241m.\u001b[39m_pages\n\u001b[0;32m    100\u001b[0m ))\n\u001b[0;32m    101\u001b[0m \u001b[38;5;28;01mif\u001b[39;00m \u001b[38;5;129;01mnot\u001b[39;00m parsed_pages:\n\u001b[1;32m--> 102\u001b[0m     \u001b[38;5;28;01mraise\u001b[39;00m \u001b[38;5;167;01mException\u001b[39;00m(\u001b[38;5;124m'\u001b[39m\u001b[38;5;124mNo parsed pages. Please parse page first.\u001b[39m\u001b[38;5;124m'\u001b[39m)\n\u001b[0;32m    104\u001b[0m \u001b[38;5;66;03m# docx file to convert to        \u001b[39;00m\n\u001b[0;32m    105\u001b[0m filename \u001b[38;5;241m=\u001b[39m docx_filename \u001b[38;5;28;01mif\u001b[39;00m docx_filename \u001b[38;5;28;01melse\u001b[39;00m \u001b[38;5;28mself\u001b[39m\u001b[38;5;241m.\u001b[39mfilename_pdf\u001b[38;5;241m.\u001b[39mreplace(\u001b[38;5;124m'\u001b[39m\u001b[38;5;124m.pdf\u001b[39m\u001b[38;5;124m'\u001b[39m, \u001b[38;5;124m'\u001b[39m\u001b[38;5;124m.docx\u001b[39m\u001b[38;5;124m'\u001b[39m)\n",
      "\u001b[1;31mException\u001b[0m: No parsed pages. Please parse page first."
     ]
    }
   ],
   "source": [
    "convert_pdf2docx(\"C:/Users/XJS09914403/Desktop/Audit/NF.pdf\",\"C:/Users/XJS09914403/Desktop/Audit/NFFFFFF.docx\")"
   ]
  },
  {
   "cell_type": "code",
   "execution_count": 13,
   "id": "834a387b",
   "metadata": {},
   "outputs": [
    {
     "name": "stdout",
     "output_type": "stream",
     "text": [
      "Requirement already satisfied: pdf2docx in c:\\users\\xjs09914403\\anaconda3\\lib\\site-packages (0.5.1)\n",
      "Requirement already satisfied: PyMuPDF>=1.18.5 in c:\\users\\xjs09914403\\anaconda3\\lib\\site-packages (from pdf2docx) (1.20.1)\n",
      "Requirement already satisfied: python-docx>=0.8.10 in c:\\users\\xjs09914403\\anaconda3\\lib\\site-packages (from pdf2docx) (0.8.11)\n",
      "Requirement already satisfied: fire>=0.3.0 in c:\\users\\xjs09914403\\anaconda3\\lib\\site-packages (from pdf2docx) (0.4.0)\n",
      "Requirement already satisfied: termcolor in c:\\users\\xjs09914403\\anaconda3\\lib\\site-packages (from fire>=0.3.0->pdf2docx) (1.1.0)\n",
      "Requirement already satisfied: six in c:\\users\\xjs09914403\\anaconda3\\lib\\site-packages (from fire>=0.3.0->pdf2docx) (1.16.0)\n",
      "Requirement already satisfied: lxml>=2.3.2 in c:\\users\\xjs09914403\\anaconda3\\lib\\site-packages (from python-docx>=0.8.10->pdf2docx) (4.8.0)\n",
      "Note: you may need to restart the kernel to use updated packages.\n"
     ]
    }
   ],
   "source": [
    "pip install pdf2docx\n"
   ]
  },
  {
   "cell_type": "code",
   "execution_count": 10,
   "id": "4667a283",
   "metadata": {},
   "outputs": [
    {
     "name": "stdout",
     "output_type": "stream",
     "text": [
      "Requirement already satisfied: pdf2docx in c:\\users\\xjs09914403\\anaconda3\\lib\\site-packages (0.5.1)\n",
      "Collecting pdf2docx\n",
      "  Downloading pdf2docx-0.5.5-py3-none-any.whl (148 kB)\n",
      "Requirement already satisfied: opencv-python>=4.5 in c:\\users\\xjs09914403\\anaconda3\\lib\\site-packages (from pdf2docx) (4.6.0.66)\n",
      "Requirement already satisfied: python-docx>=0.8.10 in c:\\users\\xjs09914403\\anaconda3\\lib\\site-packages (from pdf2docx) (0.8.11)\n",
      "Requirement already satisfied: numpy>=1.17.2 in c:\\users\\xjs09914403\\anaconda3\\lib\\site-packages (from pdf2docx) (1.21.5)\n",
      "Requirement already satisfied: fonttools>=4.24.0 in c:\\users\\xjs09914403\\anaconda3\\lib\\site-packages (from pdf2docx) (4.25.0)\n",
      "Requirement already satisfied: fire>=0.3.0 in c:\\users\\xjs09914403\\anaconda3\\lib\\site-packages (from pdf2docx) (0.4.0)\n",
      "Requirement already satisfied: PyMuPDF>=1.19.0 in c:\\users\\xjs09914403\\anaconda3\\lib\\site-packages (from pdf2docx) (1.20.1)\n",
      "Requirement already satisfied: six in c:\\users\\xjs09914403\\anaconda3\\lib\\site-packages (from fire>=0.3.0->pdf2docx) (1.16.0)\n",
      "Requirement already satisfied: termcolor in c:\\users\\xjs09914403\\anaconda3\\lib\\site-packages (from fire>=0.3.0->pdf2docx) (1.1.0)\n",
      "Requirement already satisfied: lxml>=2.3.2 in c:\\users\\xjs09914403\\anaconda3\\lib\\site-packages (from python-docx>=0.8.10->pdf2docx) (4.8.0)\n",
      "Installing collected packages: pdf2docx\n",
      "  Attempting uninstall: pdf2docx\n",
      "    Found existing installation: pdf2docx 0.5.1\n",
      "    Uninstalling pdf2docx-0.5.1:\n",
      "      Successfully uninstalled pdf2docx-0.5.1\n",
      "Successfully installed pdf2docx-0.5.5\n"
     ]
    }
   ],
   "source": [
    "!pip install pdf2docx --upgrade"
   ]
  },
  {
   "cell_type": "code",
   "execution_count": 17,
   "id": "4ceea446",
   "metadata": {},
   "outputs": [
    {
     "ename": "AttributeError",
     "evalue": "module 'pdf2docx' has no attribute '__version__'",
     "output_type": "error",
     "traceback": [
      "\u001b[1;31m---------------------------------------------------------------------------\u001b[0m",
      "\u001b[1;31mAttributeError\u001b[0m                            Traceback (most recent call last)",
      "Input \u001b[1;32mIn [17]\u001b[0m, in \u001b[0;36m<cell line: 1>\u001b[1;34m()\u001b[0m\n\u001b[1;32m----> 1\u001b[0m \u001b[38;5;28mprint\u001b[39m(\u001b[43mpdf2docx\u001b[49m\u001b[38;5;241;43m.\u001b[39;49m\u001b[43m__version__\u001b[49m)\n",
      "\u001b[1;31mAttributeError\u001b[0m: module 'pdf2docx' has no attribute '__version__'"
     ]
    }
   ],
   "source": [
    "print(pdf2docx.__version__)"
   ]
  },
  {
   "cell_type": "code",
   "execution_count": 1,
   "id": "e5a03ce8",
   "metadata": {},
   "outputs": [],
   "source": [
    "import pdf2docx"
   ]
  },
  {
   "cell_type": "code",
   "execution_count": 2,
   "id": "4f387c11",
   "metadata": {},
   "outputs": [],
   "source": [
    "from pdf2docx import Converter\n"
   ]
  },
  {
   "cell_type": "code",
   "execution_count": 30,
   "id": "8cf28600",
   "metadata": {},
   "outputs": [
    {
     "name": "stdout",
     "output_type": "stream",
     "text": [
      "Requirement already satisfied: pdf2docx in c:\\users\\xjs09914403\\anaconda3\\lib\\site-packages (0.5.5)\n",
      "Requirement already satisfied: PyMuPDF>=1.19.0 in c:\\users\\xjs09914403\\anaconda3\\lib\\site-packages (from pdf2docx) (1.20.1)\n",
      "Requirement already satisfied: fire>=0.3.0 in c:\\users\\xjs09914403\\anaconda3\\lib\\site-packages (from pdf2docx) (0.4.0)\n",
      "Requirement already satisfied: numpy>=1.17.2 in c:\\users\\xjs09914403\\anaconda3\\lib\\site-packages (from pdf2docx) (1.21.5)\n",
      "Requirement already satisfied: fonttools>=4.24.0 in c:\\users\\xjs09914403\\anaconda3\\lib\\site-packages (from pdf2docx) (4.25.0)\n",
      "Requirement already satisfied: python-docx>=0.8.10 in c:\\users\\xjs09914403\\anaconda3\\lib\\site-packages (from pdf2docx) (0.8.11)\n",
      "Requirement already satisfied: opencv-python>=4.5 in c:\\users\\xjs09914403\\anaconda3\\lib\\site-packages (from pdf2docx) (4.6.0.66)\n",
      "Requirement already satisfied: six in c:\\users\\xjs09914403\\anaconda3\\lib\\site-packages (from fire>=0.3.0->pdf2docx) (1.16.0)\n",
      "Requirement already satisfied: termcolor in c:\\users\\xjs09914403\\anaconda3\\lib\\site-packages (from fire>=0.3.0->pdf2docx) (1.1.0)\n",
      "Requirement already satisfied: lxml>=2.3.2 in c:\\users\\xjs09914403\\anaconda3\\lib\\site-packages (from python-docx>=0.8.10->pdf2docx) (4.8.0)\n",
      "Note: you may need to restart the kernel to use updated packages.\n"
     ]
    }
   ],
   "source": [
    "pip install pdf2docx"
   ]
  },
  {
   "cell_type": "code",
   "execution_count": null,
   "id": "47c44c6f",
   "metadata": {},
   "outputs": [],
   "source": []
  },
  {
   "cell_type": "code",
   "execution_count": 14,
   "id": "33b7be3f",
   "metadata": {},
   "outputs": [],
   "source": [
    "pdf_file = 'C:/Users/XJS09914403/Desktop/Files/ISO_26262-9.pdf'\n",
    "docx_file = 'C:/Users/XJS09914403/Desktop/Audit/NFFFFFF.docx'\n"
   ]
  },
  {
   "cell_type": "code",
   "execution_count": 15,
   "id": "b018b1c2",
   "metadata": {},
   "outputs": [
    {
     "name": "stderr",
     "output_type": "stream",
     "text": [
      "[INFO] Start to convert C:/Users/XJS09914403/Desktop/Files/ISO_26262-9.pdf\n",
      "[INFO] \u001b[1;36m[1/4] Opening document...\u001b[0m\n",
      "[INFO] \u001b[1;36m[2/4] Analyzing document...\u001b[0m\n",
      "[INFO] \u001b[1;36m[3/4] Parsing pages...\u001b[0m\n",
      "[INFO] (1/40) Page 1\n",
      "[INFO] (2/40) Page 2\n",
      "[INFO] (3/40) Page 3\n",
      "[INFO] (4/40) Page 4\n",
      "[INFO] (5/40) Page 5\n",
      "[INFO] (6/40) Page 6\n",
      "[INFO] (7/40) Page 7\n",
      "[INFO] (8/40) Page 8\n",
      "[INFO] (9/40) Page 9\n",
      "[INFO] (10/40) Page 10\n",
      "[INFO] (11/40) Page 11\n",
      "[INFO] (12/40) Page 12\n",
      "[INFO] (13/40) Page 13\n",
      "[INFO] (14/40) Page 14\n",
      "[INFO] (15/40) Page 15\n",
      "[INFO] (16/40) Page 16\n",
      "[INFO] (17/40) Page 17\n",
      "[INFO] (18/40) Page 18\n",
      "[INFO] (19/40) Page 19\n",
      "[INFO] (20/40) Page 20\n",
      "[INFO] (21/40) Page 21\n",
      "[INFO] (22/40) Page 22\n",
      "[INFO] (23/40) Page 23\n",
      "[INFO] (24/40) Page 24\n",
      "[INFO] (25/40) Page 25\n",
      "[INFO] (26/40) Page 26\n",
      "[INFO] (27/40) Page 27\n",
      "[INFO] (28/40) Page 28\n",
      "[INFO] (29/40) Page 29\n",
      "[INFO] (30/40) Page 30\n",
      "[INFO] (31/40) Page 31\n",
      "[INFO] (32/40) Page 32\n",
      "[INFO] (33/40) Page 33\n",
      "[INFO] (34/40) Page 34\n",
      "[INFO] (35/40) Page 35\n",
      "[INFO] (36/40) Page 36\n",
      "[INFO] (37/40) Page 37\n",
      "[INFO] (38/40) Page 38\n",
      "[INFO] (39/40) Page 39\n",
      "[INFO] (40/40) Page 40\n",
      "[INFO] \u001b[1;36m[4/4] Creating pages...\u001b[0m\n",
      "[INFO] (1/40) Page 1\n",
      "[INFO] (2/40) Page 2\n",
      "[INFO] (3/40) Page 3\n",
      "[INFO] (4/40) Page 4\n",
      "[INFO] (5/40) Page 5\n",
      "[INFO] (6/40) Page 6\n",
      "[INFO] (7/40) Page 7\n",
      "[INFO] (8/40) Page 8\n",
      "[INFO] (9/40) Page 9\n",
      "[INFO] (10/40) Page 10\n",
      "[INFO] (11/40) Page 11\n",
      "[INFO] (12/40) Page 12\n",
      "[INFO] (13/40) Page 13\n",
      "[INFO] (14/40) Page 14\n",
      "[INFO] (15/40) Page 15\n",
      "[INFO] (16/40) Page 16\n",
      "[INFO] (17/40) Page 17\n",
      "[INFO] (18/40) Page 18\n",
      "[INFO] (19/40) Page 19\n",
      "[INFO] (20/40) Page 20\n",
      "[INFO] (21/40) Page 21\n",
      "[INFO] (22/40) Page 22\n",
      "[INFO] (23/40) Page 23\n",
      "[INFO] (24/40) Page 24\n",
      "[INFO] (25/40) Page 25\n",
      "[INFO] (26/40) Page 26\n",
      "[INFO] (27/40) Page 27\n",
      "[INFO] (28/40) Page 28\n",
      "[INFO] (29/40) Page 29\n",
      "[INFO] (30/40) Page 30\n",
      "[INFO] (31/40) Page 31\n",
      "[INFO] (32/40) Page 32\n",
      "[INFO] (33/40) Page 33\n",
      "[INFO] (34/40) Page 34\n",
      "[INFO] (35/40) Page 35\n",
      "[INFO] (36/40) Page 36\n",
      "[INFO] (37/40) Page 37\n",
      "[INFO] (38/40) Page 38\n",
      "[INFO] (39/40) Page 39\n",
      "[INFO] (40/40) Page 40\n",
      "[INFO] Terminated in 30.07s.\n"
     ]
    }
   ],
   "source": [
    "# convert pdf to docx\n",
    "cv = Converter(pdf_file)\n",
    "cv.convert(docx_file)\n",
    "cv.close()"
   ]
  },
  {
   "cell_type": "code",
   "execution_count": 22,
   "id": "55176c45",
   "metadata": {},
   "outputs": [],
   "source": [
    "from pdf2docx import parse\n"
   ]
  },
  {
   "cell_type": "code",
   "execution_count": 24,
   "id": "9e4971ae",
   "metadata": {},
   "outputs": [
    {
     "name": "stdout",
     "output_type": "stream",
     "text": [
      "Requirement already satisfied: docx2pdf in c:\\users\\xjs09914403\\anaconda3\\lib\\site-packages (0.1.8)\n",
      "Requirement already satisfied: tqdm>=4.41.0 in c:\\users\\xjs09914403\\anaconda3\\lib\\site-packages (from docx2pdf) (4.64.0)\n",
      "Requirement already satisfied: pywin32>=227 in c:\\users\\xjs09914403\\anaconda3\\lib\\site-packages (from docx2pdf) (302)\n",
      "Requirement already satisfied: colorama in c:\\users\\xjs09914403\\anaconda3\\lib\\site-packages (from tqdm>=4.41.0->docx2pdf) (0.4.4)\n"
     ]
    }
   ],
   "source": [
    "!pip install docx2pdf"
   ]
  },
  {
   "cell_type": "code",
   "execution_count": 16,
   "id": "150dd3ab",
   "metadata": {},
   "outputs": [
    {
     "name": "stdout",
     "output_type": "stream",
     "text": [
      "Collecting docx2txt\n",
      "  Using cached docx2txt-0.8-py3-none-any.whl\n",
      "Installing collected packages: docx2txt\n",
      "Successfully installed docx2txt-0.8\n"
     ]
    }
   ],
   "source": [
    "!pip install docx2txt\n"
   ]
  },
  {
   "cell_type": "code",
   "execution_count": 19,
   "id": "bd91bbfe",
   "metadata": {},
   "outputs": [],
   "source": [
    "import docx2txt\n",
    "text = docx2txt.process('C:/Users/XJS09914403/Desktop/Audit/NFFFFFF.docx', 'C:/Users/XJS09914403/OneDrive - DRAEXLMAIER/Test/IMG')"
   ]
  },
  {
   "cell_type": "markdown",
   "id": "c43dd2b6",
   "metadata": {},
   "source": [
    "# Reading Text out of images"
   ]
  },
  {
   "cell_type": "code",
   "execution_count": 26,
   "id": "2aaef212",
   "metadata": {},
   "outputs": [
    {
     "name": "stderr",
     "output_type": "stream",
     "text": [
      "[INFO] NumExpr defaulting to 4 threads.\n"
     ]
    }
   ],
   "source": [
    "# text recognition\n",
    "import cv2\n",
    "import pytesseract\n",
    "import docx2txt\n",
    "import PIL.Image"
   ]
  },
  {
   "cell_type": "code",
   "execution_count": 25,
   "id": "173ca540",
   "metadata": {},
   "outputs": [
    {
     "name": "stdout",
     "output_type": "stream",
     "text": [
      "Collecting pytesseractNote: you may need to restart the kernel to use updated packages.\n",
      "\n",
      "  Using cached pytesseract-0.3.9-py2.py3-none-any.whl (14 kB)\n",
      "Requirement already satisfied: packaging>=21.3 in c:\\users\\xjs09914403\\anaconda3\\lib\\site-packages (from pytesseract) (21.3)\n",
      "Requirement already satisfied: Pillow>=8.0.0 in c:\\users\\xjs09914403\\anaconda3\\lib\\site-packages (from pytesseract) (9.2.0)\n",
      "Requirement already satisfied: pyparsing!=3.0.5,>=2.0.2 in c:\\users\\xjs09914403\\anaconda3\\lib\\site-packages (from packaging>=21.3->pytesseract) (3.0.4)\n",
      "Installing collected packages: pytesseract\n",
      "Successfully installed pytesseract-0.3.9\n"
     ]
    }
   ],
   "source": [
    "pip install pytesseract"
   ]
  },
  {
   "cell_type": "code",
   "execution_count": 1,
   "id": "841a18e1",
   "metadata": {},
   "outputs": [],
   "source": [
    "import pytesseract\n"
   ]
  },
  {
   "cell_type": "code",
   "execution_count": 2,
   "id": "79698ce4",
   "metadata": {},
   "outputs": [],
   "source": [
    "pytesseract.pytesseract.tesseract_cmd = r'C:\\Users\\XJS09914403\\AppData\\Local\\Tesseract-OCR\\tesseract.exe'\n"
   ]
  },
  {
   "cell_type": "code",
   "execution_count": 3,
   "id": "a925c5e2",
   "metadata": {},
   "outputs": [
    {
     "name": "stdout",
     "output_type": "stream",
     "text": [
      "Before decomposition\n",
      "\n",
      "ASIL C Decomposition schemas\n",
      "\n",
      "Clause Clause\n",
      "| =|\n",
      "5.4.9 5.4.9\n",
      "Al Y y\n",
      "Req. X.1 Req. X.2 Req. X.1 Req. X.2\n",
      "ASIL C(C) | |ASIL QM(C) ASIL B(C) ASIL A(C)\n",
      ">Elmt. E.1) (oElmt. E.2 >Elmt.E.1) \\(oElmt. E.2\n",
      "\n",
      "After decomposition\n",
      "\n",
      "\n"
     ]
    }
   ],
   "source": [
    "print(pytesseract.image_to_string(r'C:\\Users\\XJS09914403\\OneDrive - DRAEXLMAIER\\Test\\IMG\\image16.png'))"
   ]
  },
  {
   "cell_type": "code",
   "execution_count": 15,
   "id": "2485dfb2",
   "metadata": {},
   "outputs": [
    {
     "name": "stdout",
     "output_type": "stream",
     "text": [
      "Enter_the_text_to_Search_hereapplication\n",
      "query found\n",
      "image4.png\n",
      "query found\n",
      "image9.png\n"
     ]
    }
   ],
   "source": [
    "import re\n",
    "import os\n",
    "from PIL import Image\n",
    "\n",
    "pattern = re.compile(input(\"Enter_the_text_to_Search_here\"))\n",
    "folder_dir= 'C:/Users/XJS09914403/OneDrive - DRAEXLMAIER/Test/IMG'\n",
    "f = os.path.join(folder_dir, images)\n",
    "\n",
    "for images in os.listdir(folder_dir):\n",
    "    # check if the image end swith png or jpg or jpeg\n",
    "    if (images.endswith(\".png\") or images.endswith(\".jpg\")\n",
    "        or images.endswith(\".jpeg\")):\n",
    "        f = os.path.join(folder_dir, images)\n",
    "\n",
    "        \n",
    "        #print(images)\n",
    "        #print(pytesseract.image_to_string(f))\n",
    "        text= pytesseract.image_to_string(f)\n",
    "    if pattern.search(text):\n",
    "            print(\"query found\")\n",
    "            print(images)\n",
    "            #print(text)\n",
    "            im = Image.open(f)\n",
    "\n",
    "            #show image\n",
    "            im.show()\n",
    "        \n",
    "        \n",
    "        \n",
    "               "
   ]
  },
  {
   "cell_type": "code",
   "execution_count": null,
   "id": "290990cb",
   "metadata": {},
   "outputs": [],
   "source": [
    "import re\n",
    "import os\n",
    "pattern = re.compile(input(\"Enter_the_text_to_Search_here\"))\n",
    "folder_dir= 'C:/Users/XJS09914403/OneDrive - DRAEXLMAIER/Test/IMG'\n",
    "f = os.path.join(folder_dir, images)\n",
    "\n",
    "for images in os.listdir(folder_dir):\n",
    "    # check if the image end swith png or jpg or jpeg\n",
    "    if (images.endswith(\".png\") or images.endswith(\".jpg\")\n",
    "        or images.endswith(\".jpeg\")):\n",
    "        f = os.path.join(folder_dir, images)\n",
    "\n",
    "        \n",
    "        print(images)\n",
    "        print(pytesseract.image_to_string(f))\n",
    "        \n",
    "        "
   ]
  }
 ],
 "metadata": {
  "kernelspec": {
   "display_name": "Python 3 (ipykernel)",
   "language": "python",
   "name": "python3"
  },
  "language_info": {
   "codemirror_mode": {
    "name": "ipython",
    "version": 3
   },
   "file_extension": ".py",
   "mimetype": "text/x-python",
   "name": "python",
   "nbconvert_exporter": "python",
   "pygments_lexer": "ipython3",
   "version": "3.9.12"
  }
 },
 "nbformat": 4,
 "nbformat_minor": 5
}
