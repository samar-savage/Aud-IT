{
 "cells": [
  {
   "cell_type": "code",
   "execution_count": 19,
   "id": "c6c200ff",
   "metadata": {},
   "outputs": [
    {
     "name": "stdout",
     "output_type": "stream",
     "text": [
      "Requirement already satisfied: Office365-REST-Python-Client in c:\\users\\xjs09914403\\anaconda3\\lib\\site-packages (2.2.1)\n",
      "Requirement already satisfied: adal in c:\\users\\xjs09914403\\anaconda3\\lib\\site-packages (from Office365-REST-Python-Client) (1.2.7)\n",
      "Requirement already satisfied: requests in c:\\users\\xjs09914403\\anaconda3\\lib\\site-packages (from Office365-REST-Python-Client) (2.26.0)\n",
      "Requirement already satisfied: python-dateutil<3,>=2.1.0 in c:\\users\\xjs09914403\\anaconda3\\lib\\site-packages (from adal->Office365-REST-Python-Client) (2.8.2)\n",
      "Requirement already satisfied: PyJWT<3,>=1.0.0 in c:\\users\\xjs09914403\\anaconda3\\lib\\site-packages (from adal->Office365-REST-Python-Client) (2.1.0)\n",
      "Requirement already satisfied: cryptography>=1.1.0 in c:\\users\\xjs09914403\\anaconda3\\lib\\site-packages (from adal->Office365-REST-Python-Client) (3.4.8)\n",
      "Requirement already satisfied: cffi>=1.12 in c:\\users\\xjs09914403\\anaconda3\\lib\\site-packages (from cryptography>=1.1.0->adal->Office365-REST-Python-Client) (1.14.6)\n",
      "Requirement already satisfied: pycparser in c:\\users\\xjs09914403\\anaconda3\\lib\\site-packages (from cffi>=1.12->cryptography>=1.1.0->adal->Office365-REST-Python-Client) (2.20)\n",
      "Requirement already satisfied: six>=1.5 in c:\\users\\xjs09914403\\anaconda3\\lib\\site-packages (from python-dateutil<3,>=2.1.0->adal->Office365-REST-Python-Client) (1.12.0)\n",
      "Requirement already satisfied: urllib3<1.27,>=1.21.1 in c:\\users\\xjs09914403\\anaconda3\\lib\\site-packages (from requests->Office365-REST-Python-Client) (1.26.7)\n",
      "Requirement already satisfied: charset-normalizer~=2.0.0 in c:\\users\\xjs09914403\\anaconda3\\lib\\site-packages (from requests->Office365-REST-Python-Client) (2.0.4)\n",
      "Requirement already satisfied: certifi>=2017.4.17 in c:\\users\\xjs09914403\\anaconda3\\lib\\site-packages (from requests->Office365-REST-Python-Client) (2021.10.8)\n",
      "Requirement already satisfied: idna<4,>=2.5 in c:\\users\\xjs09914403\\anaconda3\\lib\\site-packages (from requests->Office365-REST-Python-Client) (3.2)\n",
      "Note: you may need to restart the kernel to use updated packages.\n"
     ]
    }
   ],
   "source": [
    "pip install Office365-REST-Python-Client\n"
   ]
  },
  {
   "cell_type": "code",
   "execution_count": 28,
   "id": "083c28f5",
   "metadata": {},
   "outputs": [],
   "source": [
    "from office365.runtime.auth.authentication_context import AuthenticationContext\n",
    "from office365.sharepoint.client_context import ClientContext\n",
    "from office365.sharepoint.files.file import File"
   ]
  },
  {
   "cell_type": "code",
   "execution_count": 31,
   "id": "30cd176d",
   "metadata": {},
   "outputs": [],
   "source": [
    "sharepoint_base_url = 'https://draexlmaier-my.sharepoint.com/personal/samar_jberi_extern_draexlmaier_com'\n",
    "sharepoint_user = 'Samar.Jberi.extern@draexlmaier.com'\n",
    "sharepoint_password = 'Sam123456@'\n",
    "folder_in_sharepoint = 'https://draexlmaier-my.sharepoint.com/:f:/r/personal/samar_jberi_extern_draexlmaier_com/Documents/Test?csf=1&web=1&e=sfgnW7'"
   ]
  },
  {
   "cell_type": "code",
   "execution_count": 36,
   "id": "701da0af",
   "metadata": {},
   "outputs": [
    {
     "ename": "ValueError",
     "evalue": "Acquire token failed: None",
     "output_type": "error",
     "traceback": [
      "\u001b[1;31m---------------------------------------------------------------------------\u001b[0m",
      "\u001b[1;31mValueError\u001b[0m                                Traceback (most recent call last)",
      "\u001b[1;32mC:\\Users\\XJS099~1\\AppData\\Local\\Temp/ipykernel_3164/2721510305.py\u001b[0m in \u001b[0;36m<module>\u001b[1;34m\u001b[0m\n\u001b[1;32m----> 1\u001b[1;33m \u001b[0mctx\u001b[0m \u001b[1;33m=\u001b[0m \u001b[0mClientContext\u001b[0m\u001b[1;33m.\u001b[0m\u001b[0mconnect_with_credentials\u001b[0m\u001b[1;33m(\u001b[0m\u001b[1;34m'https://draexlmaier-my.sharepoint.com/personal/samar_jberi_extern_draexlmaier_com'\u001b[0m\u001b[1;33m,\u001b[0m\u001b[0mClientCredential\u001b[0m\u001b[1;33m(\u001b[0m\u001b[1;34m'34d1448-4b2b-47be-b3fc-b327907af72a'\u001b[0m\u001b[1;33m,\u001b[0m\u001b[1;34m'OhSgogFuErz6+FfvT12rmpHdv1qJvh4SXudOjZMc=#'\u001b[0m\u001b[1;33m)\u001b[0m\u001b[1;33m)\u001b[0m\u001b[1;33m\u001b[0m\u001b[1;33m\u001b[0m\u001b[0m\n\u001b[0m\u001b[0;32m      2\u001b[0m \u001b[1;33m\u001b[0m\u001b[0m\n\u001b[0;32m      3\u001b[0m \u001b[0mtarget_web\u001b[0m \u001b[1;33m=\u001b[0m \u001b[0mctx\u001b[0m\u001b[1;33m.\u001b[0m\u001b[0mweb\u001b[0m\u001b[1;33m\u001b[0m\u001b[1;33m\u001b[0m\u001b[0m\n\u001b[0;32m      4\u001b[0m \u001b[0mctx\u001b[0m\u001b[1;33m.\u001b[0m\u001b[0mload\u001b[0m\u001b[1;33m(\u001b[0m\u001b[0mtarget_web\u001b[0m\u001b[1;33m)\u001b[0m\u001b[1;33m\u001b[0m\u001b[1;33m\u001b[0m\u001b[0m\n\u001b[0;32m      5\u001b[0m \u001b[0mctx\u001b[0m\u001b[1;33m.\u001b[0m\u001b[0mexecute_query\u001b[0m\u001b[1;33m(\u001b[0m\u001b[1;33m)\u001b[0m\u001b[1;33m\u001b[0m\u001b[1;33m\u001b[0m\u001b[0m\n",
      "\u001b[1;32m~\\Anaconda3\\lib\\site-packages\\office365\\sharepoint\\client_context.py\u001b[0m in \u001b[0;36mconnect_with_credentials\u001b[1;34m(base_url, credentials)\u001b[0m\n\u001b[0;32m     76\u001b[0m         :param ClientCredential or UserCredential credentials: Credentials object \"\"\"\n\u001b[0;32m     77\u001b[0m         \u001b[0mctx\u001b[0m \u001b[1;33m=\u001b[0m \u001b[0mClientContext\u001b[0m\u001b[1;33m(\u001b[0m\u001b[0mbase_url\u001b[0m\u001b[1;33m)\u001b[0m\u001b[1;33m.\u001b[0m\u001b[0mwith_credentials\u001b[0m\u001b[1;33m(\u001b[0m\u001b[0mcredentials\u001b[0m\u001b[1;33m)\u001b[0m\u001b[1;33m\u001b[0m\u001b[1;33m\u001b[0m\u001b[0m\n\u001b[1;32m---> 78\u001b[1;33m         \u001b[0mctx\u001b[0m\u001b[1;33m.\u001b[0m\u001b[0mauthentication_context\u001b[0m\u001b[1;33m.\u001b[0m\u001b[0macquire_token_func\u001b[0m\u001b[1;33m(\u001b[0m\u001b[1;33m)\u001b[0m\u001b[1;33m\u001b[0m\u001b[1;33m\u001b[0m\u001b[0m\n\u001b[0m\u001b[0;32m     79\u001b[0m         \u001b[1;32mreturn\u001b[0m \u001b[0mctx\u001b[0m\u001b[1;33m\u001b[0m\u001b[1;33m\u001b[0m\u001b[0m\n\u001b[0;32m     80\u001b[0m \u001b[1;33m\u001b[0m\u001b[0m\n",
      "\u001b[1;32m~\\Anaconda3\\lib\\site-packages\\office365\\sharepoint\\client_context.py\u001b[0m in \u001b[0;36m_acquire_token\u001b[1;34m()\u001b[0m\n\u001b[0;32m    119\u001b[0m             \u001b[1;32mif\u001b[0m \u001b[1;32mnot\u001b[0m \u001b[0mself\u001b[0m\u001b[1;33m.\u001b[0m\u001b[0mauthentication_context\u001b[0m\u001b[1;33m.\u001b[0m\u001b[0mis_authenticated\u001b[0m\u001b[1;33m:\u001b[0m\u001b[1;33m\u001b[0m\u001b[1;33m\u001b[0m\u001b[0m\n\u001b[0;32m    120\u001b[0m                 \u001b[1;32mif\u001b[0m \u001b[0misinstance\u001b[0m\u001b[1;33m(\u001b[0m\u001b[0mcredentials\u001b[0m\u001b[1;33m,\u001b[0m \u001b[0mClientCredential\u001b[0m\u001b[1;33m)\u001b[0m\u001b[1;33m:\u001b[0m\u001b[1;33m\u001b[0m\u001b[1;33m\u001b[0m\u001b[0m\n\u001b[1;32m--> 121\u001b[1;33m                     return self.authentication_context.acquire_token_for_app(credentials.clientId,\n\u001b[0m\u001b[0;32m    122\u001b[0m                                                                              credentials.clientSecret)\n\u001b[0;32m    123\u001b[0m                 \u001b[1;32melif\u001b[0m \u001b[0misinstance\u001b[0m\u001b[1;33m(\u001b[0m\u001b[0mcredentials\u001b[0m\u001b[1;33m,\u001b[0m \u001b[0mUserCredential\u001b[0m\u001b[1;33m)\u001b[0m\u001b[1;33m:\u001b[0m\u001b[1;33m\u001b[0m\u001b[1;33m\u001b[0m\u001b[0m\n",
      "\u001b[1;32m~\\Anaconda3\\lib\\site-packages\\office365\\runtime\\auth\\authentication_context.py\u001b[0m in \u001b[0;36macquire_token_for_app\u001b[1;34m(self, client_id, client_secret)\u001b[0m\n\u001b[0;32m     43\u001b[0m         \u001b[0mself\u001b[0m\u001b[1;33m.\u001b[0m\u001b[0mprovider\u001b[0m \u001b[1;33m=\u001b[0m \u001b[0mACSTokenProvider\u001b[0m\u001b[1;33m(\u001b[0m\u001b[0mself\u001b[0m\u001b[1;33m.\u001b[0m\u001b[0murl\u001b[0m\u001b[1;33m,\u001b[0m \u001b[0mclient_id\u001b[0m\u001b[1;33m,\u001b[0m \u001b[0mclient_secret\u001b[0m\u001b[1;33m)\u001b[0m\u001b[1;33m\u001b[0m\u001b[1;33m\u001b[0m\u001b[0m\n\u001b[0;32m     44\u001b[0m         \u001b[1;32mif\u001b[0m \u001b[1;32mnot\u001b[0m \u001b[0mself\u001b[0m\u001b[1;33m.\u001b[0m\u001b[0mprovider\u001b[0m\u001b[1;33m.\u001b[0m\u001b[0macquire_token\u001b[0m\u001b[1;33m(\u001b[0m\u001b[1;33m)\u001b[0m\u001b[1;33m:\u001b[0m\u001b[1;33m\u001b[0m\u001b[1;33m\u001b[0m\u001b[0m\n\u001b[1;32m---> 45\u001b[1;33m             \u001b[1;32mraise\u001b[0m \u001b[0mValueError\u001b[0m\u001b[1;33m(\u001b[0m\u001b[1;34m'Acquire token failed: {0}'\u001b[0m\u001b[1;33m.\u001b[0m\u001b[0mformat\u001b[0m\u001b[1;33m(\u001b[0m\u001b[0mself\u001b[0m\u001b[1;33m.\u001b[0m\u001b[0mprovider\u001b[0m\u001b[1;33m.\u001b[0m\u001b[0merror\u001b[0m\u001b[1;33m)\u001b[0m\u001b[1;33m)\u001b[0m\u001b[1;33m\u001b[0m\u001b[1;33m\u001b[0m\u001b[0m\n\u001b[0m\u001b[0;32m     46\u001b[0m         \u001b[1;32mreturn\u001b[0m \u001b[1;32mTrue\u001b[0m\u001b[1;33m\u001b[0m\u001b[1;33m\u001b[0m\u001b[0m\n\u001b[0;32m     47\u001b[0m \u001b[1;33m\u001b[0m\u001b[0m\n",
      "\u001b[1;31mValueError\u001b[0m: Acquire token failed: None"
     ]
    }
   ],
   "source": [
    "ctx = ClientContext.connect_with_credentials('https://draexlmaier-my.sharepoint.com/personal/samar_jberi_extern_draexlmaier_com',ClientCredential('34d1448-4b2b-47be-b3fc-b327907af72a','OhSgogFuErz6+FfvT12rmpHdv1qJvh4SXudOjZMc=#'))\n",
    "\n",
    "target_web = ctx.web\n",
    "ctx.load(target_web)\n",
    "ctx.execute_query() "
   ]
  },
  {
   "cell_type": "code",
   "execution_count": null,
   "id": "4e458142",
   "metadata": {},
   "outputs": [],
   "source": []
  }
 ],
 "metadata": {
  "kernelspec": {
   "display_name": "Python 3 (ipykernel)",
   "language": "python",
   "name": "python3"
  },
  "language_info": {
   "codemirror_mode": {
    "name": "ipython",
    "version": 3
   },
   "file_extension": ".py",
   "mimetype": "text/x-python",
   "name": "python",
   "nbconvert_exporter": "python",
   "pygments_lexer": "ipython3",
   "version": "3.9.7"
  }
 },
 "nbformat": 4,
 "nbformat_minor": 5
}
