{
 "cells": [
  {
   "cell_type": "code",
   "execution_count": 2,
   "id": "e339e63e",
   "metadata": {},
   "outputs": [
    {
     "name": "stdout",
     "output_type": "stream",
     "text": [
      "Collecting spacy\n",
      "  Using cached spacy-3.3.0-cp39-cp39-win_amd64.whl (11.6 MB)\n",
      "Requirement already satisfied: pydantic!=1.8,!=1.8.1,<1.9.0,>=1.7.4 in c:\\users\\xjs09914403\\anaconda3\\lib\\site-packages (from spacy) (1.8.2)\n",
      "Requirement already satisfied: numpy>=1.15.0 in c:\\users\\xjs09914403\\anaconda3\\lib\\site-packages (from spacy) (1.21.5)\n",
      "Requirement already satisfied: catalogue<2.1.0,>=2.0.6 in c:\\users\\xjs09914403\\anaconda3\\lib\\site-packages (from spacy) (2.0.7)\n",
      "Requirement already satisfied: preshed<3.1.0,>=3.0.2 in c:\\users\\xjs09914403\\anaconda3\\lib\\site-packages (from spacy) (3.0.6)\n",
      "Requirement already satisfied: jinja2 in c:\\users\\xjs09914403\\anaconda3\\lib\\site-packages (from spacy) (2.11.3)\n",
      "Requirement already satisfied: spacy-loggers<2.0.0,>=1.0.0 in c:\\users\\xjs09914403\\anaconda3\\lib\\site-packages (from spacy) (1.0.2)\n",
      "Requirement already satisfied: murmurhash<1.1.0,>=0.28.0 in c:\\users\\xjs09914403\\anaconda3\\lib\\site-packages (from spacy) (1.0.7)\n",
      "Requirement already satisfied: typer<0.5.0,>=0.3.0 in c:\\users\\xjs09914403\\anaconda3\\lib\\site-packages (from spacy) (0.4.1)\n",
      "Requirement already satisfied: spacy-legacy<3.1.0,>=3.0.9 in c:\\users\\xjs09914403\\anaconda3\\lib\\site-packages (from spacy) (3.0.9)\n",
      "Requirement already satisfied: cymem<2.1.0,>=2.0.2 in c:\\users\\xjs09914403\\anaconda3\\lib\\site-packages (from spacy) (2.0.6)\n",
      "Requirement already satisfied: setuptools in c:\\users\\xjs09914403\\anaconda3\\lib\\site-packages (from spacy) (62.3.2)\n",
      "Requirement already satisfied: tqdm<5.0.0,>=4.38.0 in c:\\users\\xjs09914403\\anaconda3\\lib\\site-packages (from spacy) (4.64.0)\n",
      "Requirement already satisfied: packaging>=20.0 in c:\\users\\xjs09914403\\anaconda3\\lib\\site-packages (from spacy) (21.3)\n",
      "Requirement already satisfied: blis<0.8.0,>=0.4.0 in c:\\users\\xjs09914403\\anaconda3\\lib\\site-packages (from spacy) (0.7.7)\n",
      "Requirement already satisfied: langcodes<4.0.0,>=3.2.0 in c:\\users\\xjs09914403\\anaconda3\\lib\\site-packages (from spacy) (3.3.0)\n",
      "Requirement already satisfied: thinc<8.1.0,>=8.0.14 in c:\\users\\xjs09914403\\anaconda3\\lib\\site-packages (from spacy) (8.0.17)\n",
      "Requirement already satisfied: pathy>=0.3.5 in c:\\users\\xjs09914403\\anaconda3\\lib\\site-packages (from spacy) (0.6.1)\n",
      "Requirement already satisfied: wasabi<1.1.0,>=0.9.1 in c:\\users\\xjs09914403\\anaconda3\\lib\\site-packages (from spacy) (0.9.1)\n",
      "Requirement already satisfied: requests<3.0.0,>=2.13.0 in c:\\users\\xjs09914403\\anaconda3\\lib\\site-packages (from spacy) (2.27.1)\n",
      "Requirement already satisfied: srsly<3.0.0,>=2.4.3 in c:\\users\\xjs09914403\\anaconda3\\lib\\site-packages (from spacy) (2.4.3)\n",
      "Requirement already satisfied: pyparsing!=3.0.5,>=2.0.2 in c:\\users\\xjs09914403\\anaconda3\\lib\\site-packages (from packaging>=20.0->spacy) (3.0.4)\n",
      "Requirement already satisfied: smart-open<6.0.0,>=5.0.0 in c:\\users\\xjs09914403\\anaconda3\\lib\\site-packages (from pathy>=0.3.5->spacy) (5.1.0)\n",
      "Requirement already satisfied: typing-extensions>=3.7.4.3 in c:\\users\\xjs09914403\\anaconda3\\lib\\site-packages (from pydantic!=1.8,!=1.8.1,<1.9.0,>=1.7.4->spacy) (4.1.1)\n",
      "Requirement already satisfied: idna<4,>=2.5 in c:\\users\\xjs09914403\\anaconda3\\lib\\site-packages (from requests<3.0.0,>=2.13.0->spacy) (3.3)\n",
      "Requirement already satisfied: certifi>=2017.4.17 in c:\\users\\xjs09914403\\anaconda3\\lib\\site-packages (from requests<3.0.0,>=2.13.0->spacy) (2022.5.18.1)\n",
      "Requirement already satisfied: urllib3<1.27,>=1.21.1 in c:\\users\\xjs09914403\\anaconda3\\lib\\site-packages (from requests<3.0.0,>=2.13.0->spacy) (1.26.9)\n",
      "Requirement already satisfied: charset-normalizer~=2.0.0 in c:\\users\\xjs09914403\\anaconda3\\lib\\site-packages (from requests<3.0.0,>=2.13.0->spacy) (2.0.4)\n",
      "Requirement already satisfied: colorama in c:\\users\\xjs09914403\\anaconda3\\lib\\site-packages (from tqdm<5.0.0,>=4.38.0->spacy) (0.4.4)\n",
      "Requirement already satisfied: click<9.0.0,>=7.1.1 in c:\\users\\xjs09914403\\anaconda3\\lib\\site-packages (from typer<0.5.0,>=0.3.0->spacy) (8.0.4)\n",
      "Requirement already satisfied: MarkupSafe>=0.23 in c:\\users\\xjs09914403\\anaconda3\\lib\\site-packages (from jinja2->spacy) (2.0.1)\n",
      "Installing collected packages: spacy\n",
      "Successfully installed spacy-3.3.0\n",
      "Note: you may need to restart the kernel to use updated packages.\n"
     ]
    },
    {
     "name": "stderr",
     "output_type": "stream",
     "text": [
      "WARNING: Ignoring invalid distribution -pacy (c:\\users\\xjs09914403\\anaconda3\\lib\\site-packages)\n",
      "WARNING: Ignoring invalid distribution -pacy (c:\\users\\xjs09914403\\anaconda3\\lib\\site-packages)\n",
      "WARNING: Ignoring invalid distribution -pacy (c:\\users\\xjs09914403\\anaconda3\\lib\\site-packages)\n",
      "WARNING: Ignoring invalid distribution -pacy (c:\\users\\xjs09914403\\anaconda3\\lib\\site-packages)\n",
      "WARNING: Ignoring invalid distribution -pacy (c:\\users\\xjs09914403\\anaconda3\\lib\\site-packages)\n",
      "WARNING: Ignoring invalid distribution -pacy (c:\\users\\xjs09914403\\anaconda3\\lib\\site-packages)\n",
      "WARNING: Ignoring invalid distribution -pacy (c:\\users\\xjs09914403\\anaconda3\\lib\\site-packages)\n"
     ]
    }
   ],
   "source": [
    "pip install -U spacy"
   ]
  },
  {
   "cell_type": "code",
   "execution_count": 3,
   "id": "7e31d2ef",
   "metadata": {},
   "outputs": [
    {
     "name": "stdout",
     "output_type": "stream",
     "text": [
      "Collecting python-certifi-win32\n",
      "  Downloading python_certifi_win32-1.6-py2.py3-none-any.whl (7.2 kB)\n",
      "Collecting setuptools-scm\n",
      "  Downloading setuptools_scm-6.4.2-py3-none-any.whl (37 kB)\n",
      "Requirement already satisfied: wrapt>=1.10.4 in c:\\users\\xjs09914403\\anaconda3\\lib\\site-packages (from python-certifi-win32) (1.12.1)\n",
      "Requirement already satisfied: certifi in c:\\users\\xjs09914403\\anaconda3\\lib\\site-packages (from python-certifi-win32) (2022.5.18.1)\n",
      "Requirement already satisfied: packaging>=20.0 in c:\\users\\xjs09914403\\anaconda3\\lib\\site-packages (from setuptools-scm->python-certifi-win32) (21.3)\n",
      "Requirement already satisfied: setuptools in c:\\users\\xjs09914403\\anaconda3\\lib\\site-packages (from setuptools-scm->python-certifi-win32) (62.3.2)\n",
      "Requirement already satisfied: tomli>=1.0.0 in c:\\users\\xjs09914403\\anaconda3\\lib\\site-packages (from setuptools-scm->python-certifi-win32) (1.2.2)\n",
      "Requirement already satisfied: pyparsing!=3.0.5,>=2.0.2 in c:\\users\\xjs09914403\\anaconda3\\lib\\site-packages (from packaging>=20.0->setuptools-scm->python-certifi-win32) (3.0.4)\n",
      "Installing collected packages: setuptools-scm, python-certifi-win32\n",
      "Successfully installed python-certifi-win32-1.6 setuptools-scm-6.4.2\n",
      "Note: you may need to restart the kernel to use updated packages.\n"
     ]
    },
    {
     "name": "stderr",
     "output_type": "stream",
     "text": [
      "WARNING: Ignoring invalid distribution -pacy (c:\\users\\xjs09914403\\anaconda3\\lib\\site-packages)\n",
      "WARNING: Ignoring invalid distribution -pacy (c:\\users\\xjs09914403\\anaconda3\\lib\\site-packages)\n",
      "WARNING: Ignoring invalid distribution -pacy (c:\\users\\xjs09914403\\anaconda3\\lib\\site-packages)\n",
      "WARNING: Ignoring invalid distribution -pacy (c:\\users\\xjs09914403\\anaconda3\\lib\\site-packages)\n",
      "WARNING: Ignoring invalid distribution -pacy (c:\\users\\xjs09914403\\anaconda3\\lib\\site-packages)\n",
      "WARNING: Ignoring invalid distribution -pacy (c:\\users\\xjs09914403\\anaconda3\\lib\\site-packages)\n",
      "WARNING: Ignoring invalid distribution -pacy (c:\\users\\xjs09914403\\anaconda3\\lib\\site-packages)\n",
      "WARNING: Ignoring invalid distribution -pacy (c:\\users\\xjs09914403\\anaconda3\\lib\\site-packages)\n"
     ]
    }
   ],
   "source": [
    "pip install python-certifi-win32"
   ]
  },
  {
   "cell_type": "code",
   "execution_count": 4,
   "id": "71b8f33f",
   "metadata": {},
   "outputs": [
    {
     "name": "stdout",
     "output_type": "stream",
     "text": [
      "Collecting en-core-web-sm==3.3.0\n",
      "  Downloading https://github.com/explosion/spacy-models/releases/download/en_core_web_sm-3.3.0/en_core_web_sm-3.3.0-py3-none-any.whl (12.8 MB)\n",
      "     --------------------------------------- 12.8/12.8 MB 17.7 MB/s eta 0:00:00\n",
      "Requirement already satisfied: spacy<3.4.0,>=3.3.0.dev0 in c:\\users\\xjs09914403\\anaconda3\\lib\\site-packages (from en-core-web-sm==3.3.0) (3.3.0)\n",
      "Requirement already satisfied: spacy-loggers<2.0.0,>=1.0.0 in c:\\users\\xjs09914403\\anaconda3\\lib\\site-packages (from spacy<3.4.0,>=3.3.0.dev0->en-core-web-sm==3.3.0) (1.0.2)\n",
      "Requirement already satisfied: cymem<2.1.0,>=2.0.2 in c:\\users\\xjs09914403\\anaconda3\\lib\\site-packages (from spacy<3.4.0,>=3.3.0.dev0->en-core-web-sm==3.3.0) (2.0.6)\n",
      "Requirement already satisfied: setuptools in c:\\users\\xjs09914403\\anaconda3\\lib\\site-packages (from spacy<3.4.0,>=3.3.0.dev0->en-core-web-sm==3.3.0) (62.3.2)\n",
      "Requirement already satisfied: pydantic!=1.8,!=1.8.1,<1.9.0,>=1.7.4 in c:\\users\\xjs09914403\\anaconda3\\lib\\site-packages (from spacy<3.4.0,>=3.3.0.dev0->en-core-web-sm==3.3.0) (1.8.2)\n",
      "Requirement already satisfied: spacy-legacy<3.1.0,>=3.0.9 in c:\\users\\xjs09914403\\anaconda3\\lib\\site-packages (from spacy<3.4.0,>=3.3.0.dev0->en-core-web-sm==3.3.0) (3.0.9)\n",
      "Requirement already satisfied: preshed<3.1.0,>=3.0.2 in c:\\users\\xjs09914403\\anaconda3\\lib\\site-packages (from spacy<3.4.0,>=3.3.0.dev0->en-core-web-sm==3.3.0) (3.0.6)\n",
      "Requirement already satisfied: requests<3.0.0,>=2.13.0 in c:\\users\\xjs09914403\\anaconda3\\lib\\site-packages (from spacy<3.4.0,>=3.3.0.dev0->en-core-web-sm==3.3.0) (2.27.1)\n",
      "Requirement already satisfied: typer<0.5.0,>=0.3.0 in c:\\users\\xjs09914403\\anaconda3\\lib\\site-packages (from spacy<3.4.0,>=3.3.0.dev0->en-core-web-sm==3.3.0) (0.4.1)\n",
      "Requirement already satisfied: jinja2 in c:\\users\\xjs09914403\\anaconda3\\lib\\site-packages (from spacy<3.4.0,>=3.3.0.dev0->en-core-web-sm==3.3.0) (2.11.3)\n",
      "Requirement already satisfied: murmurhash<1.1.0,>=0.28.0 in c:\\users\\xjs09914403\\anaconda3\\lib\\site-packages (from spacy<3.4.0,>=3.3.0.dev0->en-core-web-sm==3.3.0) (1.0.7)\n",
      "Requirement already satisfied: numpy>=1.15.0 in c:\\users\\xjs09914403\\anaconda3\\lib\\site-packages (from spacy<3.4.0,>=3.3.0.dev0->en-core-web-sm==3.3.0) (1.21.5)\n",
      "Requirement already satisfied: wasabi<1.1.0,>=0.9.1 in c:\\users\\xjs09914403\\anaconda3\\lib\\site-packages (from spacy<3.4.0,>=3.3.0.dev0->en-core-web-sm==3.3.0) (0.9.1)\n",
      "Requirement already satisfied: srsly<3.0.0,>=2.4.3 in c:\\users\\xjs09914403\\anaconda3\\lib\\site-packages (from spacy<3.4.0,>=3.3.0.dev0->en-core-web-sm==3.3.0) (2.4.3)\n",
      "Requirement already satisfied: thinc<8.1.0,>=8.0.14 in c:\\users\\xjs09914403\\anaconda3\\lib\\site-packages (from spacy<3.4.0,>=3.3.0.dev0->en-core-web-sm==3.3.0) (8.0.17)\n",
      "Requirement already satisfied: langcodes<4.0.0,>=3.2.0 in c:\\users\\xjs09914403\\anaconda3\\lib\\site-packages (from spacy<3.4.0,>=3.3.0.dev0->en-core-web-sm==3.3.0) (3.3.0)\n",
      "Requirement already satisfied: packaging>=20.0 in c:\\users\\xjs09914403\\anaconda3\\lib\\site-packages (from spacy<3.4.0,>=3.3.0.dev0->en-core-web-sm==3.3.0) (21.3)\n",
      "Requirement already satisfied: tqdm<5.0.0,>=4.38.0 in c:\\users\\xjs09914403\\anaconda3\\lib\\site-packages (from spacy<3.4.0,>=3.3.0.dev0->en-core-web-sm==3.3.0) (4.64.0)\n",
      "Requirement already satisfied: catalogue<2.1.0,>=2.0.6 in c:\\users\\xjs09914403\\anaconda3\\lib\\site-packages (from spacy<3.4.0,>=3.3.0.dev0->en-core-web-sm==3.3.0) (2.0.7)\n",
      "Requirement already satisfied: pathy>=0.3.5 in c:\\users\\xjs09914403\\anaconda3\\lib\\site-packages (from spacy<3.4.0,>=3.3.0.dev0->en-core-web-sm==3.3.0) (0.6.1)\n",
      "Requirement already satisfied: blis<0.8.0,>=0.4.0 in c:\\users\\xjs09914403\\anaconda3\\lib\\site-packages (from spacy<3.4.0,>=3.3.0.dev0->en-core-web-sm==3.3.0) (0.7.7)\n",
      "Requirement already satisfied: pyparsing!=3.0.5,>=2.0.2 in c:\\users\\xjs09914403\\anaconda3\\lib\\site-packages (from packaging>=20.0->spacy<3.4.0,>=3.3.0.dev0->en-core-web-sm==3.3.0) (3.0.4)\n",
      "Requirement already satisfied: smart-open<6.0.0,>=5.0.0 in c:\\users\\xjs09914403\\anaconda3\\lib\\site-packages (from pathy>=0.3.5->spacy<3.4.0,>=3.3.0.dev0->en-core-web-sm==3.3.0) (5.1.0)\n",
      "Requirement already satisfied: typing-extensions>=3.7.4.3 in c:\\users\\xjs09914403\\anaconda3\\lib\\site-packages (from pydantic!=1.8,!=1.8.1,<1.9.0,>=1.7.4->spacy<3.4.0,>=3.3.0.dev0->en-core-web-sm==3.3.0) (4.1.1)\n",
      "Requirement already satisfied: certifi>=2017.4.17 in c:\\users\\xjs09914403\\anaconda3\\lib\\site-packages (from requests<3.0.0,>=2.13.0->spacy<3.4.0,>=3.3.0.dev0->en-core-web-sm==3.3.0) (2022.5.18.1)\n",
      "Requirement already satisfied: charset-normalizer~=2.0.0 in c:\\users\\xjs09914403\\anaconda3\\lib\\site-packages (from requests<3.0.0,>=2.13.0->spacy<3.4.0,>=3.3.0.dev0->en-core-web-sm==3.3.0) (2.0.4)\n",
      "Requirement already satisfied: idna<4,>=2.5 in c:\\users\\xjs09914403\\anaconda3\\lib\\site-packages (from requests<3.0.0,>=2.13.0->spacy<3.4.0,>=3.3.0.dev0->en-core-web-sm==3.3.0) (3.3)\n",
      "Requirement already satisfied: urllib3<1.27,>=1.21.1 in c:\\users\\xjs09914403\\anaconda3\\lib\\site-packages (from requests<3.0.0,>=2.13.0->spacy<3.4.0,>=3.3.0.dev0->en-core-web-sm==3.3.0) (1.26.9)\n",
      "Requirement already satisfied: colorama in c:\\users\\xjs09914403\\anaconda3\\lib\\site-packages (from tqdm<5.0.0,>=4.38.0->spacy<3.4.0,>=3.3.0.dev0->en-core-web-sm==3.3.0) (0.4.4)\n",
      "Requirement already satisfied: click<9.0.0,>=7.1.1 in c:\\users\\xjs09914403\\anaconda3\\lib\\site-packages (from typer<0.5.0,>=0.3.0->spacy<3.4.0,>=3.3.0.dev0->en-core-web-sm==3.3.0) (8.0.4)\n",
      "Requirement already satisfied: MarkupSafe>=0.23 in c:\\users\\xjs09914403\\anaconda3\\lib\\site-packages (from jinja2->spacy<3.4.0,>=3.3.0.dev0->en-core-web-sm==3.3.0) (2.0.1)\n",
      "Installing collected packages: en-core-web-sm\n",
      "Successfully installed en-core-web-sm-3.3.0\n",
      "[!] As of spaCy v3.0, shortcuts like 'en' are deprecated. Please use the full\n",
      "pipeline package name 'en_core_web_sm' instead.\n",
      "[+] Download and installation successful\n",
      "You can now load the package via spacy.load('en_core_web_sm')\n"
     ]
    },
    {
     "name": "stderr",
     "output_type": "stream",
     "text": [
      "WARNING: Ignoring invalid distribution -pacy (c:\\users\\xjs09914403\\anaconda3\\lib\\site-packages)\n",
      "WARNING: Ignoring invalid distribution -pacy (c:\\users\\xjs09914403\\anaconda3\\lib\\site-packages)\n",
      "WARNING: Ignoring invalid distribution -pacy (c:\\users\\xjs09914403\\anaconda3\\lib\\site-packages)\n",
      "WARNING: Ignoring invalid distribution -pacy (c:\\users\\xjs09914403\\anaconda3\\lib\\site-packages)\n",
      "WARNING: Ignoring invalid distribution -pacy (c:\\users\\xjs09914403\\anaconda3\\lib\\site-packages)\n",
      "WARNING: Ignoring invalid distribution -pacy (c:\\users\\xjs09914403\\anaconda3\\lib\\site-packages)\n",
      "WARNING: Ignoring invalid distribution -pacy (c:\\users\\xjs09914403\\anaconda3\\lib\\site-packages)\n"
     ]
    }
   ],
   "source": [
    "!python -m spacy download en"
   ]
  },
  {
   "cell_type": "code",
   "execution_count": 2,
   "id": "a2dbe24e",
   "metadata": {},
   "outputs": [],
   "source": [
    "import spacy"
   ]
  },
  {
   "cell_type": "code",
   "execution_count": 3,
   "id": "08f135b0",
   "metadata": {},
   "outputs": [],
   "source": [
    "nlp = spacy.load('en_core_web_sm')"
   ]
  },
  {
   "cell_type": "code",
   "execution_count": null,
   "id": "b4bd2d97",
   "metadata": {},
   "outputs": [],
   "source": [
    "from spacy import displacy\n",
    "\n",
    "displacy.render(doc2, style='ent', jupyter=True)\n",
    "list[]\n",
    "print(doc2)\n",
    "list.append(item)"
   ]
  },
  {
   "cell_type": "code",
   "execution_count": 51,
   "id": "c8d16a46",
   "metadata": {},
   "outputs": [
    {
     "ename": "IndentationError",
     "evalue": "expected an indented block (4096818706.py, line 51)",
     "output_type": "error",
     "traceback": [
      "\u001b[1;36m  Input \u001b[1;32mIn [51]\u001b[1;36m\u001b[0m\n\u001b[1;33m    #print(\"Found the Text on page\",i+1, \"from the file :\", filename)\u001b[0m\n\u001b[1;37m                                                                     ^\u001b[0m\n\u001b[1;31mIndentationError\u001b[0m\u001b[1;31m:\u001b[0m expected an indented block\n"
     ]
    }
   ],
   "source": [
    "# import required module\n",
    "import os\n",
    "import re\n",
    "import PyPDF2 \n",
    "import fitz\n",
    "# assign directory\n",
    "directory = 'C:/Users/XJS09914403/OneDrive - DRAEXLMAIER/Test'\n",
    "# iterate over files in\n",
    "# that directory\n",
    "X = input(\"Enter_the_text_to_Search_here \")\n",
    "pattern = re.compile(input(\"Enter_the_text_to_Search_here \"))\n",
    "print(X)\n",
    "doc4 = nlp(X)\n",
    "my_list = []\n",
    "for t in doc4:\n",
    "    my_list.append(str(t))\n",
    "print(my_list)\n",
    "for word in my_list:\n",
    "    print(word+' --> '+s_stemmer.stem(word))\n",
    "doc1 = nlp(X)\n",
    "my_list1= []\n",
    "for token in doc1:\n",
    "    print(token.text, '\\t', token.pos_, '\\t', token.lemma, '\\t', token.lemma_)\n",
    "    my_list1.append(token.lemma_)\n",
    "    final = ''.join(my_list1)\n",
    "    print(final)\n",
    "    doc3 = nlp(final)\n",
    "    for chunk in doc3.noun_chunks:\n",
    "        print(\"those are the other chunks lemmatisation:\",chunk.text)\n",
    "#print(\"this is the final list\", final)\n",
    "#print(\"this is my list\",my_list1)\n",
    "for chunk in doc1.noun_chunks:\n",
    "    #print(\"those are the chunks :\",chunk.text)\n",
    "\n",
    "\n",
    "    \n",
    "    for filename in os.listdir(directory):\n",
    "        if not filename.startswith('~$') and filename.endswith('.pdf'):\n",
    "            f = os.path.join(directory, filename)\n",
    "            doc = fitz.open(f)\n",
    "            page_count = len(doc)\n",
    "            #print(page_count)\n",
    "            for i in range(0, page_count):\n",
    "                page = doc[i]\n",
    "                text = page.get_text(\"text\")\n",
    "                doc2 = nlp(text)\n",
    "                found = re.finditer(pattern, text)\n",
    "            #print(type(text))\n",
    "            #print(text)\n",
    "                if pattern.search(text):\n",
    "                    \n",
    "                    #print(\"Found the Text on page\",i+1, \"from the file :\", filename)"
   ]
  },
  {
   "cell_type": "code",
   "execution_count": 5,
   "id": "3341f3f9",
   "metadata": {},
   "outputs": [],
   "source": [
    "import nltk\n",
    "\n",
    "from nltk.stem.porter import *\n",
    "from nltk.stem.snowball import SnowballStemmer\n"
   ]
  },
  {
   "cell_type": "code",
   "execution_count": 6,
   "id": "3bf9492f",
   "metadata": {},
   "outputs": [],
   "source": [
    "p_stemmer = PorterStemmer()"
   ]
  },
  {
   "cell_type": "code",
   "execution_count": 26,
   "id": "bb047bd1",
   "metadata": {},
   "outputs": [],
   "source": [
    "words = ['run','runner','running','ran','runs','easily','fairly']"
   ]
  },
  {
   "cell_type": "code",
   "execution_count": 27,
   "id": "f1323ad6",
   "metadata": {},
   "outputs": [
    {
     "name": "stdout",
     "output_type": "stream",
     "text": [
      "run --> run\n",
      "runner --> runner\n",
      "running --> run\n",
      "ran --> ran\n",
      "runs --> run\n",
      "easily --> easili\n",
      "fairly --> fairli\n"
     ]
    }
   ],
   "source": [
    "for word in words:\n",
    "    print(word+' --> '+p_stemmer.stem(word))"
   ]
  },
  {
   "cell_type": "code",
   "execution_count": 7,
   "id": "0469bd43",
   "metadata": {},
   "outputs": [],
   "source": [
    "#The Snowball Stemmer requires that you pass a language parameter\n",
    "s_stemmer = SnowballStemmer(language='english')"
   ]
  },
  {
   "cell_type": "code",
   "execution_count": 35,
   "id": "059017a0",
   "metadata": {},
   "outputs": [
    {
     "name": "stdout",
     "output_type": "stream",
     "text": [
      "Enter_the_text_to_Search_hereSoftware architectural design\n",
      "Software architectural design\n",
      "['Software', 'architectural', 'design']\n",
      "Software --> softwar\n",
      "architectural --> architectur\n",
      "design --> design\n",
      "Software \t NOUN \t 8212201967714533330 \t software\n",
      "this is final software\n",
      "Found the Text on page 1 from the file : ISO_26262-6.pdf\n",
      "Found the Text on page 3 from the file : ISO_26262-6.pdf\n",
      "Found the Text on page 4 from the file : ISO_26262-6.pdf\n",
      "Found the Text on page 5 from the file : ISO_26262-6.pdf\n",
      "Found the Text on page 7 from the file : ISO_26262-6.pdf\n",
      "Found the Text on page 9 from the file : ISO_26262-6.pdf\n",
      "Found the Text on page 12 from the file : ISO_26262-6.pdf\n",
      "Found the Text on page 13 from the file : ISO_26262-6.pdf\n",
      "Found the Text on page 14 from the file : ISO_26262-6.pdf\n",
      "Found the Text on page 15 from the file : ISO_26262-6.pdf\n",
      "Found the Text on page 16 from the file : ISO_26262-6.pdf\n",
      "Found the Text on page 17 from the file : ISO_26262-6.pdf\n",
      "Found the Text on page 18 from the file : ISO_26262-6.pdf\n",
      "Found the Text on page 19 from the file : ISO_26262-6.pdf\n",
      "Found the Text on page 20 from the file : ISO_26262-6.pdf\n",
      "Found the Text on page 21 from the file : ISO_26262-6.pdf\n",
      "Found the Text on page 22 from the file : ISO_26262-6.pdf\n",
      "Found the Text on page 23 from the file : ISO_26262-6.pdf\n",
      "Found the Text on page 24 from the file : ISO_26262-6.pdf\n",
      "Found the Text on page 25 from the file : ISO_26262-6.pdf\n",
      "Found the Text on page 26 from the file : ISO_26262-6.pdf\n",
      "Found the Text on page 27 from the file : ISO_26262-6.pdf\n",
      "Found the Text on page 28 from the file : ISO_26262-6.pdf\n",
      "Found the Text on page 29 from the file : ISO_26262-6.pdf\n",
      "Found the Text on page 30 from the file : ISO_26262-6.pdf\n",
      "Found the Text on page 31 from the file : ISO_26262-6.pdf\n",
      "Found the Text on page 32 from the file : ISO_26262-6.pdf\n",
      "Found the Text on page 33 from the file : ISO_26262-6.pdf\n",
      "Found the Text on page 34 from the file : ISO_26262-6.pdf\n",
      "Found the Text on page 35 from the file : ISO_26262-6.pdf\n",
      "Found the Text on page 36 from the file : ISO_26262-6.pdf\n",
      "Found the Text on page 37 from the file : ISO_26262-6.pdf\n",
      "Found the Text on page 38 from the file : ISO_26262-6.pdf\n",
      "Found the Text on page 39 from the file : ISO_26262-6.pdf\n",
      "Found the Text on page 40 from the file : ISO_26262-6.pdf\n",
      "Found the Text on page 41 from the file : ISO_26262-6.pdf\n",
      "Found the Text on page 42 from the file : ISO_26262-6.pdf\n",
      "Found the Text on page 43 from the file : ISO_26262-6.pdf\n",
      "Found the Text on page 44 from the file : ISO_26262-6.pdf\n",
      "Found the Text on page 45 from the file : ISO_26262-6.pdf\n",
      "Found the Text on page 46 from the file : ISO_26262-6.pdf\n",
      "Found the Text on page 47 from the file : ISO_26262-6.pdf\n",
      "Found the Text on page 48 from the file : ISO_26262-6.pdf\n",
      "Found the Text on page 49 from the file : ISO_26262-6.pdf\n",
      "Found the Text on page 50 from the file : ISO_26262-6.pdf\n",
      "Found the Text on page 51 from the file : ISO_26262-6.pdf\n",
      "Found the Text on page 52 from the file : ISO_26262-6.pdf\n",
      "Found the Text on page 53 from the file : ISO_26262-6.pdf\n",
      "Found the Text on page 54 from the file : ISO_26262-6.pdf\n",
      "Found the Text on page 55 from the file : ISO_26262-6.pdf\n",
      "Found the Text on page 56 from the file : ISO_26262-6.pdf\n",
      "Found the Text on page 57 from the file : ISO_26262-6.pdf\n",
      "Found the Text on page 58 from the file : ISO_26262-6.pdf\n",
      "Found the Text on page 59 from the file : ISO_26262-6.pdf\n",
      "Found the Text on page 60 from the file : ISO_26262-6.pdf\n",
      "Found the Text on page 61 from the file : ISO_26262-6.pdf\n",
      "Found the Text on page 62 from the file : ISO_26262-6.pdf\n",
      "Found the Text on page 63 from the file : ISO_26262-6.pdf\n",
      "Found the Text on page 64 from the file : ISO_26262-6.pdf\n",
      "Found the Text on page 65 from the file : ISO_26262-6.pdf\n",
      "architectural \t ADJ \t 12324320769583308686 \t architectural\n",
      "this is final software architectural\n",
      "Found the Text on page 4 from the file : ISO_26262-6.pdf\n",
      "Found the Text on page 9 from the file : ISO_26262-6.pdf\n",
      "Found the Text on page 18 from the file : ISO_26262-6.pdf\n",
      "Found the Text on page 19 from the file : ISO_26262-6.pdf\n",
      "Found the Text on page 20 from the file : ISO_26262-6.pdf\n",
      "Found the Text on page 21 from the file : ISO_26262-6.pdf\n",
      "Found the Text on page 22 from the file : ISO_26262-6.pdf\n",
      "Found the Text on page 23 from the file : ISO_26262-6.pdf\n",
      "Found the Text on page 24 from the file : ISO_26262-6.pdf\n",
      "Found the Text on page 25 from the file : ISO_26262-6.pdf\n",
      "Found the Text on page 26 from the file : ISO_26262-6.pdf\n",
      "Found the Text on page 28 from the file : ISO_26262-6.pdf\n",
      "Found the Text on page 32 from the file : ISO_26262-6.pdf\n",
      "Found the Text on page 33 from the file : ISO_26262-6.pdf\n",
      "Found the Text on page 35 from the file : ISO_26262-6.pdf\n",
      "Found the Text on page 36 from the file : ISO_26262-6.pdf\n",
      "Found the Text on page 42 from the file : ISO_26262-6.pdf\n",
      "Found the Text on page 44 from the file : ISO_26262-6.pdf\n",
      "Found the Text on page 46 from the file : ISO_26262-6.pdf\n",
      "Found the Text on page 49 from the file : ISO_26262-6.pdf\n",
      "Found the Text on page 52 from the file : ISO_26262-6.pdf\n",
      "Found the Text on page 56 from the file : ISO_26262-6.pdf\n",
      "Found the Text on page 57 from the file : ISO_26262-6.pdf\n",
      "Found the Text on page 58 from the file : ISO_26262-6.pdf\n",
      "Found the Text on page 59 from the file : ISO_26262-6.pdf\n",
      "Found the Text on page 61 from the file : ISO_26262-6.pdf\n",
      "Found the Text on page 62 from the file : ISO_26262-6.pdf\n",
      "Found the Text on page 64 from the file : ISO_26262-6.pdf\n",
      "design \t NOUN \t 4105053907530138126 \t design\n",
      "this is final software architectural design\n",
      "Found the Text on page 9 from the file : ISO_26262-6.pdf\n",
      "Found the Text on page 18 from the file : ISO_26262-6.pdf\n",
      "Found the Text on page 19 from the file : ISO_26262-6.pdf\n",
      "Found the Text on page 20 from the file : ISO_26262-6.pdf\n",
      "Found the Text on page 21 from the file : ISO_26262-6.pdf\n",
      "Found the Text on page 22 from the file : ISO_26262-6.pdf\n",
      "Found the Text on page 24 from the file : ISO_26262-6.pdf\n",
      "Found the Text on page 25 from the file : ISO_26262-6.pdf\n",
      "Found the Text on page 26 from the file : ISO_26262-6.pdf\n",
      "Found the Text on page 28 from the file : ISO_26262-6.pdf\n",
      "Found the Text on page 32 from the file : ISO_26262-6.pdf\n",
      "Found the Text on page 33 from the file : ISO_26262-6.pdf\n",
      "Found the Text on page 36 from the file : ISO_26262-6.pdf\n",
      "Found the Text on page 44 from the file : ISO_26262-6.pdf\n",
      "Found the Text on page 46 from the file : ISO_26262-6.pdf\n",
      "Found the Text on page 49 from the file : ISO_26262-6.pdf\n",
      "Found the Text on page 52 from the file : ISO_26262-6.pdf\n",
      "Found the Text on page 56 from the file : ISO_26262-6.pdf\n",
      "Found the Text on page 57 from the file : ISO_26262-6.pdf\n",
      "Found the Text on page 59 from the file : ISO_26262-6.pdf\n",
      "Found the Text on page 61 from the file : ISO_26262-6.pdf\n",
      "Found the Text on page 62 from the file : ISO_26262-6.pdf\n",
      "Found the Text on page 64 from the file : ISO_26262-6.pdf\n"
     ]
    }
   ],
   "source": [
    "# import required module\n",
    "import os\n",
    "import re\n",
    "import PyPDF2 \n",
    "import fitz\n",
    "# assign directory\n",
    "directory = 'C:/Users/XJS09914403/OneDrive - DRAEXLMAIER/Test'\n",
    "# iterate over files in\n",
    "# that directory\n",
    "#X = input(\"Enter_the_text_to_Search_here \")\n",
    "directory = 'C:/Users/XJS09914403/OneDrive - DRAEXLMAIER/Test'\n",
    "filename = 'ISO_26262-6.pdf'\n",
    "pattern = re.compile(input(\"Enter_the_text_to_Search_here\"))\n",
    "\n",
    "# iterate over files in\n",
    "# that directory\n",
    "#pattern = re.compile(input(\"Enter_the_text_to_Search_here\"))\n",
    "#if not filename.startswith('~$') and filename.endswith('.pdf'):\n",
    "f = os.path.join(directory, filename)\n",
    "doc = fitz.open(f)\n",
    "page_count = len(doc)\n",
    "print(X)\n",
    "doc4 = nlp(X)\n",
    "my_list = []\n",
    "for t in doc4:\n",
    "    my_list.append(str(t))\n",
    "print(my_list)\n",
    "for word in my_list:\n",
    "    print(word+' --> '+s_stemmer.stem(word))\n",
    "doc1 = nlp(X)\n",
    "my_list1= []\n",
    "for token in doc1:\n",
    "    print(token.text, '\\t', token.pos_, '\\t', token.lemma, '\\t', token.lemma_)\n",
    "    my_list1.append(token.lemma_+'')\n",
    "    final = (' '.join(map(str, my_list1)))\n",
    "    print(\"this is final\",final)\n",
    "    Final =  re.compile(final)\n",
    "    for i in range(0, page_count):\n",
    "        page = doc[i]\n",
    "        text = page.get_text(\"text\")\n",
    "        doc3 = nlp(text)\n",
    "        if pattern.search(text) or Final.search(text):\n",
    "            print(\"Found the Text on page\",i+1, \"from the file :\", filename)\n",
    "\n",
    "        #print(doc3)\n",
    "        #phrase_list = [final, X]\n",
    "        #print(phrase_list)\n",
    "        #phrase_patterns = [nlp(text) for text in phrase_list]\n",
    "        #matcher.add('Voodoo', None, *phrase_patterns)\n",
    "        #matches = matcher(doc3)\n",
    "        #matches\n",
    "   \n",
    "    \n",
    "   "
   ]
  },
  {
   "cell_type": "markdown",
   "id": "9b7d3970",
   "metadata": {},
   "source": [
    "# PhraseMatcher"
   ]
  },
  {
   "cell_type": "code",
   "execution_count": 11,
   "id": "37636be6",
   "metadata": {},
   "outputs": [],
   "source": [
    "# Perform standard imports, reset nlp\n",
    "import spacy\n",
    "nlp = spacy.load('en_core_web_sm')\n"
   ]
  },
  {
   "cell_type": "code",
   "execution_count": 12,
   "id": "6c1dac79",
   "metadata": {},
   "outputs": [],
   "source": [
    "# Import the PhraseMatcher library\n",
    "from spacy.matcher import PhraseMatcher\n",
    "matcher = PhraseMatcher(nlp.vocab)"
   ]
  },
  {
   "cell_type": "code",
   "execution_count": 8,
   "id": "c7a870c4",
   "metadata": {},
   "outputs": [
    {
     "ename": "KeyboardInterrupt",
     "evalue": "Interrupted by user",
     "output_type": "error",
     "traceback": [
      "\u001b[1;31m---------------------------------------------------------------------------\u001b[0m",
      "\u001b[1;31mKeyboardInterrupt\u001b[0m                         Traceback (most recent call last)",
      "Input \u001b[1;32mIn [8]\u001b[0m, in \u001b[0;36m<cell line: 18>\u001b[1;34m()\u001b[0m\n\u001b[0;32m     16\u001b[0m page_count \u001b[38;5;241m=\u001b[39m \u001b[38;5;28mlen\u001b[39m(doc)\n\u001b[0;32m     17\u001b[0m \u001b[38;5;66;03m#print(page_count)\u001b[39;00m\n\u001b[1;32m---> 18\u001b[0m FirstInput \u001b[38;5;241m=\u001b[39m \u001b[38;5;28;43minput\u001b[39;49m\u001b[43m(\u001b[49m\u001b[38;5;124;43m\"\u001b[39;49m\u001b[38;5;124;43mEnter First Input here :\u001b[39;49m\u001b[38;5;124;43m\"\u001b[39;49m\u001b[43m)\u001b[49m\n\u001b[0;32m     19\u001b[0m SecondInput \u001b[38;5;241m=\u001b[39m \u001b[38;5;28minput\u001b[39m(\u001b[38;5;124m\"\u001b[39m\u001b[38;5;124mEnter Second Input here :\u001b[39m\u001b[38;5;124m\"\u001b[39m)\n\u001b[0;32m     20\u001b[0m ThirdInput \u001b[38;5;241m=\u001b[39m \u001b[38;5;28minput\u001b[39m(\u001b[38;5;124m\"\u001b[39m\u001b[38;5;124mEnter Third Input here :\u001b[39m\u001b[38;5;124m\"\u001b[39m)\n",
      "File \u001b[1;32m~\\Anaconda3\\lib\\site-packages\\ipykernel\\kernelbase.py:1075\u001b[0m, in \u001b[0;36mKernel.raw_input\u001b[1;34m(self, prompt)\u001b[0m\n\u001b[0;32m   1071\u001b[0m \u001b[38;5;28;01mif\u001b[39;00m \u001b[38;5;129;01mnot\u001b[39;00m \u001b[38;5;28mself\u001b[39m\u001b[38;5;241m.\u001b[39m_allow_stdin:\n\u001b[0;32m   1072\u001b[0m     \u001b[38;5;28;01mraise\u001b[39;00m StdinNotImplementedError(\n\u001b[0;32m   1073\u001b[0m         \u001b[38;5;124m\"\u001b[39m\u001b[38;5;124mraw_input was called, but this frontend does not support input requests.\u001b[39m\u001b[38;5;124m\"\u001b[39m\n\u001b[0;32m   1074\u001b[0m     )\n\u001b[1;32m-> 1075\u001b[0m \u001b[38;5;28;01mreturn\u001b[39;00m \u001b[38;5;28;43mself\u001b[39;49m\u001b[38;5;241;43m.\u001b[39;49m\u001b[43m_input_request\u001b[49m\u001b[43m(\u001b[49m\n\u001b[0;32m   1076\u001b[0m \u001b[43m    \u001b[49m\u001b[38;5;28;43mstr\u001b[39;49m\u001b[43m(\u001b[49m\u001b[43mprompt\u001b[49m\u001b[43m)\u001b[49m\u001b[43m,\u001b[49m\n\u001b[0;32m   1077\u001b[0m \u001b[43m    \u001b[49m\u001b[38;5;28;43mself\u001b[39;49m\u001b[38;5;241;43m.\u001b[39;49m\u001b[43m_parent_ident\u001b[49m\u001b[43m[\u001b[49m\u001b[38;5;124;43m\"\u001b[39;49m\u001b[38;5;124;43mshell\u001b[39;49m\u001b[38;5;124;43m\"\u001b[39;49m\u001b[43m]\u001b[49m\u001b[43m,\u001b[49m\n\u001b[0;32m   1078\u001b[0m \u001b[43m    \u001b[49m\u001b[38;5;28;43mself\u001b[39;49m\u001b[38;5;241;43m.\u001b[39;49m\u001b[43mget_parent\u001b[49m\u001b[43m(\u001b[49m\u001b[38;5;124;43m\"\u001b[39;49m\u001b[38;5;124;43mshell\u001b[39;49m\u001b[38;5;124;43m\"\u001b[39;49m\u001b[43m)\u001b[49m\u001b[43m,\u001b[49m\n\u001b[0;32m   1079\u001b[0m \u001b[43m    \u001b[49m\u001b[43mpassword\u001b[49m\u001b[38;5;241;43m=\u001b[39;49m\u001b[38;5;28;43;01mFalse\u001b[39;49;00m\u001b[43m,\u001b[49m\n\u001b[0;32m   1080\u001b[0m \u001b[43m\u001b[49m\u001b[43m)\u001b[49m\n",
      "File \u001b[1;32m~\\Anaconda3\\lib\\site-packages\\ipykernel\\kernelbase.py:1120\u001b[0m, in \u001b[0;36mKernel._input_request\u001b[1;34m(self, prompt, ident, parent, password)\u001b[0m\n\u001b[0;32m   1117\u001b[0m             \u001b[38;5;28;01mbreak\u001b[39;00m\n\u001b[0;32m   1118\u001b[0m \u001b[38;5;28;01mexcept\u001b[39;00m \u001b[38;5;167;01mKeyboardInterrupt\u001b[39;00m:\n\u001b[0;32m   1119\u001b[0m     \u001b[38;5;66;03m# re-raise KeyboardInterrupt, to truncate traceback\u001b[39;00m\n\u001b[1;32m-> 1120\u001b[0m     \u001b[38;5;28;01mraise\u001b[39;00m \u001b[38;5;167;01mKeyboardInterrupt\u001b[39;00m(\u001b[38;5;124m\"\u001b[39m\u001b[38;5;124mInterrupted by user\u001b[39m\u001b[38;5;124m\"\u001b[39m) \u001b[38;5;28;01mfrom\u001b[39;00m \u001b[38;5;28mNone\u001b[39m\n\u001b[0;32m   1121\u001b[0m \u001b[38;5;28;01mexcept\u001b[39;00m \u001b[38;5;167;01mException\u001b[39;00m:\n\u001b[0;32m   1122\u001b[0m     \u001b[38;5;28mself\u001b[39m\u001b[38;5;241m.\u001b[39mlog\u001b[38;5;241m.\u001b[39mwarning(\u001b[38;5;124m\"\u001b[39m\u001b[38;5;124mInvalid Message:\u001b[39m\u001b[38;5;124m\"\u001b[39m, exc_info\u001b[38;5;241m=\u001b[39m\u001b[38;5;28;01mTrue\u001b[39;00m)\n",
      "\u001b[1;31mKeyboardInterrupt\u001b[0m: Interrupted by user"
     ]
    }
   ],
   "source": [
    "# import required module\n",
    "import os\n",
    "import re\n",
    "import PyPDF2 \n",
    "import fitz\n",
    "# assign directory\n",
    "directory = 'C:/Users/XJS09914403/OneDrive - DRAEXLMAIER/Test'\n",
    "filename = 'ISO_26262-6.pdf'\n",
    "\n",
    "# iterate over files in\n",
    "# that directory\n",
    "#pattern = re.compile(input(\"Enter_the_text_to_Search_here\"))\n",
    "#if not filename.startswith('~$') and filename.endswith('.pdf'):\n",
    "f = os.path.join(directory, filename)\n",
    "doc = fitz.open(f)\n",
    "page_count = len(doc)\n",
    "#print(page_count)\n",
    "FirstInput = input(\"Enter First Input here :\")\n",
    "SecondInput = input(\"Enter Second Input here :\")\n",
    "ThirdInput = input(\"Enter Third Input here :\")\n",
    "for i in range(0, page_count):\n",
    "    page = doc[i]\n",
    "    text = page.get_text(\"text\")\n",
    "    doc3 = nlp(text)\n",
    "    \n",
    "    phrase_list = [FirstInput, SecondInput,ThirdInput]\n",
    "    phrase_patterns = [nlp(text) for text in phrase_list]\n",
    "    matcher.add('Suggestions', None, *phrase_patterns)\n",
    "    matches = matcher(doc3)\n",
    "    matches"
   ]
  },
  {
   "cell_type": "code",
   "execution_count": 17,
   "id": "7a4d5367",
   "metadata": {},
   "outputs": [
    {
     "name": "stdout",
     "output_type": "stream",
     "text": [
      "5.3.2 Further supporting information\n",
      "The following information can be considered:\n",
      "— qualified software tools available (see ISO 26262-8:2018, Clause 11);\n",
      "— design and coding guidelines for modelling, design and programming languages (from an external source);\n",
      "— guidelines for the application of methods (from an external source); and\n",
      "— guidelines for the application of tools (from an external source).\n",
      "5.4 Requirements and recommendations\n",
      "5.4.1 When developing the software of an item, software development processes and software development environments shall be used which:\n",
      "a) are suitable for developing safety-related embedded software, including methods, guidelines, languages and tools;\n",
      "b) support consistency across the sub-phases of the software development lifecycle and the respective work products; and\n",
      "c) are compatible with the system and hardware development phases regarding required interaction and consistency of exchange of information.\n",
      "NOTE 1 The sequencing of phases, tasks and activities, including iteration steps, for the software of an item intends to ensure the consistency of the corresponding work products with the product development at the hardware level (see ISO 26262-5) and the product development at the system level (see ISO 26262-4).\n"
     ]
    }
   ],
   "source": [
    "with open('C:/Users/XJS09914403/Desktop/test.txt', encoding='utf8') as f:\n",
    "    doc3 = nlp(f.read())\n",
    "    print(doc3)"
   ]
  },
  {
   "cell_type": "code",
   "execution_count": 30,
   "id": "1867734d",
   "metadata": {},
   "outputs": [],
   "source": [
    "def NLP(X,final):\n",
    "\n",
    "# First, create a list of match phrases:\n",
    "    phrase_list = [X,final]\n",
    "    print(phrase_list)\n",
    "\n",
    "# Next, convert each phrase to a Doc object:\n",
    "    phrase_patterns = [nlp(text) for text in phrase_list]\n",
    "\n",
    "# Pass each Doc object into matcher (note the use of the asterisk!):\n",
    "    matcher.add('VoodooEconomics', None, *phrase_patterns)\n",
    "\n",
    "# Build a list of matches:\n",
    "    matches = matcher(doc3)\n",
    "    return matches"
   ]
  },
  {
   "cell_type": "code",
   "execution_count": 16,
   "id": "8c8e6646",
   "metadata": {},
   "outputs": [
    {
     "data": {
      "text/plain": [
       "[]"
      ]
     },
     "execution_count": 16,
     "metadata": {},
     "output_type": "execute_result"
    }
   ],
   "source": [
    "# (match_id, start, end)\n",
    "matches"
   ]
  },
  {
   "cell_type": "code",
   "execution_count": 10,
   "id": "93682595",
   "metadata": {},
   "outputs": [
    {
     "name": "stdout",
     "output_type": "stream",
     "text": [
      "3473369816841043438 VoodooEconomics 95 98 software development processes and software development environments shall be used which:\n",
      "a) are suitable for developing safety-related embedded\n",
      "3473369816841043438 VoodooEconomics 114 117 safety-related embedded software, including methods, guidelines, languages and tools;\n",
      "b) support consistency across the sub\n",
      "3473369816841043438 VoodooEconomics 120 122 including methods, guidelines, languages and tools;\n",
      "b) support consistency across the sub-phases of the software\n",
      "3473369816841043438 VoodooEconomics 132 134 support consistency across the sub-phases of the software development lifecycle and the respective work products; and\n",
      "c)\n"
     ]
    }
   ],
   "source": [
    "for match_id, start, end in matches:\n",
    "    string_id = nlp.vocab.strings[match_id]  # get string representation\n",
    "                     # get the matched span\n",
    "    span = doc3[start:end+20]  \n",
    "    print(match_id, string_id, start, end,span.text)"
   ]
  },
  {
   "cell_type": "code",
   "execution_count": 8,
   "id": "db60a014",
   "metadata": {},
   "outputs": [
    {
     "data": {
      "text/plain": [
       "5.3.2 Further supporting information\n",
       "The following information can be considered:\n",
       "— qualified software tools available (see ISO 26262-8:2018, Clause 11);\n",
       "— design and coding guidelines for modelling, design and programming languages (from an external source);\n",
       "— guidelines for the application of methods (from an external source); and\n",
       "— guidelines for the"
      ]
     },
     "execution_count": 8,
     "metadata": {},
     "output_type": "execute_result"
    }
   ],
   "source": [
    "doc3[:70]"
   ]
  },
  {
   "cell_type": "code",
   "execution_count": 16,
   "id": "383820c2",
   "metadata": {},
   "outputs": [
    {
     "ename": "SyntaxError",
     "evalue": "invalid syntax (563381671.py, line 3)",
     "output_type": "error",
     "traceback": [
      "\u001b[1;36m  Input \u001b[1;32mIn [16]\u001b[1;36m\u001b[0m\n\u001b[1;33m    span = [start:end]                    # get the matched span\u001b[0m\n\u001b[1;37m                 ^\u001b[0m\n\u001b[1;31mSyntaxError\u001b[0m\u001b[1;31m:\u001b[0m invalid syntax\n"
     ]
    }
   ],
   "source": []
  },
  {
   "cell_type": "code",
   "execution_count": 14,
   "id": "7f05cda1",
   "metadata": {},
   "outputs": [
    {
     "name": "stdout",
     "output_type": "stream",
     "text": [
      "Enter_the_text_to_Search_hereSoftware unit design and implementation\n",
      "Software \t PROPN \t 5476674789249212452 \t Software\n",
      "this is final Software\n",
      "those are the other chunks lemmatisation: Software\n",
      "unit \t NOUN \t 744902419427097465 \t unit\n",
      "this is final Software unit\n",
      "those are the other chunks lemmatisation: Software unit\n",
      "design \t NOUN \t 4105053907530138126 \t design\n",
      "this is final Software unit design\n",
      "those are the other chunks lemmatisation: Software unit design\n",
      "and \t CCONJ \t 2283656566040971221 \t and\n",
      "this is final Software unit design and\n",
      "those are the other chunks lemmatisation: Software unit design\n",
      "implementation \t NOUN \t 1056469739930462242 \t implementation\n",
      "this is final Software unit design and implementation\n",
      "those are the other chunks lemmatisation: Software unit design\n",
      "those are the other chunks lemmatisation: implementation\n",
      "Found the Text on page 3 from the file : ISO_26262-6.pdf\n",
      "Found the Text on page 24 from the file : ISO_26262-6.pdf\n"
     ]
    }
   ],
   "source": [
    "# import required module\n",
    "import os\n",
    "import re\n",
    "import PyPDF2 \n",
    "import fitz\n",
    "\n",
    "# assign directory\n",
    "directory = 'C:/Users/XJS09914403/OneDrive - DRAEXLMAIER/Test'\n",
    "filename = 'ISO_26262-6.pdf'\n",
    "\n",
    "# iterate over files in\n",
    "# that directory\n",
    "Input = input(\"Enter_the_text_to_Search_here\")\n",
    "pattern = re.compile(Input)\n",
    "doc1 = nlp(Input)\n",
    "my_list1= []\n",
    "for token in doc1:\n",
    "    print(token.text, '\\t', token.pos_, '\\t', token.lemma, '\\t', token.lemma_)\n",
    "    my_list1.append(token.lemma_+'')\n",
    "    final = (' '.join(map(str, my_list1)))\n",
    "    Final = re.compile(final)\n",
    "    print(\"this is final\",final)\n",
    "    doc3 = nlp(final)\n",
    "    for chunk in doc3.noun_chunks:\n",
    "        print(\"those are the other chunks lemmatisation:\",chunk.text)\n",
    "if not filename.startswith('~$') and filename.endswith('.pdf'):\n",
    "    f = os.path.join(directory, filename)\n",
    "    doc = fitz.open(f)\n",
    "    page_count = len(doc)\n",
    "   \n",
    "    #print(page_count)\n",
    "    for i in range(0, page_count):\n",
    "        page = doc[i]\n",
    "        text = page.get_text(\"text\")\n",
    "        found = re.finditer(pattern, text)\n",
    "        #print(type(text))\n",
    "        #print(text)\n",
    "        if pattern.search(text) or Final.search(text):\n",
    "            print(\"Found the Text on page\",i+1, \"from the file :\", filename)"
   ]
  },
  {
   "cell_type": "code",
   "execution_count": null,
   "id": "8dd04228",
   "metadata": {},
   "outputs": [],
   "source": []
  }
 ],
 "metadata": {
  "kernelspec": {
   "display_name": "Python 3 (ipykernel)",
   "language": "python",
   "name": "python3"
  },
  "language_info": {
   "codemirror_mode": {
    "name": "ipython",
    "version": 3
   },
   "file_extension": ".py",
   "mimetype": "text/x-python",
   "name": "python",
   "nbconvert_exporter": "python",
   "pygments_lexer": "ipython3",
   "version": "3.9.12"
  }
 },
 "nbformat": 4,
 "nbformat_minor": 5
}
